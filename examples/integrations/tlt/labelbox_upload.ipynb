{
 "cells": [
  {
   "cell_type": "code",
   "execution_count": 3,
   "metadata": {},
   "outputs": [],
   "source": [
    "from labelbox import Client, Project, Dataset\n",
    "from labelbox import LabelingFrontend\n",
    "import json\n",
    "from collections import defaultdict\n",
    "from PIL import Image\n",
    "import cv2\n",
    "import datetime\n",
    "import os\n",
    "import uuid\n",
    "import numpy as np\n",
    "from tqdm import tqdm_gui"
   ]
  },
  {
   "cell_type": "code",
   "execution_count": 79,
   "metadata": {},
   "outputs": [],
   "source": [
    "#Download data from here: https://beerys.github.io/CaltechCameraTraps/\n",
    "#We used the small dataset\n",
    "data = json.load(open('CaltechCameraTrapsECCV18.json'))"
   ]
  },
  {
   "cell_type": "code",
   "execution_count": 80,
   "metadata": {},
   "outputs": [],
   "source": [
    "data['categories'] = {d['id'] : d for d in data['categories']}\n",
    "annotations = defaultdict(lambda: [])"
   ]
  },
  {
   "cell_type": "code",
   "execution_count": null,
   "metadata": {},
   "outputs": [],
   "source": [
    "#Unique sequence so the same animal isn't in the train and eval set by chance\n",
    "#We also want different seq_ids so that they are all from different sequences (not same animal)\n",
    "\n",
    "images = {}\n",
    "ids = set()\n",
    "for img in data['images']:\n",
    "    if img['seq_id'] in ids:\n",
    "        continue\n",
    "    ids.add(img['seq_id'])\n",
    "    images[img['id']] = img\n",
    "data['images'] = images"
   ]
  },
  {
   "cell_type": "code",
   "execution_count": 82,
   "metadata": {},
   "outputs": [
    {
     "name": "stdout",
     "output_type": "stream",
     "text": [
      "22719\n"
     ]
    }
   ],
   "source": [
    "print(len(data['images']))"
   ]
  },
  {
   "cell_type": "code",
   "execution_count": 83,
   "metadata": {},
   "outputs": [],
   "source": [
    "for annotation in data['annotations']:\n",
    "    if annotation.get('bbox') is None:\n",
    "        if annotation['image_id'] in data['images']:\n",
    "            del data['images'][annotation['image_id']]\n",
    "        continue\n",
    "    annotations[annotation['image_id']].append(annotation)"
   ]
  },
  {
   "cell_type": "code",
   "execution_count": 84,
   "metadata": {},
   "outputs": [],
   "source": [
    "\n",
    "def process_image(image):\n",
    "    date_time_obj = datetime.datetime.strptime(image['date_captured'], '%Y-%m-%d %H:%M:%S')\n",
    "    if (not ((18 > date_time_obj.hour > 7)) or (date_time_obj.hour == 12)):\n",
    "        #Only train on day time images\n",
    "        return\n",
    "    \n",
    "    annots = annotations[image['id']]\n",
    "    im = None \n",
    "    box_coords = []\n",
    "    \n",
    "    for annot in annots:\n",
    "        if not (data['categories'][annot['category_id']]['name'] in ['dog', 'cat', 'deer','bobcat', 'fox']):\n",
    "            return\n",
    "            \n",
    "        h, w = image['height'], image['width']\n",
    "        bbox = annot.get('bbox')\n",
    "        assert bbox is not None\n",
    "        \n",
    "        if bbox[0] < 50 or bbox[1] < 50:\n",
    "            #Ignore tiny bboxes\n",
    "            return\n",
    "        \n",
    "        if (w - (bbox[0] + bbox[2])) < 50 or (h - (bbox[1] + bbox[3])) < 50:\n",
    "            return \n",
    "        \n",
    "        if im is None:\n",
    "            im = np.array(Image.open(os.path.join('eccv_18_all_images_sm', image['file_name'])))\n",
    "            new_h, new_w = im.shape[:2]    \n",
    "            \n",
    "        scale = lambda x, y: (int((x / h) * new_h), int((y / w) * new_w))\n",
    "        start_pt = scale(bbox[0], bbox[1])\n",
    "        end_pt = scale(bbox[0] + bbox[2], bbox[1]+ bbox[3])\n",
    "        box_coords.append([start_pt, end_pt])\n",
    "    return im,box_coords, image['location']\n"
   ]
  },
  {
   "cell_type": "code",
   "execution_count": 85,
   "metadata": {},
   "outputs": [
    {
     "name": "stdout",
     "output_type": "stream",
     "text": [
      "Using matplotlib backend: MacOSX\n"
     ]
    },
    {
     "name": "stderr",
     "output_type": "stream",
     "text": [
      "<ipython-input-85-8ee3f7901962>:2: TqdmExperimentalWarning: GUI is experimental/alpha\n",
      "  examples = [process_image(ex) for ex in tqdm_gui(list(data['images'].values()))]\n"
     ]
    }
   ],
   "source": [
    "examples = [process_image(ex) for ex in tqdm_gui(list(data['images'].values()))]"
   ]
  },
  {
   "cell_type": "code",
   "execution_count": 86,
   "metadata": {},
   "outputs": [
    {
     "name": "stdout",
     "output_type": "stream",
     "text": [
      "1045\n"
     ]
    }
   ],
   "source": [
    "examples = [ex for ex in examples if ex is not None]\n",
    "print(len(examples))"
   ]
  },
  {
   "cell_type": "code",
   "execution_count": 87,
   "metadata": {},
   "outputs": [
    {
     "name": "stderr",
     "output_type": "stream",
     "text": [
      "<ipython-input-87-3eb47e8bac7b>:4: TqdmExperimentalWarning: GUI is experimental/alpha\n",
      "  for idx, example in tqdm_gui(enumerate(examples)):\n"
     ]
    }
   ],
   "source": [
    "#os.mkdir(\"uploaded_images\")\n",
    "#os.mkdir(\"labels\")\n",
    "image_paths = []\n",
    "for idx, example in tqdm_gui(enumerate(examples)):\n",
    "    imm, coords, location = example\n",
    "    image_path = os.path.join(\"uploaded_images\", f\"{idx}.jpg\")\n",
    "    image_paths.append(image_path)\n",
    "    Image.fromarray(imm).save(image_path)\n",
    "    with open(os.path.join(\"labels\", f\"{idx}.json\"), 'w') as file:\n",
    "        file.write(json.dumps({'coords' : coords, 'location' : location}))\n"
   ]
  },
  {
   "cell_type": "code",
   "execution_count": 5,
   "metadata": {},
   "outputs": [],
   "source": [
    "client = Client()\n",
    "project = list(client.get_projects(where = Project.name == \"animal_demo_proj\"))[0]\n",
    "#daaset = list(client.get_datasets(where = Dataset.name == \"animal_demo_ds\"))[0]"
   ]
  },
  {
   "cell_type": "code",
   "execution_count": 93,
   "metadata": {},
   "outputs": [
    {
     "data": {
      "text/plain": [
       "<Task ID: ckm4y6s2a28dq0712h0ytuedz>"
      ]
     },
     "execution_count": 93,
     "metadata": {},
     "output_type": "execute_result"
    }
   ],
   "source": [
    "project = client.create_project(name = \"animal_demo_proj\")\n",
    "dataset = client.create_dataset(name = \"animal_demo_ds\")\n",
    "project.datasets.connect(dataset)\n",
    "dataset.create_data_rows(image_paths)"
   ]
  },
  {
   "cell_type": "code",
   "execution_count": 12,
   "metadata": {},
   "outputs": [],
   "source": [
    "ontology = {'tools': [{'schemaNodeId': 'ckm3se1a5010x0y6r3hpsb0wc',\n",
    "   'featureSchemaId': 'ckm3se1a5010y0y6rcdc0bvvl',\n",
    "   'required': False,\n",
    "   'name': 'animal',\n",
    "   'tool': 'rectangle',\n",
    "   'color': '#1CE6FF',\n",
    "   'classifications': []}],\n",
    " 'classifications': [{'schemaNodeId': 'ckm3se1a4010v0y6rfe3b9s8t',\n",
    "   'featureSchemaId': 'ckm3se1a4010w0y6rd579gyl3',\n",
    "   'required': False,\n",
    "   'instructions': 'image',\n",
    "   'name': 'image',\n",
    "   'type': 'checklist',\n",
    "   'options': [{'schemaNodeId': 'ckm3se1aw010z0y6rdgaof1fu',\n",
    "     'featureSchemaId': 'ckm3se1aw01100y6rf8b59u51',\n",
    "     'label': 'difficult',\n",
    "     'value': 'difficult'},\n",
    "    {'schemaNodeId': 'ckm3se1aw01110y6rfx3benbx',\n",
    "     'featureSchemaId': 'ckm3se1aw01120y6r7zkcd93v',\n",
    "     'label': 'contains_human',\n",
    "     'value': 'contains_human'}]}]}"
   ]
  },
  {
   "cell_type": "code",
   "execution_count": 92,
   "metadata": {},
   "outputs": [],
   "source": [
    "editor = client.get_labeling_frontends(where=LabelingFrontend.name == \"Editor\")\n",
    "editor = list(editor)[0]\n",
    "project.setup(editor, ontology)"
   ]
  },
  {
   "cell_type": "code",
   "execution_count": 94,
   "metadata": {},
   "outputs": [],
   "source": [
    "def get_labels(dr):\n",
    "    label_name = dr.external_id.split('/')[-1].replace('.jpg', '.json')\n",
    "    label_name = f\"labels/{label_name}\"\n",
    "    labels = json.load(open(label_name))\n",
    "    return labels"
   ]
  },
  {
   "cell_type": "code",
   "execution_count": 95,
   "metadata": {},
   "outputs": [],
   "source": [
    "datarows = [dr for dr in list(project.datasets())[0].data_rows()]"
   ]
  },
  {
   "cell_type": "code",
   "execution_count": 96,
   "metadata": {},
   "outputs": [
    {
     "data": {
      "text/plain": [
       "{'coords': [[[679, 276], [821, 398]]], 'location': 38}"
      ]
     },
     "execution_count": 96,
     "metadata": {},
     "output_type": "execute_result"
    }
   ],
   "source": [
    "get_labels(datarows[0])"
   ]
  },
  {
   "cell_type": "code",
   "execution_count": 13,
   "metadata": {},
   "outputs": [],
   "source": [
    "featureSchemaId = ontology['tools'][0]['featureSchemaId']"
   ]
  },
  {
   "cell_type": "code",
   "execution_count": 14,
   "metadata": {},
   "outputs": [
    {
     "ename": "NameError",
     "evalue": "name 'datarows' is not defined",
     "output_type": "error",
     "traceback": [
      "\u001b[0;31m---------------------------------------------------------------------------\u001b[0m",
      "\u001b[0;31mNameError\u001b[0m                                 Traceback (most recent call last)",
      "\u001b[0;32m<ipython-input-14-06b5d926bc7d>\u001b[0m in \u001b[0;36m<module>\u001b[0;34m\u001b[0m\n\u001b[1;32m      1\u001b[0m \u001b[0mboxes\u001b[0m \u001b[0;34m=\u001b[0m \u001b[0;34m[\u001b[0m\u001b[0;34m]\u001b[0m\u001b[0;34m\u001b[0m\u001b[0;34m\u001b[0m\u001b[0m\n\u001b[0;32m----> 2\u001b[0;31m \u001b[0;32mfor\u001b[0m \u001b[0mdatarow\u001b[0m \u001b[0;32min\u001b[0m \u001b[0mdatarows\u001b[0m\u001b[0;34m:\u001b[0m\u001b[0;34m\u001b[0m\u001b[0;34m\u001b[0m\u001b[0m\n\u001b[0m\u001b[1;32m      3\u001b[0m     \u001b[0mlabel\u001b[0m \u001b[0;34m=\u001b[0m \u001b[0mget_labes\u001b[0m\u001b[0;34m(\u001b[0m\u001b[0mdatarow\u001b[0m\u001b[0;34m)\u001b[0m\u001b[0;34m[\u001b[0m\u001b[0;34m'coords'\u001b[0m\u001b[0;34m]\u001b[0m\u001b[0;34m[\u001b[0m\u001b[0;36m0\u001b[0m\u001b[0;34m]\u001b[0m\u001b[0;34m\u001b[0m\u001b[0;34m\u001b[0m\u001b[0m\n\u001b[1;32m      4\u001b[0m     row = {\n\u001b[1;32m      5\u001b[0m         \u001b[0;34m'uuid'\u001b[0m \u001b[0;34m:\u001b[0m \u001b[0mstr\u001b[0m\u001b[0;34m(\u001b[0m\u001b[0muuid\u001b[0m\u001b[0;34m.\u001b[0m\u001b[0muuid4\u001b[0m\u001b[0;34m(\u001b[0m\u001b[0;34m)\u001b[0m\u001b[0;34m)\u001b[0m\u001b[0;34m,\u001b[0m\u001b[0;34m\u001b[0m\u001b[0;34m\u001b[0m\u001b[0m\n",
      "\u001b[0;31mNameError\u001b[0m: name 'datarows' is not defined"
     ]
    }
   ],
   "source": [
    "boxes = []\n",
    "for datarow in datarows:\n",
    "    label = get_labes(datarow)['coords'][0]\n",
    "    row = {\n",
    "        'uuid' : str(uuid.uuid4()),\n",
    "        'schemaId' : featureSchemaId,\n",
    "        'dataRow' : {'id' : datarow.uid},\n",
    "        'bbox' : {\n",
    "            'top' : label[0][1],\n",
    "            'left' : label[0][0],\n",
    "            'height' : label[1][1] - label[0][1],\n",
    "            'width' : label[1][0] - label[0][0]            \n",
    "        }\n",
    "    }\n",
    "    boxes.append(row)\n",
    "    \n",
    "#Had a heart attack becauseI thought validation was wrong. But it saved me 30 min\n",
    "#Passed in datarow in stead of data_id.\n",
    "\n"
   ]
  },
  {
   "cell_type": "code",
   "execution_count": 101,
   "metadata": {},
   "outputs": [
    {
     "data": {
      "text/plain": [
       "<BulkImportRequest ID: 52e66228-6c37-4887-99b9-0c5dd13afc38>"
      ]
     },
     "execution_count": 101,
     "metadata": {},
     "output_type": "execute_result"
    }
   ],
   "source": [
    "project.upload_annotations(name = \"upload-2\", annotations = boxes)"
   ]
  },
  {
   "cell_type": "code",
   "execution_count": 103,
   "metadata": {},
   "outputs": [],
   "source": [
    "from labelbox.schema.bulk_import_request import BulkImportRequest"
   ]
  },
  {
   "cell_type": "code",
   "execution_count": 104,
   "metadata": {},
   "outputs": [],
   "source": [
    "upload_job = BulkImportRequest.from_name(client, project.uid, name = \"upload-1\")\n",
    "upload_job.wait_until_done()"
   ]
  }
 ],
 "metadata": {
  "kernelspec": {
   "display_name": "Python 3",
   "language": "python",
   "name": "python3"
  },
  "language_info": {
   "codemirror_mode": {
    "name": "ipython",
    "version": 3
   },
   "file_extension": ".py",
   "mimetype": "text/x-python",
   "name": "python",
   "nbconvert_exporter": "python",
   "pygments_lexer": "ipython3",
   "version": "3.8.6"
  }
 },
 "nbformat": 4,
 "nbformat_minor": 5
}
