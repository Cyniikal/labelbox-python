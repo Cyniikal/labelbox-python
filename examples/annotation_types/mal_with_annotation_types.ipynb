{
 "cells": [
  {
   "cell_type": "markdown",
   "id": "stupid-court",
   "metadata": {},
   "source": [
    "# MAL With Annotation Types\n",
    "* Image MAL with subclasses.\n",
    "* This is the same task as the image mal tutorial but we are going to add a subclass for whether or not the person in the image is holding a bag."
   ]
  },
  {
   "cell_type": "code",
   "execution_count": 1,
   "id": "danish-compatibility",
   "metadata": {},
   "outputs": [],
   "source": [
    "!pip labelbox[data] == 3.0b0"
   ]
  },
  {
   "cell_type": "code",
   "execution_count": 2,
   "id": "honey-elevation",
   "metadata": {},
   "outputs": [],
   "source": [
    "# Run these if running in a colab notebook\n",
    "COLAB = \"google.colab\" in str(get_ipython())\n",
    "if COLAB:\n",
    "    !git clone https://github.com/Labelbox/labelbox-python.git\n",
    "    !mv labelbox-python/examples/model_assisted_labeling/image_model.py .\n",
    "else:\n",
    "    import sys\n",
    "    sys.path.append('../model_assisted_labeling')"
   ]
  },
  {
   "cell_type": "code",
   "execution_count": 3,
   "id": "committed-richards",
   "metadata": {},
   "outputs": [],
   "source": [
    "#Used this as a reference for the model\n",
    "#https://colab.research.google.com/github/tensorflow/tpu/blob/master/models/official/mask_rcnn/mask_rcnn_demo.ipynb#scrollTo=6lCL-ZcwaJbA\n",
    "from labelbox.schema.ontology import OntologyBuilder, Tool, Classification, Option\n",
    "from labelbox import Client, LabelingFrontend\n",
    "from labelbox.data.annotation_types import (\n",
    "    LabelList,\n",
    "    RasterData,\n",
    "    Rectangle,\n",
    "    ObjectAnnotation,\n",
    "    ClassificationAnnotation,\n",
    "    Point,\n",
    "    ClassificationAnswer,\n",
    "    Radio,\n",
    "    Mask,\n",
    "    Label\n",
    ")\n",
    "from labelbox.data.serialization import NDJsonConverter\n",
    "from image_model import predict, class_mappings, load_model\n",
    "from typing import Dict, Any, Tuple, List\n",
    "import numpy as np\n",
    "from PIL import Image\n",
    "import requests\n",
    "import ndjson\n",
    "import uuid\n",
    "from io import BytesIO\n",
    "import os\n",
    "from getpass import getpass"
   ]
  },
  {
   "cell_type": "code",
   "execution_count": 4,
   "id": "hydraulic-paradise",
   "metadata": {},
   "outputs": [],
   "source": [
    "# If you don't want to give google access to drive you can skip this cell\n",
    "# and manually set `API_KEY` below.\n",
    "if COLAB:\n",
    "    !pip install colab-env -qU\n",
    "    from colab_env import envvar_handler\n",
    "    envvar_handler.envload()\n",
    "\n",
    "API_KEY = os.environ.get(\"LABELBOX_API_KEY\")\n",
    "if not os.environ.get(\"LABELBOX_API_KEY\"):\n",
    "    API_KEY = getpass(\"Please enter your labelbox api key\")\n",
    "    if COLAB:\n",
    "        envvar_handler.add_env(\"LABELBOX_API_KEY\", API_KEY)"
   ]
  },
  {
   "cell_type": "code",
   "execution_count": 5,
   "id": "exclusive-elephant",
   "metadata": {},
   "outputs": [],
   "source": [
    "# Set this if running in colab. Otherwise it should work if you have the LABELBOX_API_KEY set.\n",
    "API_KEY = os.environ[\"LABELBOX_API_KEY\"]\n",
    "# Only update this if you have an on-prem deployment\n",
    "ENDPOINT = \"https://api.labelbox.com/graphql\""
   ]
  },
  {
   "cell_type": "code",
   "execution_count": 6,
   "id": "polyphonic-consensus",
   "metadata": {},
   "outputs": [],
   "source": [
    "client = Client(api_key=API_KEY, endpoint=ENDPOINT)"
   ]
  },
  {
   "cell_type": "code",
   "execution_count": 7,
   "id": "emotional-origin",
   "metadata": {},
   "outputs": [
    {
     "name": "stdout",
     "output_type": "stream",
     "text": [
      "WARNING:tensorflow:From ../model_assisted_labeling/image_model.py:17: load (from tensorflow.python.saved_model.loader_impl) is deprecated and will be removed in a future version.\n",
      "Instructions for updating:\n",
      "This function will only be available through the v1 compatibility library as tf.compat.v1.saved_model.loader.load or tf.compat.v1.saved_model.load. There will be a new function for importing SavedModels in Tensorflow 2.0.\n",
      "INFO:tensorflow:Restoring parameters from gs://cloud-tpu-checkpoints/mask-rcnn/1555659850/variables/variables\n"
     ]
    }
   ],
   "source": [
    "#Downloads weights and loads the model.\n",
    "load_model()"
   ]
  },
  {
   "cell_type": "markdown",
   "id": "polish-soundtrack",
   "metadata": {},
   "source": [
    "## Create Predictions\n",
    "* Create helper functions for processing the model outputs\n",
    "* Make predictions\n",
    "* Add predictions to a LabelList object"
   ]
  },
  {
   "cell_type": "code",
   "execution_count": 8,
   "id": "interested-joyce",
   "metadata": {},
   "outputs": [],
   "source": [
    "def has_bag(person, bags):\n",
    "    for bag in bags:\n",
    "        if person.value.shapely.contains(bag.value.shapely.centroid):\n",
    "            return True\n",
    "    return False    \n",
    "\n",
    "def get_annotations(boxes, classes, seg_masks):\n",
    "    annotations = []\n",
    "    for box, class_idx, seg in zip(boxes, classes, seg_masks):\n",
    "        name = class_mappings[class_idx]\n",
    "        value = None\n",
    "        classifications = []\n",
    "        if name in ['person', 'handbag']:\n",
    "            value = Rectangle(\n",
    "                start = Point(x = box[1], y = box[0]), end = Point(x = box[3], y = box[2])\n",
    "            )\n",
    "        elif name == 'car':\n",
    "            value = Mask(mask = RasterData.from_2D_arr(arr = seg), color = (1,1,1))\n",
    "        if value is not None:\n",
    "            annotations.append(\n",
    "                ObjectAnnotation(\n",
    "                    name = name,\n",
    "                    value = value\n",
    "                )\n",
    "            ) \n",
    "    return annotations\n",
    "\n",
    "def update_bag_classifications(annotations):\n",
    "    bags = [annot for annot in annotations if annot.name == 'handbag']\n",
    "    people = [annot for annot in annotations if annot.name == 'person']\n",
    "    for person in people:\n",
    "        person.classifications = [ClassificationAnnotation(\n",
    "            name = 'has_bag',\n",
    "            value = Radio(answer = ClassificationAnswer(name = str(has_bag(person, bags))))\n",
    "        )]\n"
   ]
  },
  {
   "cell_type": "code",
   "execution_count": 9,
   "id": "interstate-louisiana",
   "metadata": {},
   "outputs": [],
   "source": [
    "### We can just start creating predictions whether or not we have a \n",
    "image_urls = ['https://raw.githubusercontent.com/Labelbox/labelbox-python/develop/examples/assets/2560px-Kitano_Street_Kobe01s5s4110.jpg']\n",
    "\n",
    "labellist = LabelList([])\n",
    "\n",
    "for image_url in image_urls:\n",
    "    image_data = RasterData(url = image_url)\n",
    "    height, width = image_data.data.shape[:2]\n",
    "    prediction = predict(np.array([image_data.im_bytes]), min_score=0.5, height=height, width = width)\n",
    "    annotations = get_annotations(prediction['boxes'], prediction['class_indices'], prediction['seg_masks'])\n",
    "    update_bag_classifications(annotations)\n",
    "    labellist.append(Label(\n",
    "        data = image_data,\n",
    "        annotations = annotations\n",
    "    ))"
   ]
  },
  {
   "cell_type": "markdown",
   "id": "blessed-venture",
   "metadata": {},
   "source": [
    "## Project Setup\n",
    "* Create project\n",
    "* Use labellist.get_ontology() to automatically create the OntologyBuilder"
   ]
  },
  {
   "cell_type": "code",
   "execution_count": 10,
   "id": "modern-program",
   "metadata": {},
   "outputs": [
    {
     "data": {
      "text/plain": [
       "True"
      ]
     },
     "execution_count": 10,
     "metadata": {},
     "output_type": "execute_result"
    }
   ],
   "source": [
    "# Lets setup a project to label\n",
    "# Note see Ontology, Project, and Project_setup notebooks for more information on this section.\n",
    "project = client.create_project(name=\"mal_project\")\n",
    "dataset = client.create_dataset(name=\"mal_dataset\")\n",
    "editor = next(\n",
    "    client.get_labeling_frontends(where=LabelingFrontend.name == 'editor'))\n",
    "# Use the label collection to build the ontology\n",
    "project.setup(editor, labellist.get_ontology().asdict())\n",
    "project.datasets.connect(dataset)\n",
    "project.enable_model_assisted_labeling()"
   ]
  },
  {
   "cell_type": "markdown",
   "id": "mechanical-functionality",
   "metadata": {},
   "source": [
    "## Add ids required for MAL\n",
    "* Use helper functions to add urls to images and seg masks, assign schema ids to features, and add all data rows to the dataset."
   ]
  },
  {
   "cell_type": "code",
   "execution_count": 11,
   "id": "vietnamese-kingdom",
   "metadata": {},
   "outputs": [
    {
     "name": "stderr",
     "output_type": "stream",
     "text": [
      "1it [00:02,  2.06s/it]\n",
      "1it [00:00, 11366.68it/s]\n",
      "1it [00:00, 9020.01it/s]\n"
     ]
    },
    {
     "data": {
      "text/plain": [
       "<labelbox.data.annotation_types.collection.LabelList at 0x18855b040>"
      ]
     },
     "execution_count": 11,
     "metadata": {},
     "output_type": "execute_result"
    }
   ],
   "source": [
    "signer = lambda _bytes: client.upload_data(content=_bytes, sign=True)\n",
    "labellist.add_url_to_masks(signer) \\\n",
    "         .add_url_to_data(signer) \\\n",
    "         .assign_schema_ids(OntologyBuilder.from_project(project)) \\\n",
    "         .add_to_dataset(dataset, signer)"
   ]
  },
  {
   "cell_type": "markdown",
   "id": "portable-grenada",
   "metadata": {},
   "source": [
    "## Convert to Prediction import format (NDJson)\n",
    "* We want to create a json payload that matches this: https://docs.labelbox.com/data-model/en/index-en#annotations\n",
    "* We can use the NDJsonConverter to turn our labellist containg predictions into ndjson"
   ]
  },
  {
   "cell_type": "code",
   "execution_count": 12,
   "id": "multiple-values",
   "metadata": {},
   "outputs": [
    {
     "name": "stdout",
     "output_type": "stream",
     "text": [
      "{'uuid': '2f708795-c8bf-4793-88d6-18ab57193466', 'dataRow': {'id': 'ckros561421gc0zu0eoae5ume'}, 'schemaId': 'ckros4zfh2jjq0z8b6jq8h8u5', 'classifications': [{'schemaId': 'ckros4zg72jjw0z8ba10r0ozr', 'answer': {'schemaId': 'ckros4zgx2jjy0z8bbyuv6z1o'}}], 'bbox': {'top': 1352.3682861328125, 'left': 2275.82861328125, 'height': 350.1317138671875, 'width': 139.7919921875}}\n"
     ]
    }
   ],
   "source": [
    "ndjsons = list(NDJsonConverter.serialize(labellist))\n",
    "print(ndjsons[0])"
   ]
  },
  {
   "cell_type": "markdown",
   "id": "dried-library",
   "metadata": {},
   "source": [
    "## Upload the annotations"
   ]
  },
  {
   "cell_type": "code",
   "execution_count": 13,
   "id": "deluxe-behavior",
   "metadata": {},
   "outputs": [],
   "source": [
    "upload_task = project.upload_annotations(name=f\"upload-job-{uuid.uuid4()}\",\n",
    "                                         annotations=ndjsons,\n",
    "                                         validate=True)\n",
    "# Wait for upload to finish\n",
    "upload_task.wait_until_done()"
   ]
  },
  {
   "cell_type": "code",
   "execution_count": 14,
   "id": "clean-friday",
   "metadata": {},
   "outputs": [
    {
     "name": "stdout",
     "output_type": "stream",
     "text": [
      "{'uuid': '2f708795-c8bf-4793-88d6-18ab57193466', 'dataRow': {'id': 'ckros561421gc0zu0eoae5ume'}, 'status': 'SUCCESS'}\n",
      "{'uuid': '383e8da0-ae5d-47d8-8a13-767a03270d40', 'dataRow': {'id': 'ckros561421gc0zu0eoae5ume'}, 'status': 'SUCCESS'}\n",
      "{'uuid': 'e66676df-eba3-4231-82c7-5870f4e587be', 'dataRow': {'id': 'ckros561421gc0zu0eoae5ume'}, 'status': 'SUCCESS'}\n",
      "{'uuid': 'ba1e748b-3bcc-41f1-b5d6-f7c420c95b14', 'dataRow': {'id': 'ckros561421gc0zu0eoae5ume'}, 'status': 'SUCCESS'}\n",
      "{'uuid': '4ce19f3a-7d81-420c-a830-47eda0034fc7', 'dataRow': {'id': 'ckros561421gc0zu0eoae5ume'}, 'status': 'SUCCESS'}\n",
      "{'uuid': '3491fa2f-39cb-4582-b2e4-c7196a3bb37e', 'dataRow': {'id': 'ckros561421gc0zu0eoae5ume'}, 'status': 'SUCCESS'}\n",
      "{'uuid': '97d17219-9f3e-4c6e-af7a-0c263445405b', 'dataRow': {'id': 'ckros561421gc0zu0eoae5ume'}, 'status': 'SUCCESS'}\n",
      "{'uuid': 'b829c83b-8741-4ea4-9f98-0478fdde2bf0', 'dataRow': {'id': 'ckros561421gc0zu0eoae5ume'}, 'status': 'SUCCESS'}\n",
      "{'uuid': '36747eee-714e-424d-a9ff-65951f32c15c', 'dataRow': {'id': 'ckros561421gc0zu0eoae5ume'}, 'status': 'SUCCESS'}\n",
      "{'uuid': '68889fc5-2f10-4929-8c7b-8e4301cf17bf', 'dataRow': {'id': 'ckros561421gc0zu0eoae5ume'}, 'status': 'SUCCESS'}\n",
      "{'uuid': 'b7a6025d-fd8a-46e8-a24d-2340be021d69', 'dataRow': {'id': 'ckros561421gc0zu0eoae5ume'}, 'status': 'SUCCESS'}\n",
      "{'uuid': 'e8a46ebc-30ac-41bd-b0b9-042b99774dc3', 'dataRow': {'id': 'ckros561421gc0zu0eoae5ume'}, 'status': 'SUCCESS'}\n",
      "{'uuid': 'ba1d40b9-eb6d-4eae-babc-08e14b76eedc', 'dataRow': {'id': 'ckros561421gc0zu0eoae5ume'}, 'status': 'SUCCESS'}\n",
      "{'uuid': 'd81bea0a-baf1-4a70-902c-e2f251cb82d2', 'dataRow': {'id': 'ckros561421gc0zu0eoae5ume'}, 'status': 'SUCCESS'}\n",
      "{'uuid': '9bf9337f-1550-4dc8-b969-f9c294a44355', 'dataRow': {'id': 'ckros561421gc0zu0eoae5ume'}, 'status': 'SUCCESS'}\n",
      "{'uuid': '0dd0d47e-f512-46c2-a670-62044085b01b', 'dataRow': {'id': 'ckros561421gc0zu0eoae5ume'}, 'status': 'SUCCESS'}\n",
      "{'uuid': '7196cc1d-b8e5-4ad3-bc28-d33c83dbd8c2', 'dataRow': {'id': 'ckros561421gc0zu0eoae5ume'}, 'status': 'SUCCESS'}\n",
      "{'uuid': '51e67fba-d5f2-44b1-835a-71d66365411c', 'dataRow': {'id': 'ckros561421gc0zu0eoae5ume'}, 'status': 'SUCCESS'}\n",
      "{'uuid': '90d8e3e9-5184-4500-8b9c-dc690e20e6e9', 'dataRow': {'id': 'ckros561421gc0zu0eoae5ume'}, 'status': 'SUCCESS'}\n",
      "{'uuid': 'ed2f9581-5dc7-4748-ab1e-28c85b601ba5', 'dataRow': {'id': 'ckros561421gc0zu0eoae5ume'}, 'status': 'SUCCESS'}\n",
      "{'uuid': '7ba3b5b6-3ec3-4fe5-ba7a-bc6edf017af7', 'dataRow': {'id': 'ckros561421gc0zu0eoae5ume'}, 'status': 'SUCCESS'}\n",
      "{'uuid': '72555669-9899-4e5f-a683-f7676aa9ac4a', 'dataRow': {'id': 'ckros561421gc0zu0eoae5ume'}, 'status': 'SUCCESS'}\n",
      "{'uuid': 'b0cbc556-ce6b-459f-9420-f1146c97a944', 'dataRow': {'id': 'ckros561421gc0zu0eoae5ume'}, 'status': 'SUCCESS'}\n",
      "{'uuid': '1f17e1c1-9b48-4638-9bdc-3f62a1cba83e', 'dataRow': {'id': 'ckros561421gc0zu0eoae5ume'}, 'status': 'SUCCESS'}\n",
      "{'uuid': 'a9e2340c-22d2-4469-bffe-1a546816b621', 'dataRow': {'id': 'ckros561421gc0zu0eoae5ume'}, 'status': 'SUCCESS'}\n",
      "{'uuid': '4772a3df-8072-4e33-a6c9-36e94470a8b2', 'dataRow': {'id': 'ckros561421gc0zu0eoae5ume'}, 'status': 'SUCCESS'}\n",
      "{'uuid': '40302e2c-d8ae-41b8-8069-86e62dfff3d4', 'dataRow': {'id': 'ckros561421gc0zu0eoae5ume'}, 'status': 'SUCCESS'}\n",
      "{'uuid': '892aa14a-7b37-4f23-a014-20f37b45c17a', 'dataRow': {'id': 'ckros561421gc0zu0eoae5ume'}, 'status': 'SUCCESS'}\n",
      "{'uuid': 'bc6a665f-95c2-450c-a2bb-d9578e8f5b5a', 'dataRow': {'id': 'ckros561421gc0zu0eoae5ume'}, 'status': 'SUCCESS'}\n",
      "{'uuid': 'eb2c61a4-fce8-400e-b981-19f03b5a38ed', 'dataRow': {'id': 'ckros561421gc0zu0eoae5ume'}, 'status': 'SUCCESS'}\n",
      "{'uuid': '3f22c739-33ff-4673-a7bb-953aed76e2b2', 'dataRow': {'id': 'ckros561421gc0zu0eoae5ume'}, 'status': 'SUCCESS'}\n",
      "{'uuid': '12eaaf77-d7e3-4375-bdc8-2e1588c718d5', 'dataRow': {'id': 'ckros561421gc0zu0eoae5ume'}, 'status': 'SUCCESS'}\n",
      "{'uuid': '0713fea3-d2e5-4ed4-b722-a6a65c19afc0', 'dataRow': {'id': 'ckros561421gc0zu0eoae5ume'}, 'status': 'SUCCESS'}\n",
      "{'uuid': '4a629d43-f576-4a7e-b64e-870d3309a98d', 'dataRow': {'id': 'ckros561421gc0zu0eoae5ume'}, 'status': 'SUCCESS'}\n",
      "{'uuid': '5010efef-e45f-4cbe-a92e-86a62962d6e9', 'dataRow': {'id': 'ckros561421gc0zu0eoae5ume'}, 'status': 'SUCCESS'}\n",
      "{'uuid': '41ded899-3a7c-47a4-9e37-1362e5a8d486', 'dataRow': {'id': 'ckros561421gc0zu0eoae5ume'}, 'status': 'SUCCESS'}\n"
     ]
    }
   ],
   "source": [
    "# Review the upload status\n",
    "for status in upload_task.statuses:\n",
    "    print(status)"
   ]
  },
  {
   "cell_type": "code",
   "execution_count": null,
   "id": "micro-salem",
   "metadata": {},
   "outputs": [],
   "source": []
  }
 ],
 "metadata": {
  "kernelspec": {
   "display_name": "Python 3",
   "language": "python",
   "name": "python3"
  },
  "language_info": {
   "codemirror_mode": {
    "name": "ipython",
    "version": 3
   },
   "file_extension": ".py",
   "mimetype": "text/x-python",
   "name": "python",
   "nbconvert_exporter": "python",
   "pygments_lexer": "ipython3",
   "version": "3.8.2"
  }
 },
 "nbformat": 4,
 "nbformat_minor": 5
}
