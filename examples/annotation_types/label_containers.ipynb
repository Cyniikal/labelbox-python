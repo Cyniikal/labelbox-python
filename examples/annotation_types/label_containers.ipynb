{
 "cells": [
  {
   "cell_type": "markdown",
   "id": "manufactured-blame",
   "metadata": {},
   "source": [
    "# Label Containers\n",
    "* There are two high level containers for labels\n",
    "    1. LabelCollection\n",
    "    2. LabelGenerator\n",
    "* Tools that are built to convert between formats, help with etl, and model training all will operate on these containers\n",
    "* Make sure to read basics. Explanations are not repeated here"
   ]
  },
  {
   "cell_type": "code",
   "execution_count": 34,
   "id": "freelance-party",
   "metadata": {},
   "outputs": [
    {
     "name": "stdout",
     "output_type": "stream",
     "text": [
      "WARNING: pip is being invoked by an old script wrapper. This will fail in a future version of pip.\n",
      "Please see https://github.com/pypa/pip/issues/5599 for advice on fixing the underlying issue.\n",
      "To avoid this problem you can invoke Python with '-m pip' instead of running pip directly.\n",
      "/Users/matthewsokoloff/Library/Python/3.8/lib/python/site-packages/pip/_internal/commands/install.py:230: UserWarning: Disabling all use of wheels due to the use of --build-option / --global-option / --install-option.\n",
      "  cmdoptions.check_install_build_global(options)\n",
      "Defaulting to user installation because normal site-packages is not writeable\n",
      "Looking in indexes: https://pypi.org/simple, https://pypi.ngc.nvidia.com\n",
      "Collecting git+https://github.com/Labelbox/labelbox-python.git@ms/annotation-examples\n",
      "  Cloning https://github.com/Labelbox/labelbox-python.git (to revision ms/annotation-examples) to /private/var/folders/nt/wvdpx13s7hd7dwj64cdg9gkc0000gn/T/pip-req-build-ky_lm4ye\n",
      "  Running command git clone -q https://github.com/Labelbox/labelbox-python.git /private/var/folders/nt/wvdpx13s7hd7dwj64cdg9gkc0000gn/T/pip-req-build-ky_lm4ye\n",
      "  Running command git checkout -b ms/annotation-examples --track origin/ms/annotation-examples\n",
      "  Switched to a new branch 'ms/annotation-examples'\n",
      "  Branch 'ms/annotation-examples' set up to track remote branch 'ms/annotation-examples' from 'origin'.\n",
      "Requirement already satisfied: backoff==1.10.0 in /Users/matthewsokoloff/Library/Python/3.8/lib/python/site-packages (from labelbox==2.7.0) (1.10.0)\n",
      "Requirement already satisfied: ndjson==0.3.1 in /Users/matthewsokoloff/Library/Python/3.8/lib/python/site-packages (from labelbox==2.7.0) (0.3.1)\n",
      "Requirement already satisfied: requests>=2.22.0 in /Users/matthewsokoloff/Library/Python/3.8/lib/python/site-packages (from labelbox==2.7.0) (2.25.1)\n",
      "Requirement already satisfied: google-api-core>=1.22.1 in /Users/matthewsokoloff/Library/Python/3.8/lib/python/site-packages (from labelbox==2.7.0) (1.25.1)\n",
      "Requirement already satisfied: pydantic<2.0,>=1.8 in /Users/matthewsokoloff/Library/Python/3.8/lib/python/site-packages (from labelbox==2.7.0) (1.8)\n",
      "Requirement already satisfied: shapely in /Users/matthewsokoloff/Library/Python/3.8/lib/python/site-packages (from labelbox==2.7.0) (1.7.1)\n",
      "Requirement already satisfied: geojson in /Users/matthewsokoloff/Library/Python/3.8/lib/python/site-packages (from labelbox==2.7.0) (2.5.0)\n",
      "Requirement already satisfied: numpy in /Users/matthewsokoloff/Library/Python/3.8/lib/python/site-packages (from labelbox==2.7.0) (1.19.5)\n",
      "Requirement already satisfied: rasterio in /Users/matthewsokoloff/Library/Python/3.8/lib/python/site-packages (from labelbox==2.7.0) (1.2.3)\n",
      "Requirement already satisfied: PILLOW in /Users/matthewsokoloff/Library/Python/3.8/lib/python/site-packages (from labelbox==2.7.0) (8.1.0)\n",
      "Requirement already satisfied: opencv-python in /Users/matthewsokoloff/Library/Python/3.8/lib/python/site-packages (from labelbox==2.7.0) (4.5.1.48)\n",
      "Requirement already satisfied: typeguard in /Users/matthewsokoloff/Library/Python/3.8/lib/python/site-packages (from labelbox==2.7.0) (2.12.1)\n",
      "Requirement already satisfied: tqdm in /Users/matthewsokoloff/Library/Python/3.8/lib/python/site-packages (from labelbox==2.7.0) (4.56.0)\n",
      "Requirement already satisfied: setuptools>=40.3.0 in /Library/Developer/CommandLineTools/Library/Frameworks/Python3.framework/Versions/3.8/lib/python3.8/site-packages (from google-api-core>=1.22.1->labelbox==2.7.0) (41.2.0)\n",
      "Requirement already satisfied: six>=1.13.0 in /Library/Developer/CommandLineTools/Library/Frameworks/Python3.framework/Versions/3.8/lib/python3.8/site-packages (from google-api-core>=1.22.1->labelbox==2.7.0) (1.15.0)\n",
      "Requirement already satisfied: googleapis-common-protos<2.0dev,>=1.6.0 in /Users/matthewsokoloff/Library/Python/3.8/lib/python/site-packages (from google-api-core>=1.22.1->labelbox==2.7.0) (1.52.0)\n",
      "Requirement already satisfied: pytz in /Users/matthewsokoloff/Library/Python/3.8/lib/python/site-packages (from google-api-core>=1.22.1->labelbox==2.7.0) (2020.5)\n",
      "Requirement already satisfied: protobuf>=3.12.0 in /Users/matthewsokoloff/Library/Python/3.8/lib/python/site-packages (from google-api-core>=1.22.1->labelbox==2.7.0) (3.14.0)\n",
      "Requirement already satisfied: google-auth<2.0dev,>=1.21.1 in /Users/matthewsokoloff/Library/Python/3.8/lib/python/site-packages (from google-api-core>=1.22.1->labelbox==2.7.0) (1.24.0)\n",
      "Requirement already satisfied: cachetools<5.0,>=2.0.0 in /Users/matthewsokoloff/Library/Python/3.8/lib/python/site-packages (from google-auth<2.0dev,>=1.21.1->google-api-core>=1.22.1->labelbox==2.7.0) (4.2.1)\n",
      "Requirement already satisfied: pyasn1-modules>=0.2.1 in /Users/matthewsokoloff/Library/Python/3.8/lib/python/site-packages (from google-auth<2.0dev,>=1.21.1->google-api-core>=1.22.1->labelbox==2.7.0) (0.2.8)\n",
      "Requirement already satisfied: rsa<5,>=3.1.4 in /Users/matthewsokoloff/Library/Python/3.8/lib/python/site-packages (from google-auth<2.0dev,>=1.21.1->google-api-core>=1.22.1->labelbox==2.7.0) (4.7)\n",
      "Requirement already satisfied: pyasn1<0.5.0,>=0.4.6 in /Users/matthewsokoloff/Library/Python/3.8/lib/python/site-packages (from pyasn1-modules>=0.2.1->google-auth<2.0dev,>=1.21.1->google-api-core>=1.22.1->labelbox==2.7.0) (0.4.8)\n",
      "Requirement already satisfied: typing-extensions>=3.7.4.3 in /Users/matthewsokoloff/Library/Python/3.8/lib/python/site-packages (from pydantic<2.0,>=1.8->labelbox==2.7.0) (3.7.4.3)\n",
      "Requirement already satisfied: urllib3<1.27,>=1.21.1 in /Users/matthewsokoloff/Library/Python/3.8/lib/python/site-packages (from requests>=2.22.0->labelbox==2.7.0) (1.25.10)\n",
      "Requirement already satisfied: certifi>=2017.4.17 in /Users/matthewsokoloff/Library/Python/3.8/lib/python/site-packages (from requests>=2.22.0->labelbox==2.7.0) (2020.6.20)\n",
      "Requirement already satisfied: chardet<5,>=3.0.2 in /Users/matthewsokoloff/Library/Python/3.8/lib/python/site-packages (from requests>=2.22.0->labelbox==2.7.0) (3.0.4)\n",
      "Requirement already satisfied: idna<3,>=2.5 in /Users/matthewsokoloff/Library/Python/3.8/lib/python/site-packages (from requests>=2.22.0->labelbox==2.7.0) (2.10)\n",
      "Requirement already satisfied: snuggs>=1.4.1 in /Users/matthewsokoloff/Library/Python/3.8/lib/python/site-packages (from rasterio->labelbox==2.7.0) (1.4.7)\n",
      "Requirement already satisfied: click<8,>=4.0 in /Users/matthewsokoloff/Library/Python/3.8/lib/python/site-packages (from rasterio->labelbox==2.7.0) (7.1.2)\n",
      "Requirement already satisfied: affine in /Users/matthewsokoloff/Library/Python/3.8/lib/python/site-packages (from rasterio->labelbox==2.7.0) (2.3.0)\n",
      "Requirement already satisfied: click-plugins in /Users/matthewsokoloff/Library/Python/3.8/lib/python/site-packages (from rasterio->labelbox==2.7.0) (1.1.1)\n",
      "Requirement already satisfied: attrs in /Users/matthewsokoloff/Library/Python/3.8/lib/python/site-packages (from rasterio->labelbox==2.7.0) (20.3.0)\n",
      "Requirement already satisfied: cligj>=0.5 in /Users/matthewsokoloff/Library/Python/3.8/lib/python/site-packages (from rasterio->labelbox==2.7.0) (0.7.1)\n",
      "Requirement already satisfied: pyparsing>=2.1.6 in /Users/matthewsokoloff/Library/Python/3.8/lib/python/site-packages (from snuggs>=1.4.1->rasterio->labelbox==2.7.0) (2.4.7)\n",
      "\u001b[33mWARNING: You are using pip version 21.0.1; however, version 21.1.3 is available.\n",
      "You should consider upgrading via the '/Library/Developer/CommandLineTools/usr/bin/python3 -m pip install --upgrade pip' command.\u001b[0m\n"
     ]
    }
   ],
   "source": [
    "!pip3 install --install-option='extras-require=data' git+https://github.com/Labelbox/labelbox-python.git@ms/annotation-examples"
   ]
  },
  {
   "cell_type": "code",
   "execution_count": null,
   "id": "organized-profession",
   "metadata": {},
   "outputs": [],
   "source": [
    "from labelbox import Client\n",
    "from labelbox.data.annotation_types import LabelCollection, LabelGenerator\n",
    "\n",
    "from labelbox.schema.ontology import OntologyBuilder, Tool, Classification, Option\n",
    "from labelbox import LabelingFrontend\n",
    "from labelbox.data.annotation_types import (\n",
    "    Label, \n",
    "    RasterData, \n",
    "    Mask, \n",
    "    Point, \n",
    "    Polygon, \n",
    "    ClassificationAnswer, \n",
    "    Radio, \n",
    "    Checklist, \n",
    "    ObjectAnnotation, \n",
    "    ClassificationAnnotation\n",
    ")\n",
    "import numpy as np\n",
    "import requests"
   ]
  },
  {
   "cell_type": "code",
   "execution_count": null,
   "id": "nonprofit-listing",
   "metadata": {},
   "outputs": [],
   "source": [
    "# If you don't want to give google access to drive you can skip this cell\n",
    "# and manually set `API_KEY` below.\n",
    "\n",
    "if COLAB:\n",
    "    !pip install colab-env -qU\n",
    "    from colab_env import envvar_handler\n",
    "    envvar_handler.envload()\n",
    "\n",
    "API_KEY = os.environ.get(\"LABELBOX_API_KEY\")\n",
    "if not os.environ.get(\"LABELBOX_API_KEY\"):\n",
    "    API_KEY = getpass(\"Please enter your labelbox api key\")\n",
    "    if COLAB:\n",
    "        envvar_handler.add_env(\"LABELBOX_API_KEY\", API_KEY)"
   ]
  },
  {
   "cell_type": "code",
   "execution_count": null,
   "id": "every-civilian",
   "metadata": {},
   "outputs": [],
   "source": [
    "# Only update this if you have an on-prem deployment\n",
    "ENDPOINT = \"https://api.labelbox.com/graphql\"\n",
    "\n",
    "client = Client(api_key=API_KEY, endpoint=ENDPOINT)"
   ]
  },
  {
   "cell_type": "code",
   "execution_count": null,
   "id": "foreign-queensland",
   "metadata": {},
   "outputs": [],
   "source": [
    "client = Client()"
   ]
  },
  {
   "cell_type": "markdown",
   "id": "fabulous-palace",
   "metadata": {},
   "source": [
    "#### Helper Functions\n",
    "* See annotation_type_basics for details on this"
   ]
  },
  {
   "cell_type": "code",
   "execution_count": 14,
   "id": "mexican-pathology",
   "metadata": {},
   "outputs": [],
   "source": [
    "def signing_function(obj_bytes: bytes) -> str:\n",
    "    # Do not use this signer. You will not be able to resign these images at a later date.\n",
    "    url = client.upload_data(content=obj_bytes, sign=True)\n",
    "    return url"
   ]
  },
  {
   "cell_type": "code",
   "execution_count": null,
   "id": "governmental-singapore",
   "metadata": {},
   "outputs": [],
   "source": [
    "def get_polygon():\n",
    "    # Given some polygon:\n",
    "    xy_poly = [\n",
    "        [60, 161], [67, 177], [76, 180], [77, 222], [82, 246], [78, 291], [72, 300], [87, 300], \n",
    "        [94, 244], [103, 243], [100, 269], [90, 290], [95, 296], [104, 292], [108, 272], \n",
    "        [111, 300], [121, 300], [117, 244], [128, 236], [133, 298], [142, 297], [137, 250], \n",
    "        [146, 208], [138, 185], [120, 180], [105, 189], [112, 162], [93, 156], [72, 160], \n",
    "    ]\n",
    "    return Polygon(points = [Point(x = x, y = y) for x,y in xy_poly])\n",
    "\n",
    "\n",
    "def get_labels():\n",
    "    im_h, im_w = 300, 200\n",
    "    image_url = \"https://picsum.photos/id/1003/200/300\"\n",
    "    nose_color, eye_color = 128, 255\n",
    "    nose_mask = Point(x = 96, y = 194).raster(im_h, im_w, thickness = 3)\n",
    "    eye_masks = [\n",
    "         Point(x = 84, y = 182).raster(im_h, im_w, thickness = 3),\n",
    "        Point(x = 99, y = 181).raster(im_h, im_w, thickness = 3),\n",
    "    ]\n",
    "    mask_arr = np.max([*eye_masks,nose_mask] , axis = 0)\n",
    "    mask = RasterData(arr = mask_arr)\n",
    "    return [Label(\n",
    "        data = RasterData(im_bytes = requests.get(image_url).content),\n",
    "        annotations = [\n",
    "            ObjectAnnotation(value = get_polygon(),name = \"deer\"),\n",
    "            ObjectAnnotation(name = \"deer_eyes\", value = Mask(mask = mask, color = eye_color)),  \n",
    "            ObjectAnnotation(name = \"deer_nose\", value = Mask(mask = mask, color = nose_color),\n",
    "                classifications = [\n",
    "                    ClassificationAnnotation(\n",
    "                        name = \"nose_description\",\n",
    "                        value = Radio(\n",
    "                            answer = ClassificationAnswer(name = \"wet\")\n",
    "                        )\n",
    "                    )\n",
    "                ]\n",
    "            ),\n",
    "            ClassificationAnnotation(name = \"image_description\", value = Checklist(answer = [\n",
    "                ClassificationAnswer(name = \"bright\")\n",
    "            ]))\n",
    "        ]\n",
    "    )]\n"
   ]
  },
  {
   "cell_type": "code",
   "execution_count": null,
   "id": "directed-irish",
   "metadata": {},
   "outputs": [],
   "source": [
    "def show_schema_ids(label):\n",
    "    for annotation in label.annotations:\n",
    "        print(f\"Object : {annotation.name} - {annotation.schema_id}\")\n",
    "        for classification in annotation.classifications:\n",
    "            print(f\"--- Subclass : {classification.name} - {classification.schema_id}\")\n",
    "            option = classification.value\n",
    "            print(f\"--- --- Options: {option.answer.name} - {option.answer.schema_id}\")\n",
    "\n",
    "        if isinstance(annotation, ClassificationAnnotation):\n",
    "            for option in annotation.value.answer:\n",
    "                print(f\"--- Options: {option.name} - {option.schema_id}\")"
   ]
  },
  {
   "cell_type": "code",
   "execution_count": 2,
   "id": "current-omega",
   "metadata": {},
   "outputs": [],
   "source": [
    "\n",
    "def setup_project():\n",
    "    # These names have to match our object names exactly!!\n",
    "    ontology_builder = OntologyBuilder(tools=[\n",
    "        Tool(tool=Tool.Type.POLYGON, name=\"deer\"),\n",
    "        Tool(tool=Tool.Type.SEGMENTATION, name=\"deer_nose\", \n",
    "             classifications = [\n",
    "                 Classification(\n",
    "                     class_type = Classification.Type.RADIO, \n",
    "                     instructions = \"nose_description\", \n",
    "                     options = [Option(value = \"wet\")]\n",
    "                 )]),\n",
    "        Tool(tool=Tool.Type.SEGMENTATION, name=\"deer_eyes\")    \n",
    "    ], classifications = [\n",
    "        Classification(\n",
    "            Classification.Type.CHECKLIST, \n",
    "            instructions = \"image_description\", \n",
    "            options = [Option(value = \"bright\"), Option(value = \"not_blurry\"), Option(value = \"dark\")])])\n",
    "\n",
    "    editor = next(\n",
    "        client.get_labeling_frontends(where=LabelingFrontend.name == \"Editor\"))\n",
    "    project = client.create_project(name=\"test_annotation_types\")\n",
    "    project.setup(editor, ontology_builder.asdict())\n",
    "    dataset = client.create_dataset(name = 'my_ds')\n",
    "    project.datasets.connect(dataset)\n",
    "\n",
    "    ontology = OntologyBuilder.from_project(project)\n",
    "    return ontology, dataset, project\n"
   ]
  },
  {
   "cell_type": "code",
   "execution_count": null,
   "id": "attempted-scott",
   "metadata": {},
   "outputs": [],
   "source": [
    "def print_mask_urls(label):\n",
    "    for annotation in label.annotations:\n",
    "        if isinstance(annotation.value, Mask):\n",
    "            print(annotation.value.mask.url)"
   ]
  },
  {
   "cell_type": "code",
   "execution_count": null,
   "id": "vital-roommate",
   "metadata": {},
   "outputs": [],
   "source": [
    "def show_references(label):\n",
    "    print('\\n---  schema ids ---\\n')\n",
    "    show_schema_ids(label)\n",
    "    print(\"\\n--- mask urls ---\\n\")\n",
    "    print_mask_urls(label)\n",
    "    print('\\n--- image url ---\\n')\n",
    "    print(label.data.url)    \n",
    "    print('\\n--- data row reference ---\\n')\n",
    "    print(original_label.data.uid)"
   ]
  },
  {
   "cell_type": "markdown",
   "id": "wooden-annex",
   "metadata": {},
   "source": [
    "# LabelCollection\n",
    "* This object is essentially a list of Labels with a set of helpful utilties\n",
    "* This object is simple and fast at the expense of memory\n",
    "    * Larger datasets shouldn't use label collections ( or at least will require more ram ).\n",
    "* Why use label collection over just a list of labels?\n",
    "    * Multithreaded utilities (faster)\n",
    "    * Compatible with converter functions (functions useful for translating between formats, etl, and training )"
   ]
  },
  {
   "cell_type": "code",
   "execution_count": 3,
   "id": "latest-joyce",
   "metadata": {},
   "outputs": [],
   "source": [
    "labels = get_labels()\n",
    "label_collection = LabelCollection(labels)"
   ]
  },
  {
   "cell_type": "markdown",
   "id": "listed-blogger",
   "metadata": {},
   "source": [
    "## Iterate"
   ]
  },
  {
   "cell_type": "code",
   "execution_count": 4,
   "id": "departmental-logan",
   "metadata": {},
   "outputs": [
    {
     "name": "stdout",
     "output_type": "stream",
     "text": [
      "<class 'labelbox.data.annotation_types.label.Label'>\n",
      "1\n",
      "<class 'labelbox.data.annotation_types.label.Label'>\n"
     ]
    }
   ],
   "source": [
    "# Iterable, behaves like a list\n",
    "for label in label_collection:\n",
    "    print(type(label))\n",
    "# Get length\n",
    "print(len(label_collection))\n",
    "# By index\n",
    "print(type(label_collection[0]))"
   ]
  },
  {
   "cell_type": "markdown",
   "id": "exciting-northeast",
   "metadata": {},
   "source": [
    "### Upload segmentation masks"
   ]
  },
  {
   "cell_type": "code",
   "execution_count": 5,
   "id": "serious-leadership",
   "metadata": {},
   "outputs": [
    {
     "name": "stderr",
     "output_type": "stream",
     "text": [
      "\r",
      "0it [00:00, ?it/s]"
     ]
    },
    {
     "name": "stdout",
     "output_type": "stream",
     "text": [
      "None\n",
      "None\n",
      "None\n"
     ]
    },
    {
     "name": "stderr",
     "output_type": "stream",
     "text": [
      "1it [00:00,  2.77it/s]"
     ]
    },
    {
     "name": "stdout",
     "output_type": "stream",
     "text": [
      "https://storage.labelbox.com/ckqcx1czn06830y61gh9v02cs%2F90a848f5-2038-3d8f-e912-0ac34949a3a3-1?Expires=1627055774270&KeyName=labelbox-assets-key-3&Signature=cCgkDBIRsjWSYPe7JdRIBjgUyPs\n",
      "https://storage.labelbox.com/ckqcx1czn06830y61gh9v02cs%2F90a848f5-2038-3d8f-e912-0ac34949a3a3-1?Expires=1627055774270&KeyName=labelbox-assets-key-3&Signature=cCgkDBIRsjWSYPe7JdRIBjgUyPs\n",
      "https://storage.labelbox.com/ckqcx1czn06830y61gh9v02cs%2F90a848f5-2038-3d8f-e912-0ac34949a3a3-1?Expires=1627055774270&KeyName=labelbox-assets-key-3&Signature=cCgkDBIRsjWSYPe7JdRIBjgUyPs\n"
     ]
    },
    {
     "name": "stderr",
     "output_type": "stream",
     "text": [
      "\n"
     ]
    }
   ],
   "source": [
    "### Add urls to all segmentation masks:\n",
    "# (in parallel)\n",
    "for label in label_collection:\n",
    "    print_mask_urls(label)\n",
    "    \n",
    "label_collection.add_url_to_masks(signing_function)\n",
    "\n",
    "for label in label_collection:\n",
    "    print_mask_urls(label)\n",
    "# Again note that these all share the same segmentation mask\n",
    "# ( This is determined by the fact that they share the same reference )\n",
    "# This mask is only uploaded once"
   ]
  },
  {
   "cell_type": "markdown",
   "id": "pursuant-beverage",
   "metadata": {},
   "source": [
    "### Create signed urls for data"
   ]
  },
  {
   "cell_type": "code",
   "execution_count": 6,
   "id": "answering-latin",
   "metadata": {},
   "outputs": [
    {
     "name": "stderr",
     "output_type": "stream",
     "text": [
      "\r",
      "0it [00:00, ?it/s]"
     ]
    },
    {
     "name": "stdout",
     "output_type": "stream",
     "text": [
      "None\n"
     ]
    },
    {
     "name": "stderr",
     "output_type": "stream",
     "text": [
      "1it [00:00,  2.78it/s]"
     ]
    },
    {
     "name": "stdout",
     "output_type": "stream",
     "text": [
      "https://storage.labelbox.com/ckqcx1czn06830y61gh9v02cs%2F3da0abde-b2f4-b453-e65f-589aad3c989f-1?Expires=1627055774638&KeyName=labelbox-assets-key-3&Signature=WkEwp5xanY5KBn9DdD5xlmm3S5k\n"
     ]
    },
    {
     "name": "stderr",
     "output_type": "stream",
     "text": [
      "\n"
     ]
    }
   ],
   "source": [
    "### Add urls to all segmentation masks:\n",
    "# (in parallel)\n",
    "print(label_collection[0].data.url)\n",
    "label_collection.add_url_to_data(signing_function)\n",
    "print(label_collection[0].data.url)"
   ]
  },
  {
   "cell_type": "markdown",
   "id": "documented-spelling",
   "metadata": {},
   "source": [
    "### Add to labelbox dataset"
   ]
  },
  {
   "cell_type": "code",
   "execution_count": 7,
   "id": "cloudy-plastic",
   "metadata": {},
   "outputs": [],
   "source": [
    "# For the next two sections we need an ontology and dataset\n",
    "ontology, dataset, project = setup_project()"
   ]
  },
  {
   "cell_type": "code",
   "execution_count": 8,
   "id": "biological-commonwealth",
   "metadata": {},
   "outputs": [
    {
     "name": "stderr",
     "output_type": "stream",
     "text": [
      "1it [00:00, 4293.04it/s]"
     ]
    },
    {
     "name": "stdout",
     "output_type": "stream",
     "text": [
      "None\n"
     ]
    },
    {
     "name": "stderr",
     "output_type": "stream",
     "text": [
      "\n"
     ]
    },
    {
     "name": "stdout",
     "output_type": "stream",
     "text": [
      "ckrf3k6a85bxz0ytiew58btq7\n"
     ]
    }
   ],
   "source": [
    "print(label_collection[0].data.uid)\n",
    "# Note that this function will assign a uuid as the external id if it isn't provided.\n",
    "label_collection.add_to_dataset(dataset, signing_function)\n",
    "print(label_collection[0].data.uid)"
   ]
  },
  {
   "cell_type": "markdown",
   "id": "czech-approval",
   "metadata": {},
   "source": [
    "### Add schema ids"
   ]
  },
  {
   "cell_type": "code",
   "execution_count": 9,
   "id": "understood-thursday",
   "metadata": {},
   "outputs": [
    {
     "name": "stdout",
     "output_type": "stream",
     "text": [
      "Object : deer - None\n",
      "Object : deer_eyes - None\n",
      "Object : deer_nose - None\n",
      "--- Subclass : description - None\n",
      "--- --- Options: wet - None\n",
      "Object : deer_nose - None\n",
      "--- Subclass : description - None\n",
      "--- --- Options: wet - None\n",
      "--------------------------------------------------\n",
      "Object : deer - ckrf3k4pt7qbm0y9j40kf8v54\n",
      "Object : deer_eyes - ckrf3k4pu7qbq0y9jc91r6s16\n",
      "Object : deer_nose - ckrf3k4pt7qbo0y9j4eswgg80\n",
      "--- Subclass : description - ckrf3k4r27qc30y9j4wdph03x\n",
      "--- --- Options: wet - ckrf3k4rn7qc50y9j4xz68f5m\n",
      "Object : deer_nose - ckrf3k4pt7qbo0y9j4eswgg80\n",
      "--- Subclass : description - ckrf3k4r27qc30y9j4wdph03x\n",
      "--- --- Options: wet - ckrf3k4rn7qc50y9j4xz68f5m\n"
     ]
    }
   ],
   "source": [
    "for label in label_collection:\n",
    "    show_schema_ids(label)\n",
    "# Note that this function will assign a uuid as the external id if it isn't provided.\n",
    "label_collection.assign_schema_ids(ontology)\n",
    "print('-'* 50)\n",
    "for label in label_collection:\n",
    "    show_schema_ids(label)"
   ]
  },
  {
   "cell_type": "code",
   "execution_count": 10,
   "id": "serial-audit",
   "metadata": {},
   "outputs": [],
   "source": [
    "# cleanup:\n",
    "dataset.delete()\n",
    "project.delete()"
   ]
  },
  {
   "cell_type": "markdown",
   "id": "focused-gateway",
   "metadata": {},
   "source": [
    "# LabelGenerator\n",
    "* This object generates labels and provides a set of helpful utilties\n",
    "* This object is complex and slower than LabelCollections in order to be highly memory efficient\n",
    "    * Larger datasets should use label generators\n",
    "* Why use label generator over just a generator that yields labels?\n",
    "    * This object supports parallel io operations to buffer results in the background.\n",
    "    * Compatible with converter functions (functions useful for translating between formats, etl, and training )\n",
    "* The first qsize elements run serially from when the chained functions are added.\n",
    "    * After that iterating will get much faster."
   ]
  },
  {
   "cell_type": "code",
   "execution_count": null,
   "id": "lesser-dimension",
   "metadata": {},
   "outputs": [],
   "source": [
    "labels = get_labels()\n",
    "label_generator = LabelGenerator(labels)\n",
    "ontology, dataset, project = setup_project()"
   ]
  },
  {
   "cell_type": "code",
   "execution_count": null,
   "id": "skilled-forward",
   "metadata": {},
   "outputs": [],
   "source": [
    "# So we can't show the before and afters because the generator is not repeatable\n",
    "\n",
    "try:\n",
    "    label = next(label_generator)\n",
    "    print(\"Ran once\")\n",
    "    label = next(label_generator)\n",
    "    print(\"Ran twice\")\n",
    "except StopIteration:\n",
    "    pass"
   ]
  },
  {
   "cell_type": "code",
   "execution_count": null,
   "id": "delayed-adaptation",
   "metadata": {},
   "outputs": [],
   "source": [
    "# Does not support indexing ( it is a generator.. )\n",
    "try:\n",
    "    label_generator[0]\n",
    "    print(\"Can index\")\n",
    "except TypeError:\n",
    "    print(\"Unable to index\")\n",
    "\n",
    "    "
   ]
  },
  {
   "cell_type": "code",
   "execution_count": null,
   "id": "rubber-sample",
   "metadata": {},
   "outputs": [],
   "source": []
  },
  {
   "cell_type": "markdown",
   "id": "robust-import",
   "metadata": {},
   "source": [
    "### Functions to modify results\n",
    "* We can set functions to run on the result of the generator\n",
    "* Since these are run in background threads it is a lot faster than applying them on each label individually\n",
    "* The functions are lazily evaluated"
   ]
  },
  {
   "cell_type": "code",
   "execution_count": null,
   "id": "mental-airline",
   "metadata": {},
   "outputs": [],
   "source": [
    "# Recreate because we already went through all of the items when we showed that it isn't repeatable\n",
    "original_label = labels[0]\n",
    "\n",
    "show_references(original_label)\n",
    "label_generator = LabelGenerator(labels) \\\n",
    "        .add_url_to_masks(signing_function) \\\n",
    "        .add_to_dataset(dataset, signing_function) \\\n",
    "        .assign_schema_ids(ontology)\n",
    "\n"
   ]
  },
  {
   "cell_type": "code",
   "execution_count": null,
   "id": "bronze-sponsorship",
   "metadata": {},
   "outputs": [],
   "source": [
    "# This is lazily evaluated.\n",
    "# So even after defining the functions the ids aren't set"
   ]
  },
  {
   "cell_type": "code",
   "execution_count": null,
   "id": "lesbian-trigger",
   "metadata": {},
   "outputs": [],
   "source": [
    "show_references(original_label)"
   ]
  },
  {
   "cell_type": "code",
   "execution_count": null,
   "id": "exempt-passage",
   "metadata": {},
   "outputs": [],
   "source": [
    "label = next(label_generator)\n",
    "show_references(original_label)"
   ]
  },
  {
   "cell_type": "markdown",
   "id": "labeled-aspect",
   "metadata": {},
   "source": [
    "* Note that the first qsize elements run serially from when the chained functions are added.\n",
    "* After that iterating will get much faster."
   ]
  },
  {
   "cell_type": "code",
   "execution_count": null,
   "id": "outdoor-neighbor",
   "metadata": {},
   "outputs": [],
   "source": [
    "# Generators can be converted to Collections\n",
    "LabelGenerator(labels).as_collection()\n"
   ]
  },
  {
   "cell_type": "code",
   "execution_count": null,
   "id": "equivalent-medication",
   "metadata": {},
   "outputs": [],
   "source": [
    "dataset.delete()\n",
    "project.delete()"
   ]
  }
 ],
 "metadata": {
  "kernelspec": {
   "display_name": "Python 3",
   "language": "python",
   "name": "python3"
  },
  "language_info": {
   "codemirror_mode": {
    "name": "ipython",
    "version": 3
   },
   "file_extension": ".py",
   "mimetype": "text/x-python",
   "name": "python",
   "nbconvert_exporter": "python",
   "pygments_lexer": "ipython3",
   "version": "3.8.2"
  }
 },
 "nbformat": 4,
 "nbformat_minor": 5
}
