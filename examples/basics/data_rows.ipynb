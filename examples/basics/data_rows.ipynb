{
 "cells": [
  {
   "cell_type": "markdown",
   "id": "premier-olympus",
   "metadata": {},
   "source": [
    "# Data rows"
   ]
  },
  {
   "cell_type": "markdown",
   "id": "affecting-former",
   "metadata": {},
   "source": [
    "* Data rows are the items that are actually being labeled. We currently support the following:\n",
    "    * Image\n",
    "    * Text\n",
    "    * Video\n",
    "* A datarow is a member of a dataset \n",
    "* A datarow cannot exist without belonging to a dataset.\n",
    "* Datarows are staged to be labeled by attaching the dataset that they are members of to a project\n",
    "    * See dataset notebook on information about datasets"
   ]
  },
  {
   "cell_type": "code",
   "execution_count": null,
   "id": "posted-nation",
   "metadata": {},
   "outputs": [],
   "source": [
    "!pip install labelbox"
   ]
  },
  {
   "cell_type": "code",
   "execution_count": null,
   "id": "beautiful-ready",
   "metadata": {},
   "outputs": [],
   "source": [
    "from labelbox import Project, Dataset, DataRow, Client\n",
    "import uuid\n",
    "import os"
   ]
  },
  {
   "cell_type": "markdown",
   "id": "legendary-harvard",
   "metadata": {},
   "source": [
    "* Set the following cell with your data to run this notebook"
   ]
  },
  {
   "cell_type": "code",
   "execution_count": null,
   "id": "rural-fellow",
   "metadata": {},
   "outputs": [],
   "source": [
    "# Pick a project that has a dataset attached\n",
    "PROJECT_ID = \"ckk4q1viuc0w20704eh69u28h\"\n",
    "# Set this if running in colab. Otherwise it should work if you have the LABELBOX_API_KEY set.\n",
    "API_KEY = os.environ[\"LABELBOX_API_KEY\"]\n",
    "# Only update this if you have an on-prem deployment\n",
    "ENDPOINT = \"https://api.labelbox.com/graphql\" "
   ]
  },
  {
   "cell_type": "code",
   "execution_count": null,
   "id": "proof-detective",
   "metadata": {},
   "outputs": [],
   "source": [
    "client = Client(api_key = API_KEY, endpoint = ENDPOINT)"
   ]
  },
  {
   "cell_type": "code",
   "execution_count": null,
   "id": "selective-reconstruction",
   "metadata": {},
   "outputs": [],
   "source": [
    "project = client.get_project(PROJECT_ID)\n",
    "dataset = next(project.datasets())\n",
    "# This is the same as\n",
    "# -> dataset = client.get_dataset(dataset_id)"
   ]
  },
  {
   "cell_type": "markdown",
   "id": "registered-cause",
   "metadata": {},
   "source": [
    "### Read"
   ]
  },
  {
   "cell_type": "code",
   "execution_count": null,
   "id": "extra-paris",
   "metadata": {},
   "outputs": [],
   "source": [
    "datarows = dataset.data_rows()\n",
    "datarow = next(datarows)"
   ]
  },
  {
   "cell_type": "code",
   "execution_count": null,
   "id": "packed-going",
   "metadata": {},
   "outputs": [],
   "source": [
    "# Url\n",
    "print(\"Associated dataset\", datarow.dataset())\n",
    "print(\"Associated label(s)\",  next(datarow.labels()))\n",
    "print(\"External id\", datarow.external_id)"
   ]
  },
  {
   "cell_type": "code",
   "execution_count": null,
   "id": "above-vocabulary",
   "metadata": {},
   "outputs": [],
   "source": [
    "# External ids can be a reference to your internal datasets\n",
    "datarow = dataset.data_row_for_external_id(datarow.external_id)\n",
    "print(datarow)"
   ]
  },
  {
   "cell_type": "markdown",
   "id": "successful-patch",
   "metadata": {},
   "source": [
    "### Create"
   ]
  },
  {
   "cell_type": "code",
   "execution_count": null,
   "id": "medical-portuguese",
   "metadata": {},
   "outputs": [],
   "source": [
    "#Add one at a time\n",
    "dataset = client.create_dataset(name = \"testing-dataset\")\n",
    "dataset.create_data_row(row_data = \"https://picsum.photos/200/300\")\n",
    "\n",
    "# It is reccomended that you use external ids but optional.\n",
    "# These are useful for users to maintain references to a data_row.\n",
    "dataset.create_data_row(row_data = \"https://picsum.photos/200/300\", external_id = str(uuid.uuid4()))\n"
   ]
  },
  {
   "cell_type": "code",
   "execution_count": null,
   "id": "round-perfume",
   "metadata": {},
   "outputs": [],
   "source": [
    "# Bulk create datarows\n",
    "task1 = dataset.create_data_rows([{DataRow.row_data : \"https://picsum.photos/200/300\"}\n",
    "                          , {DataRow.row_data : \"https://picsum.photos/200/300\"}])"
   ]
  },
  {
   "cell_type": "code",
   "execution_count": null,
   "id": "breeding-brother",
   "metadata": {},
   "outputs": [],
   "source": [
    "# Local paths\n",
    "local_data_path = '/tmp/test_data_row.txt'\n",
    "with open(local_data_path, 'w') as file:\n",
    "    file.write(\"sample data\")\n",
    "    \n",
    "task2 = dataset.create_data_rows([local_data_path])"
   ]
  },
  {
   "cell_type": "code",
   "execution_count": null,
   "id": "thrown-designation",
   "metadata": {},
   "outputs": [],
   "source": [
    "# You can mix local files with urls\n",
    "task3 = dataset.create_data_rows([{DataRow.row_data : \"https://picsum.photos/200/300\"}, local_data_path])"
   ]
  },
  {
   "cell_type": "code",
   "execution_count": null,
   "id": "japanese-jefferson",
   "metadata": {},
   "outputs": [],
   "source": [
    "# Note that you cannot set external_ids at this time when uploading from local files.\n",
    "# To do this you have to first\n",
    "item_url = client.upload_file(local_data_path)\n",
    "task4 = dataset.create_data_rows([{DataRow.row_data : item_url, DataRow.external_id : str(uuid.uuid4())}])"
   ]
  },
  {
   "cell_type": "code",
   "execution_count": null,
   "id": "accessible-effort",
   "metadata": {},
   "outputs": [],
   "source": [
    "# Blocking wait until complete\n",
    "task1.wait_till_done()\n",
    "task2.wait_till_done()\n",
    "task3.wait_till_done()\n",
    "task4.wait_till_done()\n",
    "\n",
    "print(task1.status, task2.status, task3.status, task4.status)\n"
   ]
  },
  {
   "cell_type": "markdown",
   "id": "interested-proxy",
   "metadata": {},
   "source": [
    "### Update"
   ]
  },
  {
   "cell_type": "code",
   "execution_count": null,
   "id": "floral-elimination",
   "metadata": {},
   "outputs": [],
   "source": [
    "# Useful for resigning urls\n",
    "new_id = str(uuid.uuid4())\n",
    "datarow.update(external_id = new_id)\n",
    "print(datarow.external_id, new_id)\n"
   ]
  },
  {
   "cell_type": "code",
   "execution_count": null,
   "id": "collect-cosmetic",
   "metadata": {},
   "outputs": [],
   "source": [
    "# We can also attach metadata (See metadata tutorial for more)\n",
    "# Metadata is visible for all projects with this datarow attached\n",
    "datarow.create_metadata(meta_type = \"TEXT\", meta_value = \"LABELERS WILL SEE THIS \")\n",
    "# See more information here:\n",
    "# https://docs.labelbox.com/en/import-data/attachments\n",
    "# Note that meta_value must always be a string (url to a video/image or a text value to display)"
   ]
  },
  {
   "cell_type": "markdown",
   "id": "explicit-morrison",
   "metadata": {},
   "source": [
    "### Delete"
   ]
  },
  {
   "cell_type": "code",
   "execution_count": null,
   "id": "dental-banana",
   "metadata": {},
   "outputs": [],
   "source": [
    "datarow.delete()\n",
    "# Will remove from the dataset too"
   ]
  },
  {
   "cell_type": "code",
   "execution_count": null,
   "id": "binary-organic",
   "metadata": {},
   "outputs": [],
   "source": [
    "# Bulk delete a list of datarows (in this case all of them we just uploaded)\n",
    "DataRow.bulk_delete(list(dataset.data_rows()))"
   ]
  }
 ],
 "metadata": {
  "kernelspec": {
   "display_name": "Python 3",
   "language": "python",
   "name": "python3"
  },
  "language_info": {
   "codemirror_mode": {
    "name": "ipython",
    "version": 3
   },
   "file_extension": ".py",
   "mimetype": "text/x-python",
   "name": "python",
   "nbconvert_exporter": "python",
   "pygments_lexer": "ipython3",
   "version": "3.8.2"
  }
 },
 "nbformat": 4,
 "nbformat_minor": 5
}
