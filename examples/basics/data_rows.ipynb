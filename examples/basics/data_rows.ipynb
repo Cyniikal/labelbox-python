{
 "cells": [
  {
   "cell_type": "markdown",
   "id": "premier-olympus",
   "metadata": {},
   "source": [
    "# Data rows"
   ]
  },
  {
   "cell_type": "markdown",
   "id": "affecting-former",
   "metadata": {},
   "source": [
    "* Data rows are the items that are actually being labeled. We currently support the following:\n",
    "    * Image\n",
    "    * Text\n",
    "    * Video\n",
    "* A data row is a member of a dataset \n",
    "* A data row cannot exist without belonging to a dataset.\n",
    "* DataRows are added to labeling tasks by first attaching them to datasets and then attaching datasets to projects."
   ]
  },
  {
   "cell_type": "code",
   "execution_count": 1,
   "id": "posted-nation",
   "metadata": {},
   "outputs": [],
   "source": [
    "!pip install labelbox"
   ]
  },
  {
   "cell_type": "code",
   "execution_count": 2,
   "id": "beautiful-ready",
   "metadata": {},
   "outputs": [],
   "source": [
    "from labelbox import DataRow, Client\n",
    "from getpass import getpass\n",
    "import uuid\n",
    "import os"
   ]
  },
  {
   "cell_type": "code",
   "execution_count": 3,
   "id": "vertical-stockholm",
   "metadata": {},
   "outputs": [],
   "source": [
    "# If you don't want to give google access to drive you can skip this cell\n",
    "# and manually set `API_KEY` below.\n",
    "\n",
    "COLAB = \"google.colab\" in str(get_ipython())\n",
    "if COLAB:\n",
    "    !pip install colab-env -qU\n",
    "    from colab_env import envvar_handler\n",
    "    envvar_handler.envload()\n",
    "\n",
    "API_KEY = os.environ.get(\"LABELBOX_API_KEY\")\n",
    "if not os.environ.get(\"LABELBOX_API_KEY\"):\n",
    "    API_KEY = getpass(\"Please enter your labelbox api key\")\n",
    "    if COLAB:\n",
    "        envvar_handler.add_env(\"LABELBOX_API_KEY\", API_KEY)"
   ]
  },
  {
   "cell_type": "markdown",
   "id": "legendary-harvard",
   "metadata": {},
   "source": [
    "* Set the following cell with your data to run this notebook"
   ]
  },
  {
   "cell_type": "code",
   "execution_count": 4,
   "id": "rural-fellow",
   "metadata": {},
   "outputs": [],
   "source": [
    "# Pick a project that has a dataset attached, data has external ids, and there are some labels\n",
    "# This will modify the project so just pick a dummy one that you don't care about\n",
    "PROJECT_ID = \"ckk4q1viuc0w20704eh69u28h\"\n",
    "# Only update this if you have an on-prem deployment\n",
    "ENDPOINT = \"https://api.labelbox.com/graphql\""
   ]
  },
  {
   "cell_type": "code",
   "execution_count": 5,
   "id": "proof-detective",
   "metadata": {},
   "outputs": [],
   "source": [
    "client = Client(api_key=API_KEY, endpoint=ENDPOINT)"
   ]
  },
  {
   "cell_type": "code",
   "execution_count": 6,
   "id": "selective-reconstruction",
   "metadata": {},
   "outputs": [],
   "source": [
    "project = client.get_project(PROJECT_ID)\n",
    "dataset = next(project.datasets())\n",
    "# This is the same as\n",
    "# -> dataset = client.get_dataset(dataset_id)"
   ]
  },
  {
   "cell_type": "markdown",
   "id": "registered-cause",
   "metadata": {},
   "source": [
    "### Read"
   ]
  },
  {
   "cell_type": "code",
   "execution_count": 7,
   "id": "extra-paris",
   "metadata": {},
   "outputs": [],
   "source": [
    "data_rows = dataset.data_rows()\n",
    "data_row = next(data_rows)"
   ]
  },
  {
   "cell_type": "code",
   "execution_count": 8,
   "id": "packed-going",
   "metadata": {},
   "outputs": [
    {
     "name": "stdout",
     "output_type": "stream",
     "text": [
      "Associated dataset <Dataset {'created_at': datetime.datetime(2021, 3, 28, 23, 35, 34, tzinfo=datetime.timezone.utc), 'description': '', 'name': 'image_mal_dataset', 'uid': 'ckmtsvzps21f80y6205t304se', 'updated_at': datetime.datetime(2021, 3, 28, 23, 35, 34, tzinfo=datetime.timezone.utc)}>\n",
      "Associated label(s) <Label {'agreement': None, 'benchmark_agreement': None, 'created_at': datetime.datetime(2021, 3, 29, 17, 53, 36, tzinfo=datetime.timezone.utc), 'is_benchmark_reference': False, 'label': '{\"objects\":[{\"featureId\":\"ckmuw40nm00013g68kfua4i88\",\"schemaId\":\"ckk4q1vo80nhv0y92b7vgctgt\",\"title\":\"Frog\",\"value\":\"frog\",\"color\":\"#00D4FF\",\"bbox\":{\"top\":815,\"left\":847,\"height\":247,\"width\":512},\"instanceURI\":\"https://api.labelbox.com/masks/feature/ckmuw40nm00013g68kfua4i88\"}],\"classifications\":[]}', 'seconds_to_label': 0, 'uid': 'ckmuw42qy00033g68zdhpove7', 'updated_at': datetime.datetime(2021, 3, 29, 17, 54, 32, tzinfo=datetime.timezone.utc)}>\n",
      "External id dbb168f6-4f2c-46e0-a22a-abc837fda3f1\n"
     ]
    }
   ],
   "source": [
    "# Url\n",
    "print(\"Associated dataset\", data_row.dataset())\n",
    "print(\"Associated label(s)\", next(data_row.labels()))\n",
    "print(\"External id\", data_row.external_id)"
   ]
  },
  {
   "cell_type": "code",
   "execution_count": 9,
   "id": "above-vocabulary",
   "metadata": {},
   "outputs": [
    {
     "name": "stdout",
     "output_type": "stream",
     "text": [
      "<DataRow {'created_at': datetime.datetime(2021, 3, 28, 23, 35, 35, tzinfo=datetime.timezone.utc), 'external_id': 'dbb168f6-4f2c-46e0-a22a-abc837fda3f1', 'row_data': 'https://upload.wikimedia.org/wikipedia/commons/thumb/0/08/Kitano_Street_Kobe01s5s4110.jpg/2560px-Kitano_Street_Kobe01s5s4110.jpg', 'uid': 'ckmtsvzx421fb0y62bbsmbavz', 'updated_at': datetime.datetime(2021, 3, 29, 17, 54, 56, tzinfo=datetime.timezone.utc)}>\n"
     ]
    }
   ],
   "source": [
    "# External ids can be a reference to your internal datasets\n",
    "data_row = dataset.data_row_for_external_id(data_row.external_id)\n",
    "print(data_row)"
   ]
  },
  {
   "cell_type": "markdown",
   "id": "successful-patch",
   "metadata": {},
   "source": [
    "### Create"
   ]
  },
  {
   "cell_type": "code",
   "execution_count": 10,
   "id": "medical-portuguese",
   "metadata": {},
   "outputs": [
    {
     "data": {
      "text/plain": [
       "<DataRow ID: ckmuw60q700ur0y8wcu178hbi>"
      ]
     },
     "execution_count": 14,
     "metadata": {},
     "output_type": "execute_result"
    }
   ],
   "source": [
    "#Add one at a time\n",
    "dataset = client.create_dataset(name=\"testing-dataset\")\n",
    "dataset.create_data_row(row_data=\"https://picsum.photos/200/300\")\n",
    "\n",
    "# It is reccomended that you use external ids but optional.\n",
    "# These are useful for users to maintain references to a data_row.\n",
    "dataset.create_data_row(row_data=\"https://picsum.photos/200/300\",\n",
    "                        external_id=str(uuid.uuid4()))"
   ]
  },
  {
   "cell_type": "code",
   "execution_count": 11,
   "id": "round-perfume",
   "metadata": {},
   "outputs": [],
   "source": [
    "# Bulk create data_rows\n",
    "task1 = dataset.create_data_rows([{\n",
    "    DataRow.row_data: \"https://picsum.photos/200/300\"\n",
    "}, {\n",
    "    DataRow.row_data: \"https://picsum.photos/200/300\"\n",
    "}])"
   ]
  },
  {
   "cell_type": "code",
   "execution_count": 12,
   "id": "breeding-brother",
   "metadata": {},
   "outputs": [],
   "source": [
    "# Local paths\n",
    "local_data_path = '/tmp/test_data_row.txt'\n",
    "with open(local_data_path, 'w') as file:\n",
    "    file.write(\"sample data\")\n",
    "\n",
    "task2 = dataset.create_data_rows([local_data_path])"
   ]
  },
  {
   "cell_type": "code",
   "execution_count": 13,
   "id": "thrown-designation",
   "metadata": {},
   "outputs": [],
   "source": [
    "# You can mix local files with urls\n",
    "task3 = dataset.create_data_rows([{\n",
    "    DataRow.row_data: \"https://picsum.photos/200/300\"\n",
    "}, local_data_path])"
   ]
  },
  {
   "cell_type": "code",
   "execution_count": 14,
   "id": "japanese-jefferson",
   "metadata": {},
   "outputs": [],
   "source": [
    "# Note that you cannot set external_ids at this time when uploading from local files.\n",
    "# To do this you have to first\n",
    "item_url = client.upload_file(local_data_path)\n",
    "task4 = dataset.create_data_rows([{\n",
    "    DataRow.row_data: item_url,\n",
    "    DataRow.external_id: str(uuid.uuid4())\n",
    "}])"
   ]
  },
  {
   "cell_type": "code",
   "execution_count": 15,
   "id": "accessible-effort",
   "metadata": {},
   "outputs": [
    {
     "name": "stdout",
     "output_type": "stream",
     "text": [
      "COMPLETE COMPLETE COMPLETE COMPLETE\n"
     ]
    }
   ],
   "source": [
    "# Blocking wait until complete\n",
    "task1.wait_till_done()\n",
    "task2.wait_till_done()\n",
    "task3.wait_till_done()\n",
    "task4.wait_till_done()\n",
    "\n",
    "print(task1.status, task2.status, task3.status, task4.status)"
   ]
  },
  {
   "cell_type": "markdown",
   "id": "interested-proxy",
   "metadata": {},
   "source": [
    "### Update"
   ]
  },
  {
   "cell_type": "code",
   "execution_count": 16,
   "id": "floral-elimination",
   "metadata": {},
   "outputs": [
    {
     "name": "stdout",
     "output_type": "stream",
     "text": [
      "18201a8d-34a5-41ea-8ea0-feede9776b4a 18201a8d-34a5-41ea-8ea0-feede9776b4a\n"
     ]
    }
   ],
   "source": [
    "# Useful for resigning urls\n",
    "new_id = str(uuid.uuid4())\n",
    "data_row.update(external_id=new_id)\n",
    "print(data_row.external_id, new_id)"
   ]
  },
  {
   "cell_type": "code",
   "execution_count": 17,
   "id": "collect-cosmetic",
   "metadata": {},
   "outputs": [
    {
     "data": {
      "text/plain": [
       "<AssetMetadata ID: ckmuw6mme5mpr0y839dzheh7c>"
      ]
     },
     "execution_count": 21,
     "metadata": {},
     "output_type": "execute_result"
    }
   ],
   "source": [
    "# We can also attach metadata\n",
    "# Metadata is visible for all projects with this data_row attached\n",
    "data_row.create_metadata(meta_type=\"TEXT\", meta_value=\"LABELERS WILL SEE THIS \")\n",
    "# See more information here:\n",
    "# https://docs.labelbox.com/data-model/en/index-en#attachments\n",
    "# Note that meta_value must always be a string (url to a video/image or a text value to display)"
   ]
  },
  {
   "cell_type": "markdown",
   "id": "explicit-morrison",
   "metadata": {},
   "source": [
    "### Delete"
   ]
  },
  {
   "cell_type": "code",
   "execution_count": 18,
   "id": "dental-banana",
   "metadata": {},
   "outputs": [],
   "source": [
    "data_row.delete()\n",
    "# Will remove from the dataset too"
   ]
  },
  {
   "cell_type": "code",
   "execution_count": 19,
   "id": "binary-organic",
   "metadata": {},
   "outputs": [],
   "source": [
    "# Bulk delete a list of data_rows (in this case all of them we just uploaded)\n",
    "DataRow.bulk_delete(list(dataset.data_rows()))"
   ]
  }
 ],
 "metadata": {
  "kernelspec": {
   "display_name": "Python 3",
   "language": "python",
   "name": "python3"
  },
  "language_info": {
   "codemirror_mode": {
    "name": "ipython",
    "version": 3
   },
   "file_extension": ".py",
   "mimetype": "text/x-python",
   "name": "python",
   "nbconvert_exporter": "python",
   "pygments_lexer": "ipython3",
   "version": "3.8.2"
  }
 },
 "nbformat": 4,
 "nbformat_minor": 5
}
