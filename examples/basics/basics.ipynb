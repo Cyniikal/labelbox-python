{
 "cells": [
  {
   "cell_type": "markdown",
   "id": "complimentary-passing",
   "metadata": {},
   "source": [
    "# Basics"
   ]
  },
  {
   "cell_type": "markdown",
   "id": "smaller-syndication",
   "metadata": {},
   "source": [
    "#### Quick install instructions\n",
    "The quick version is basically just\n",
    "1. `!pip install labelbox`\n",
    "2. `export LABELBOX_API_KEY=\"<your_api_key>\"`\n",
    "* Get this from the UI under (Account -> API -> Create API Key)\n",
    "\n",
    "\n",
    "This only works for cloud deployments.\n",
    "* For more details : https://docs.labelbox.com/python-sdk/en/index-en#labelbox-python-sdk"
   ]
  },
  {
   "cell_type": "code",
   "execution_count": 1,
   "id": "everyday-street",
   "metadata": {},
   "outputs": [],
   "source": [
    "from labelbox import Client\n",
    "from labelbox import Project, Dataset"
   ]
  },
  {
   "cell_type": "markdown",
   "id": "committed-matthew",
   "metadata": {},
   "source": [
    "### Main takeaways:\n",
    "* All interactions with labelbox happen through the client\n",
    "* all attributes that are labelbox.orm.Fields can be accessed via object.field_name\n",
    "* all attributes that are labelbox.orm.Relationships can be accessed via object.relationship()\n",
    "----\n",
    "* To use on your own data you need to plug in the following:\n",
    "1. Project and Dataset ids (go to the web ui and you can find these in the url)\n",
    "    * (https://app.labelbox.com/projects/<project_id>\n",
    "    * https://app.labelbox.com/dataset/<dataset_id>\n",
    "2. A project name and a dataset name\n",
    "    * Select any project names from here: https://app.labelbox.com/projects\n",
    "    * Select any dataset names from here: https://app.labelbox.com/data"
   ]
  },
  {
   "cell_type": "code",
   "execution_count": 9,
   "id": "instructional-reply",
   "metadata": {},
   "outputs": [],
   "source": [
    "PROJECT_ID = \"ckk4q1viuc0w20704eh69u28h\"\n",
    "DATASET_ID = \"ckk4q1vjznyhu087203wlghfr\"\n",
    "PROJECT_NAME = \"Sample Project\"\n",
    "DATASET_NAME = \"Example Jellyfish Dataset\""
   ]
  },
  {
   "cell_type": "code",
   "execution_count": 10,
   "id": "thick-gasoline",
   "metadata": {},
   "outputs": [],
   "source": [
    "#Client is used for all DB interactions.\n",
    "#This is usually the starting point for all usage.\n",
    "client = Client()"
   ]
  },
  {
   "cell_type": "code",
   "execution_count": 11,
   "id": "victorian-consumer",
   "metadata": {},
   "outputs": [],
   "source": [
    "#Client can be used to fetch by id:\n",
    "project = client.get_project(PROJECT_ID)\n",
    "dataset = client.get_dataset(DATASET_ID)"
   ]
  },
  {
   "cell_type": "code",
   "execution_count": 12,
   "id": "industrial-onion",
   "metadata": {},
   "outputs": [
    {
     "data": {
      "text/plain": [
       "<Project ID: ckk4q1viuc0w20704eh69u28h>"
      ]
     },
     "execution_count": 12,
     "metadata": {},
     "output_type": "execute_result"
    }
   ],
   "source": [
    "project"
   ]
  },
  {
   "cell_type": "code",
   "execution_count": null,
   "id": "superb-revolution",
   "metadata": {},
   "outputs": [],
   "source": []
  },
  {
   "cell_type": "code",
   "execution_count": 13,
   "id": "cubic-joint",
   "metadata": {},
   "outputs": [
    {
     "data": {
      "text/plain": [
       "<labelbox.pagination.PaginatedCollection at 0x10caa6160>"
      ]
     },
     "execution_count": 13,
     "metadata": {},
     "output_type": "execute_result"
    }
   ],
   "source": [
    "#Or you can fetch all based on a condition\n",
    "projects = client.get_projects(where = Project.name == PROJECT_NAME)\n",
    "datasets = client.get_datasets(where = Dataset.name == DATASET_NAME)\n",
    "projects"
   ]
  },
  {
   "cell_type": "code",
   "execution_count": 14,
   "id": "adapted-parish",
   "metadata": {},
   "outputs": [
    {
     "data": {
      "text/plain": [
       "<Project ID: ckk4q1viuc0w20704eh69u28h>"
      ]
     },
     "execution_count": 14,
     "metadata": {},
     "output_type": "execute_result"
    }
   ],
   "source": [
    "#The above two queries return PaginatedCollections because the filter parameters aren't guarenteed to be unique.\n",
    "#This object is an iterable containing the query results\n",
    "next(projects)"
   ]
  },
  {
   "cell_type": "code",
   "execution_count": 15,
   "id": "future-bargain",
   "metadata": {},
   "outputs": [
    {
     "data": {
      "text/plain": [
       "[<Dataset ID: cklv1qzlv1oqn0y9ne7b9gtpb>]"
      ]
     },
     "execution_count": 15,
     "metadata": {},
     "output_type": "execute_result"
    }
   ],
   "source": [
    "# If you are interested in the relationship between objects then \n",
    "#You can only filter on attributes of either a dataset or a project.\n",
    "#If you want all datasets that belongs to a particular project then you can do that with the following query.\n",
    "sample_project_datasets = project.datasets()\n",
    "list(sample_project_datasets)"
   ]
  },
  {
   "cell_type": "code",
   "execution_count": null,
   "id": "bacterial-yield",
   "metadata": {},
   "outputs": [],
   "source": []
  }
 ],
 "metadata": {
  "kernelspec": {
   "display_name": "Python 3",
   "language": "python",
   "name": "python3"
  },
  "language_info": {
   "codemirror_mode": {
    "name": "ipython",
    "version": 3
   },
   "file_extension": ".py",
   "mimetype": "text/x-python",
   "name": "python",
   "nbconvert_exporter": "python",
   "pygments_lexer": "ipython3",
   "version": "3.8.2"
  }
 },
 "nbformat": 4,
 "nbformat_minor": 5
}
