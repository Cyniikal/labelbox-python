{
 "cells": [
  {
   "cell_type": "markdown",
   "id": "settled-lodging",
   "metadata": {},
   "source": [
    "# Datasets"
   ]
  },
  {
   "cell_type": "markdown",
   "id": "demanding-charge",
   "metadata": {},
   "source": [
    "* Datasets are collections of datarows (image, video, or text to be labeled)\n",
    "* Datasets are used to define units of work.\n",
    "    * Attaching a dataset to a project will add all data rows in the dataset to the project (and add them to the queue)\n",
    "* Datasets are not required to be fixed in size (you can add datarows at any time). \n",
    "    * However, if you add datarows to a dataset, all projects associated with this dataset will add the new datarows to its queue\n",
    "----\n",
    "To run this notebook set the following cell with your data "
   ]
  },
  {
   "cell_type": "code",
   "execution_count": 22,
   "id": "attached-ticket",
   "metadata": {},
   "outputs": [],
   "source": [
    "DATASET_ID = \"ckm4xyfua04cf0z7a3wz58kgj\""
   ]
  },
  {
   "cell_type": "code",
   "execution_count": 23,
   "id": "educational-locking",
   "metadata": {},
   "outputs": [],
   "source": [
    "from labelbox import Client, Dataset, DataRow\n",
    "import uuid"
   ]
  },
  {
   "cell_type": "code",
   "execution_count": 24,
   "id": "looking-airport",
   "metadata": {},
   "outputs": [],
   "source": [
    "client = Client()"
   ]
  },
  {
   "cell_type": "markdown",
   "id": "explicit-thunder",
   "metadata": {},
   "source": [
    "### Read"
   ]
  },
  {
   "cell_type": "code",
   "execution_count": 25,
   "id": "inclusive-herald",
   "metadata": {},
   "outputs": [],
   "source": [
    "#Can be fetched by name (using a query - see basics), or using an id directly\n",
    "dataset = client.get_dataset(DATASET_ID)"
   ]
  },
  {
   "cell_type": "code",
   "execution_count": 26,
   "id": "increased-joshua",
   "metadata": {},
   "outputs": [
    {
     "name": "stdout",
     "output_type": "stream",
     "text": [
      "<Dataset {'created_at': datetime.datetime(2021, 3, 11, 14, 3, 12, tzinfo=datetime.timezone.utc), 'description': '', 'name': 'animal_demo_ds', 'uid': 'ckm4xyfua04cf0z7a3wz58kgj', 'updated_at': datetime.datetime(2021, 3, 11, 14, 3, 12, tzinfo=datetime.timezone.utc)}>\n"
     ]
    }
   ],
   "source": [
    "print(dataset)"
   ]
  },
  {
   "cell_type": "code",
   "execution_count": 27,
   "id": "thermal-making",
   "metadata": {},
   "outputs": [
    {
     "data": {
      "text/plain": [
       "<DataRow ID: ckm4y6s531rnq0rb6bobqa6j7>"
      ]
     },
     "execution_count": 27,
     "metadata": {},
     "output_type": "execute_result"
    }
   ],
   "source": [
    "#We can see the datarows associated with a dataset\n",
    "data_rows = dataset.data_rows()\n",
    "next(data_rows) #Print first one"
   ]
  },
  {
   "cell_type": "code",
   "execution_count": 28,
   "id": "cellular-rhythm",
   "metadata": {},
   "outputs": [
    {
     "name": "stdout",
     "output_type": "stream",
     "text": [
      "Projects with this dataset attached : [<Project ID: ckm4xyfncfgja0760vpfdxoro>]\n",
      "Dataset name : animal_demo_ds\n"
     ]
    }
   ],
   "source": [
    "#Attached projects\n",
    "print(\"Projects with this dataset attached :\", list(dataset.projects()))\n",
    "print(\"Dataset name :\" , dataset.name)"
   ]
  },
  {
   "cell_type": "code",
   "execution_count": 29,
   "id": "liquid-stocks",
   "metadata": {},
   "outputs": [],
   "source": [
    "#A dataset is the way to list all data rows\n",
    "data_row = next(dataset.data_rows())"
   ]
  },
  {
   "cell_type": "markdown",
   "id": "sonic-classic",
   "metadata": {},
   "source": [
    "### Create"
   ]
  },
  {
   "cell_type": "code",
   "execution_count": 30,
   "id": "valuable-bench",
   "metadata": {},
   "outputs": [
    {
     "name": "stdout",
     "output_type": "stream",
     "text": [
      "<Dataset {'created_at': datetime.datetime(2021, 3, 17, 11, 11, 7, tzinfo=datetime.timezone.utc), 'description': '', 'name': 'my_new_dataset', 'uid': 'ckmdcg8lf04px0y9ge67bbxa5', 'updated_at': datetime.datetime(2021, 3, 17, 11, 11, 7, tzinfo=datetime.timezone.utc)}>\n"
     ]
    }
   ],
   "source": [
    "new_dataset = client.create_dataset(name = \"my_new_dataset\")\n",
    "print(new_dataset)"
   ]
  },
  {
   "cell_type": "markdown",
   "id": "varying-louisville",
   "metadata": {},
   "source": [
    "### Update"
   ]
  },
  {
   "cell_type": "code",
   "execution_count": 31,
   "id": "clinical-parks",
   "metadata": {},
   "outputs": [],
   "source": [
    "new_dataset.update(name =  'new_name')"
   ]
  },
  {
   "cell_type": "markdown",
   "id": "outdoor-projector",
   "metadata": {},
   "source": [
    "* See the datarows notebook `Create` section on how to add data_rows to a dataset."
   ]
  },
  {
   "cell_type": "markdown",
   "id": "caroline-therapist",
   "metadata": {},
   "source": [
    "### Delete"
   ]
  },
  {
   "cell_type": "code",
   "execution_count": 32,
   "id": "increased-grenada",
   "metadata": {},
   "outputs": [],
   "source": [
    "new_dataset.delete()"
   ]
  },
  {
   "cell_type": "code",
   "execution_count": null,
   "id": "advisory-terminal",
   "metadata": {},
   "outputs": [],
   "source": []
  }
 ],
 "metadata": {
  "kernelspec": {
   "display_name": "Python 3",
   "language": "python",
   "name": "python3"
  },
  "language_info": {
   "codemirror_mode": {
    "name": "ipython",
    "version": 3
   },
   "file_extension": ".py",
   "mimetype": "text/x-python",
   "name": "python",
   "nbconvert_exporter": "python",
   "pygments_lexer": "ipython3",
   "version": "3.8.2"
  }
 },
 "nbformat": 4,
 "nbformat_minor": 5
}
