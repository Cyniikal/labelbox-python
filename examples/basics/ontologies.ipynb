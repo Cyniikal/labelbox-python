{
 "cells": [
  {
   "cell_type": "markdown",
   "id": "north-mountain",
   "metadata": {},
   "source": [
    "# Ontologies\n",
    "\n",
    "* An ontology defines the types of vector tools and classifications available for a project\n",
    "* Currently the only way to create an ontology object is by setting up a project with one.\n",
    "* This notebook will cover client side tools for working with ontologies\n",
    "* Project setup is explained here: https://github.com/Labelbox/labelbox-python/blob/develop/examples/project_configuration/project_setup.ipynb\n",
    "* Ontology documentation: https://docs.labelbox.com/data-model/en/index-en#ontology"
   ]
  },
  {
   "cell_type": "code",
   "execution_count": null,
   "id": "continuous-syndrome",
   "metadata": {},
   "outputs": [],
   "source": [
    "!pip install labelbox"
   ]
  },
  {
   "cell_type": "code",
   "execution_count": 1,
   "id": "passing-question",
   "metadata": {},
   "outputs": [],
   "source": [
    "from labelbox.schema.ontology import OntologyBuilder, Tool, Classification, Option\n",
    "from labelbox import Client\n",
    "from getpass import getpass\n",
    "import json\n",
    "import os"
   ]
  },
  {
   "cell_type": "code",
   "execution_count": 2,
   "id": "interested-bishop",
   "metadata": {},
   "outputs": [],
   "source": [
    "# If you don't want to give google access to drive you can skip this cell\n",
    "# and manually set `API_KEY` below.\n",
    "\n",
    "COLAB = \"google.colab\" in str(get_ipython())\n",
    "if COLAB:\n",
    "    !pip install colab-env -qU\n",
    "    from colab_env import envvar_handler\n",
    "    envvar_handler.envload()\n",
    "\n",
    "API_KEY = os.environ.get(\"LABELBOX_API_KEY\")\n",
    "if not os.environ.get(\"LABELBOX_API_KEY\"):\n",
    "    API_KEY = getpass(\"Please enter your labelbox api key\")\n",
    "    if COLAB:\n",
    "        envvar_handler.add_env(\"LABELBOX_API_KEY\", API_KEY)"
   ]
  },
  {
   "cell_type": "markdown",
   "id": "educated-commercial",
   "metadata": {},
   "source": [
    "* Set the following cell with your data to run this notebook"
   ]
  },
  {
   "cell_type": "code",
   "execution_count": 3,
   "id": "baking-recipient",
   "metadata": {},
   "outputs": [],
   "source": [
    "# Make sure this project has been fully setup (see project examples/project_configuration/project_setup.ipynb)\n",
    "# You also can just setup a project in the web ui\n",
    "PROJECT_ID = \"ckr083gl1dr8j0yag4jo5cnnt\"\n",
    "# Only update this if you have an on-prem deployment\n",
    "ENDPOINT = \"https://api.labelbox.com/graphql\""
   ]
  },
  {
   "cell_type": "code",
   "execution_count": 4,
   "id": "oriental-columbus",
   "metadata": {},
   "outputs": [],
   "source": [
    "client = Client(api_key=API_KEY, endpoint=ENDPOINT)"
   ]
  },
  {
   "cell_type": "markdown",
   "id": "innovative-brief",
   "metadata": {},
   "source": [
    "### Create\n",
    "* Note that this a client side tool only. See project setup to attach this to a project"
   ]
  },
  {
   "cell_type": "code",
   "execution_count": 5,
   "id": "refined-welsh",
   "metadata": {},
   "outputs": [
    {
     "name": "stdout",
     "output_type": "stream",
     "text": [
      "{\n",
      "  \"tools\": [\n",
      "    {\n",
      "      \"tool\": \"rectangle\",\n",
      "      \"name\": \"dog\",\n",
      "      \"required\": false,\n",
      "      \"color\": \"#ff0000\",\n",
      "      \"classifications\": [],\n",
      "      \"schemaNodeId\": null,\n",
      "      \"featureSchemaId\": null\n",
      "    },\n",
      "    {\n",
      "      \"tool\": \"superpixel\",\n",
      "      \"name\": \"cat\",\n",
      "      \"required\": false,\n",
      "      \"color\": \"#00ffff\",\n",
      "      \"classifications\": [],\n",
      "      \"schemaNodeId\": null,\n",
      "      \"featureSchemaId\": null\n",
      "    }\n",
      "  ],\n",
      "  \"classifications\": []\n",
      "}\n"
     ]
    }
   ],
   "source": [
    "ontology_builder = OntologyBuilder(tools=[\n",
    "    Tool(tool=Tool.Type.BBOX, name=\"dog\"),\n",
    "    Tool(tool=Tool.Type.SEGMENTATION, name=\"cat\"),\n",
    "])\n",
    "# Note that color is selected automatically\n",
    "# The ids will be assigned when this ontology is created in labelbox\n",
    "print(json.dumps(ontology_builder.asdict(), indent = 2))"
   ]
  },
  {
   "cell_type": "code",
   "execution_count": 6,
   "id": "faced-genome",
   "metadata": {},
   "outputs": [
    {
     "name": "stdout",
     "output_type": "stream",
     "text": [
      "{\n",
      "  \"tools\": [\n",
      "    {\n",
      "      \"tool\": \"rectangle\",\n",
      "      \"name\": \"dog\",\n",
      "      \"required\": false,\n",
      "      \"color\": \"#ff0000\",\n",
      "      \"classifications\": [],\n",
      "      \"schemaNodeId\": null,\n",
      "      \"featureSchemaId\": null\n",
      "    },\n",
      "    {\n",
      "      \"tool\": \"superpixel\",\n",
      "      \"name\": \"cat\",\n",
      "      \"required\": false,\n",
      "      \"color\": \"#00ffff\",\n",
      "      \"classifications\": [],\n",
      "      \"schemaNodeId\": null,\n",
      "      \"featureSchemaId\": null\n",
      "    }\n",
      "  ],\n",
      "  \"classifications\": []\n",
      "}\n"
     ]
    }
   ],
   "source": [
    "# Adding to the tool over time\n",
    "ontology_builder = OntologyBuilder()\n",
    "tool_dog = Tool(tool=Tool.Type.BBOX, name=\"dog\")\n",
    "tool_cat = Tool(tool=Tool.Type.SEGMENTATION, name=\"cat\")\n",
    "ontology_builder.add_tool(tool_dog)\n",
    "ontology_builder.add_tool(tool_cat)\n",
    "# Exactly the same as the using the init\n",
    "print(json.dumps(ontology_builder.asdict(), indent = 2))"
   ]
  },
  {
   "cell_type": "code",
   "execution_count": 7,
   "id": "crazy-aside",
   "metadata": {},
   "outputs": [
    {
     "name": "stdout",
     "output_type": "stream",
     "text": [
      "{\n",
      "  \"tools\": [\n",
      "    {\n",
      "      \"tool\": \"rectangle\",\n",
      "      \"name\": \"dog\",\n",
      "      \"required\": false,\n",
      "      \"color\": \"#ff0000\",\n",
      "      \"classifications\": [],\n",
      "      \"schemaNodeId\": null,\n",
      "      \"featureSchemaId\": null\n",
      "    },\n",
      "    {\n",
      "      \"tool\": \"superpixel\",\n",
      "      \"name\": \"cat\",\n",
      "      \"required\": false,\n",
      "      \"color\": \"#00ffff\",\n",
      "      \"classifications\": [\n",
      "        {\n",
      "          \"type\": \"text\",\n",
      "          \"instructions\": \"name\",\n",
      "          \"name\": \"name\",\n",
      "          \"required\": false,\n",
      "          \"options\": [],\n",
      "          \"schemaNodeId\": null,\n",
      "          \"featureSchemaId\": null\n",
      "        }\n",
      "      ],\n",
      "      \"schemaNodeId\": null,\n",
      "      \"featureSchemaId\": null\n",
      "    }\n",
      "  ],\n",
      "  \"classifications\": [\n",
      "    {\n",
      "      \"type\": \"radio\",\n",
      "      \"instructions\": \"image_quality\",\n",
      "      \"name\": \"image_quality\",\n",
      "      \"required\": false,\n",
      "      \"options\": [\n",
      "        {\n",
      "          \"schemaNodeId\": null,\n",
      "          \"featureSchemaId\": null,\n",
      "          \"label\": \"clear\",\n",
      "          \"value\": \"clear\",\n",
      "          \"options\": []\n",
      "        },\n",
      "        {\n",
      "          \"schemaNodeId\": null,\n",
      "          \"featureSchemaId\": null,\n",
      "          \"label\": \"blurry\",\n",
      "          \"value\": \"blurry\",\n",
      "          \"options\": []\n",
      "        }\n",
      "      ],\n",
      "      \"schemaNodeId\": null,\n",
      "      \"featureSchemaId\": null\n",
      "    }\n",
      "  ]\n",
      "}\n"
     ]
    }
   ],
   "source": [
    "# Classifications are supported too (Both for top level and as subclassifications)\n",
    "ontology_builder = OntologyBuilder(\n",
    "    tools=[\n",
    "        Tool(tool=Tool.Type.BBOX, name=\"dog\"),\n",
    "        Tool(tool=Tool.Type.SEGMENTATION,\n",
    "             name=\"cat\",\n",
    "             classifications=[\n",
    "                 Classification(class_type=Classification.Type.TEXT,\n",
    "                                instructions=\"name\")\n",
    "             ])\n",
    "    ],\n",
    "    classifications=[\n",
    "        Classification(class_type=Classification.Type.RADIO,\n",
    "                       instructions=\"image_quality\",\n",
    "                       options=[Option(value=\"clear\"),\n",
    "                                Option(value=\"blurry\")])\n",
    "    ])\n",
    "print(json.dumps(ontology_builder.asdict(), indent = 2))"
   ]
  },
  {
   "cell_type": "code",
   "execution_count": 8,
   "id": "pacific-combining",
   "metadata": {},
   "outputs": [],
   "source": [
    "# Note that all Tool objects are constructed the same way:\n",
    "bbox_tool = Tool(tool=Tool.Type.BBOX, name=\"dog_box\")\n",
    "poly_tool = Tool(tool=Tool.Type.POLYGON, name=\"dog_poly\")\n",
    "seg_tool = Tool(tool=Tool.Type.SEGMENTATION, name=\"dog_seg\")\n",
    "point_tool = Tool(tool=Tool.Type.POINT, name=\"dog_center\")\n",
    "line_tool = Tool(tool=Tool.Type.LINE, name=\"dog_orientation\")\n",
    "ner_tool = Tool(tool=Tool.Type.NER, name=\"dog_reference\")\n",
    "# All with optional colors,  and subclass"
   ]
  },
  {
   "cell_type": "code",
   "execution_count": 9,
   "id": "involved-effects",
   "metadata": {},
   "outputs": [],
   "source": [
    "# Classifications are all constructed the same way except text which doesn't require options\n",
    "# Classifications can belong to the full data_row (image,text, or video classification)\n",
    "#     Or they can be subclasses to a tool (ie dog bounding box, with a breed classification)\n",
    "\n",
    "text_classification = Classification(class_type=Classification.Type.TEXT,\n",
    "                                     instructions=\"dog_name\")\n",
    "radio_classification = Classification(class_type=Classification.Type.CHECKLIST,\n",
    "                                      instructions=\"dog_breed\",\n",
    "                                      options=[Option(\"poodle\")])\n",
    "dropdown_classification = Classification(\n",
    "    class_type=Classification.Type.DROPDOWN,\n",
    "    instructions=\"dog_features\",\n",
    "    options=[Option(\"short\"), Option(\"fluffy\")])\n",
    "checklist_classification = Classification(\n",
    "    class_type=Classification.Type.CHECKLIST,\n",
    "    instructions=\"background\",\n",
    "    options=[Option(\"at_park\"), Option(\"has_leash\")])"
   ]
  },
  {
   "cell_type": "markdown",
   "id": "boring-detail",
   "metadata": {},
   "source": [
    "### Read\n"
   ]
  },
  {
   "cell_type": "code",
   "execution_count": 10,
   "id": "brazilian-royalty",
   "metadata": {},
   "outputs": [],
   "source": [
    "# We can fetch ontologies by its relationship to a project\n",
    "project = client.get_project(PROJECT_ID)\n",
    "ontology = project.ontology()"
   ]
  },
  {
   "cell_type": "code",
   "execution_count": 11,
   "id": "collaborative-stephen",
   "metadata": {},
   "outputs": [
    {
     "name": "stdout",
     "output_type": "stream",
     "text": [
      "{\n",
      "  \"tools\": [\n",
      "    {\n",
      "      \"tool\": \"rectangle\",\n",
      "      \"name\": \"person\",\n",
      "      \"required\": false,\n",
      "      \"color\": \"#ff0000\",\n",
      "      \"classifications\": [\n",
      "        {\n",
      "          \"type\": \"radio\",\n",
      "          \"instructions\": \"has_handbag\",\n",
      "          \"name\": \"has_handbag\",\n",
      "          \"required\": false,\n",
      "          \"options\": [\n",
      "            {\n",
      "              \"schemaNodeId\": \"ckr083u8g8ien0yar9pc10mlf\",\n",
      "              \"featureSchemaId\": \"ckr083u8g8ieo0yargphlg4dq\",\n",
      "              \"label\": \"True\",\n",
      "              \"value\": \"True\",\n",
      "              \"options\": []\n",
      "            },\n",
      "            {\n",
      "              \"schemaNodeId\": \"ckr083u8h8iep0yar0s1x5syr\",\n",
      "              \"featureSchemaId\": \"ckr083u8h8ieq0yar9gtddq0k\",\n",
      "              \"label\": \"False\",\n",
      "              \"value\": \"False\",\n",
      "              \"options\": []\n",
      "            }\n",
      "          ],\n",
      "          \"schemaNodeId\": \"ckr083sxf8iei0yar9y0radk3\",\n",
      "          \"featureSchemaId\": \"ckr083sxf8iej0yardcg05ffq\"\n",
      "        }\n",
      "      ],\n",
      "      \"schemaNodeId\": \"ckr083qt78ie60yar9rsh40p1\",\n",
      "      \"featureSchemaId\": \"ckr083qt78ie70yar0goy4trr\"\n",
      "    }\n",
      "  ],\n",
      "  \"classifications\": []\n",
      "}\n"
     ]
    }
   ],
   "source": [
    "# This ontology is an object that represents an ontology that exists in labelbox\n",
    "#  (unlike the ontology builder that only exists in your local python version)\n",
    "# To construct a local ontology from a ontology db object you can do:\n",
    "ontology_builder = OntologyBuilder.from_dict(ontology.normalized)\n",
    "print(json.dumps(ontology_builder.asdict(), indent = 2))"
   ]
  },
  {
   "cell_type": "code",
   "execution_count": 12,
   "id": "promotional-treasury",
   "metadata": {},
   "outputs": [
    {
     "name": "stdout",
     "output_type": "stream",
     "text": [
      "{\n",
      "  \"tools\": [\n",
      "    {\n",
      "      \"tool\": \"rectangle\",\n",
      "      \"name\": \"person\",\n",
      "      \"required\": false,\n",
      "      \"color\": \"#ff0000\",\n",
      "      \"classifications\": [\n",
      "        {\n",
      "          \"type\": \"radio\",\n",
      "          \"instructions\": \"has_handbag\",\n",
      "          \"name\": \"has_handbag\",\n",
      "          \"required\": false,\n",
      "          \"options\": [\n",
      "            {\n",
      "              \"schemaNodeId\": \"ckr083u8g8ien0yar9pc10mlf\",\n",
      "              \"featureSchemaId\": \"ckr083u8g8ieo0yargphlg4dq\",\n",
      "              \"label\": \"True\",\n",
      "              \"value\": \"True\",\n",
      "              \"options\": []\n",
      "            },\n",
      "            {\n",
      "              \"schemaNodeId\": \"ckr083u8h8iep0yar0s1x5syr\",\n",
      "              \"featureSchemaId\": \"ckr083u8h8ieq0yar9gtddq0k\",\n",
      "              \"label\": \"False\",\n",
      "              \"value\": \"False\",\n",
      "              \"options\": []\n",
      "            }\n",
      "          ],\n",
      "          \"schemaNodeId\": \"ckr083sxf8iei0yar9y0radk3\",\n",
      "          \"featureSchemaId\": \"ckr083sxf8iej0yardcg05ffq\"\n",
      "        }\n",
      "      ],\n",
      "      \"schemaNodeId\": \"ckr083qt78ie60yar9rsh40p1\",\n",
      "      \"featureSchemaId\": \"ckr083qt78ie70yar0goy4trr\"\n",
      "    }\n",
      "  ],\n",
      "  \"classifications\": []\n",
      "}\n"
     ]
    }
   ],
   "source": [
    "# You can even do\n",
    "ontology_builder = OntologyBuilder.from_project(project)\n",
    "print(json.dumps(ontology_builder.asdict(), indent = 2))"
   ]
  },
  {
   "cell_type": "code",
   "execution_count": 13,
   "id": "boring-hearing",
   "metadata": {},
   "outputs": [],
   "source": [
    "# Note that this includes all the extra information about the ontology that was created for you\n",
    "# (Such as Ids). These are useful for uploading"
   ]
  },
  {
   "cell_type": "markdown",
   "id": "relevant-transfer",
   "metadata": {},
   "source": [
    "### Update and Delete\n",
    "- At this time, these options are not supported from the SDK.\n",
    "- Updating an ontology is dangerous and could cause labels to be hidden. \n",
    "    - Use caution when doing so"
   ]
  },
  {
   "cell_type": "code",
   "execution_count": null,
   "id": "beautiful-column",
   "metadata": {},
   "outputs": [],
   "source": []
  }
 ],
 "metadata": {
  "kernelspec": {
   "display_name": "Python 3",
   "language": "python",
   "name": "python3"
  },
  "language_info": {
   "codemirror_mode": {
    "name": "ipython",
    "version": 3
   },
   "file_extension": ".py",
   "mimetype": "text/x-python",
   "name": "python",
   "nbconvert_exporter": "python",
   "pygments_lexer": "ipython3",
   "version": "3.8.2"
  }
 },
 "nbformat": 4,
 "nbformat_minor": 5
}
