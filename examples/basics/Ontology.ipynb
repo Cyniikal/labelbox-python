{
 "cells": [
  {
   "cell_type": "markdown",
   "id": "exposed-bullet",
   "metadata": {},
   "source": [
    "# Ontology\n",
    "\n",
    "* An ontology defines the types of vector tools and classifications available for a project\n",
    "* Currently the only way to create an ontology object is by setting up a project with one.\n",
    "* Project setup is going to be explained in another section. \n",
    "* This notebook will cover client side tools for working with ontologies\n",
    "-----\n",
    "Set the following variable to run this notebook"
   ]
  },
  {
   "cell_type": "code",
   "execution_count": 1,
   "id": "treated-convenience",
   "metadata": {},
   "outputs": [],
   "source": [
    "#Make sure this project has been fully setup\n",
    "PROJECT_ID = \"ckm4xyfncfgja0760vpfdxoro\""
   ]
  },
  {
   "cell_type": "code",
   "execution_count": 2,
   "id": "prescription-harbor",
   "metadata": {},
   "outputs": [
    {
     "ename": "ImportError",
     "evalue": "cannot import name 'OntologyBuilder' from 'labelbox.schema.ontology' (/Users/matthewsokoloff/Library/Python/3.8/lib/python/site-packages/labelbox/schema/ontology.py)",
     "output_type": "error",
     "traceback": [
      "\u001b[0;31m---------------------------------------------------------------------------\u001b[0m",
      "\u001b[0;31mImportError\u001b[0m                               Traceback (most recent call last)",
      "\u001b[0;32m<ipython-input-2-128ad64f9bcd>\u001b[0m in \u001b[0;36m<module>\u001b[0;34m\u001b[0m\n\u001b[0;32m----> 1\u001b[0;31m \u001b[0;32mfrom\u001b[0m \u001b[0mlabelbox\u001b[0m\u001b[0;34m.\u001b[0m\u001b[0mschema\u001b[0m\u001b[0;34m.\u001b[0m\u001b[0montology\u001b[0m \u001b[0;32mimport\u001b[0m \u001b[0mOntologyBuilder\u001b[0m\u001b[0;34m,\u001b[0m \u001b[0mTool\u001b[0m\u001b[0;34m,\u001b[0m \u001b[0mClassification\u001b[0m\u001b[0;34m\u001b[0m\u001b[0;34m\u001b[0m\u001b[0m\n\u001b[0m\u001b[1;32m      2\u001b[0m \u001b[0;32mfrom\u001b[0m \u001b[0mlabelbox\u001b[0m \u001b[0;32mimport\u001b[0m \u001b[0mproject\u001b[0m\u001b[0;34m\u001b[0m\u001b[0;34m\u001b[0m\u001b[0m\n",
      "\u001b[0;31mImportError\u001b[0m: cannot import name 'OntologyBuilder' from 'labelbox.schema.ontology' (/Users/matthewsokoloff/Library/Python/3.8/lib/python/site-packages/labelbox/schema/ontology.py)"
     ]
    }
   ],
   "source": [
    "from labelbox.schema.ontology import OntologyBuilder, Tool, Classification\n",
    "from labelbox import project"
   ]
  },
  {
   "cell_type": "markdown",
   "id": "sophisticated-sunglasses",
   "metadata": {},
   "source": [
    "#### Create"
   ]
  },
  {
   "cell_type": "code",
   "execution_count": 3,
   "id": "recent-composer",
   "metadata": {},
   "outputs": [
    {
     "data": {
      "text/plain": [
       "'2.4.10'"
      ]
     },
     "execution_count": 3,
     "metadata": {},
     "output_type": "execute_result"
    }
   ],
   "source": [
    "pip3 install "
   ]
  },
  {
   "cell_type": "code",
   "execution_count": null,
   "id": "published-maintenance",
   "metadata": {},
   "outputs": [],
   "source": []
  }
 ],
 "metadata": {
  "kernelspec": {
   "display_name": "Python 3",
   "language": "python",
   "name": "python3"
  },
  "language_info": {
   "codemirror_mode": {
    "name": "ipython",
    "version": 3
   },
   "file_extension": ".py",
   "mimetype": "text/x-python",
   "name": "python",
   "nbconvert_exporter": "python",
   "pygments_lexer": "ipython3",
   "version": "3.8.2"
  }
 },
 "nbformat": 4,
 "nbformat_minor": 5
}
