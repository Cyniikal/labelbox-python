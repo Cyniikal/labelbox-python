{
 "cells": [
  {
   "cell_type": "markdown",
   "id": "wound-processing",
   "metadata": {},
   "source": [
    "# Projects"
   ]
  },
  {
   "cell_type": "markdown",
   "id": "absolute-allocation",
   "metadata": {},
   "source": [
    "* A project can be thought of as a specific labeling task on a set of labels\n",
    "* That set of labels is defined by the datasets attached to the project\n",
    "    - Those datasets have data rows which is what is being labeled\n",
    "* Each project has an ontology which defines the types of annotations supported during this labeling pass\n",
    "\n",
    "** Note that there is a lot of advanced usage that is not covered in this notebook. See project_setup for those functions.\n",
    "* Also note that deprecated functions are not explained here."
   ]
  },
  {
   "cell_type": "code",
   "execution_count": null,
   "id": "binary-affiliation",
   "metadata": {},
   "outputs": [],
   "source": [
    "!pip install labelbox"
   ]
  },
  {
   "cell_type": "code",
   "execution_count": null,
   "id": "broad-cricket",
   "metadata": {},
   "outputs": [],
   "source": [
    "from labelbox import Client\n",
    "import os"
   ]
  },
  {
   "cell_type": "code",
   "execution_count": null,
   "id": "transsexual-oakland",
   "metadata": {},
   "outputs": [],
   "source": [
    "# If you don't want to give google access to drive you can skip this cell\n",
    "# and manually set `API_KEY` below.\n",
    "\n",
    "COLAB = \"google.colab\" in str(get_ipython())\n",
    "if COLAB:\n",
    "    !pip install colab-env -qU\n",
    "    from colab_env import envvar_handler\n",
    "    envvar_handler.envload() \n",
    "\n",
    "API_KEY = os.environ.get(\"LABELBOX_API_KEY\")\n",
    "if not os.environ.get(\"LABELBOX_API_KEY\"):\n",
    "    API_KEY = getpass(\"Please enter your labelbox api key\")\n",
    "    if COLAB:\n",
    "        envvar_handler.add_env(\"LABELBOX_API_KEY\", API_KEY)"
   ]
  },
  {
   "cell_type": "code",
   "execution_count": null,
   "id": "intermediate-istanbul",
   "metadata": {},
   "outputs": [],
   "source": [
    "# Only update this if you have an on-prem deployment\n",
    "ENDPOINT = \"https://api.labelbox.com/graphql\""
   ]
  },
  {
   "cell_type": "code",
   "execution_count": 1,
   "id": "herbal-examination",
   "metadata": {},
   "outputs": [],
   "source": [
    "client = Client(api_key=API_KEY, endpoint=ENDPOINT)"
   ]
  },
  {
   "cell_type": "markdown",
   "id": "designing-driver",
   "metadata": {},
   "source": [
    "### Create\n"
   ]
  },
  {
   "cell_type": "code",
   "execution_count": 2,
   "id": "super-notification",
   "metadata": {},
   "outputs": [],
   "source": [
    "#Creates an empty project\n",
    "project = client.create_project(name=\"my-test-project\",\n",
    "                                description=\"a description\")"
   ]
  },
  {
   "cell_type": "markdown",
   "id": "significant-desperate",
   "metadata": {},
   "source": [
    "### Read"
   ]
  },
  {
   "cell_type": "code",
   "execution_count": 3,
   "id": "secondary-marine",
   "metadata": {},
   "outputs": [
    {
     "name": "stdout",
     "output_type": "stream",
     "text": [
      "Project is not setup yet: True\n",
      "Project name: my-test-project\n",
      "Project description: a description\n",
      "Dataset: []\n",
      "{'tools': [], 'classifications': []}\n",
      "Reviews: <labelbox.pagination.PaginatedCollection object at 0x10fb6af40>\n",
      "Benchmarks: <labelbox.pagination.PaginatedCollection object at 0x112cac610>\n"
     ]
    }
   ],
   "source": [
    "#Note the project is not setup (so a lot of these fiels are empty). Follow the project setup workflow\n",
    "print(\"Project is not setup yet:\", project.setup_complete is None)\n",
    "print(\"Project name:\", project.name)\n",
    "print(\"Project description:\", project.description)\n",
    "print(\"Dataset:\", list(project.datasets()))\n",
    "print(project.ontology().normalized)\n",
    "print(\"Reviews:\", project.reviews())\n",
    "print(\"Benchmarks:\", project.benchmarks())"
   ]
  },
  {
   "cell_type": "markdown",
   "id": "sealed-perth",
   "metadata": {},
   "source": [
    "### Update\n",
    "\n"
   ]
  },
  {
   "cell_type": "code",
   "execution_count": 4,
   "id": "lined-circuit",
   "metadata": {},
   "outputs": [
    {
     "name": "stdout",
     "output_type": "stream",
     "text": [
      "['test-ds']\n"
     ]
    }
   ],
   "source": [
    "#Attach dataset\n",
    "ds = client.create_dataset(name=\"test-ds\")\n",
    "project.datasets.connect(ds)\n",
    "print([ds.name for ds in project.datasets()])\n",
    "ds.delete()"
   ]
  },
  {
   "cell_type": "markdown",
   "id": "statistical-mission",
   "metadata": {},
   "source": [
    "### Delete"
   ]
  },
  {
   "cell_type": "code",
   "execution_count": null,
   "id": "superior-gather",
   "metadata": {},
   "outputs": [],
   "source": [
    "project.delete()"
   ]
  }
 ],
 "metadata": {
  "kernelspec": {
   "display_name": "Python 3",
   "language": "python",
   "name": "python3"
  },
  "language_info": {
   "codemirror_mode": {
    "name": "ipython",
    "version": 3
   },
   "file_extension": ".py",
   "mimetype": "text/x-python",
   "name": "python",
   "nbconvert_exporter": "python",
   "pygments_lexer": "ipython3",
   "version": "3.8.2"
  }
 },
 "nbformat": 4,
 "nbformat_minor": 5
}
