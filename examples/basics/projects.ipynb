{
    "cells": [
        {
            "cell_type": "markdown",
            "id": "db768cda",
            "metadata": {},
            "source": [
                "<td>\n",
                "   <a target=\"_blank\" href=\"https://labelbox.com\" ><img src=\"https://labelbox.com/blog/content/images/2021/02/logo-v4.svg\" width=256/></a>\n",
                "</td>"
            ]
        },
        {
            "cell_type": "markdown",
            "id": "cb5611d0",
            "metadata": {},
            "source": [
                "<td>\n",
                "<a href=\"https://colab.research.google.com/github/Labelbox/labelbox-python/blob/develop/examples/basics/projects.ipynb\" target=\"_blank\"><img\n",
                "src=\"https://colab.research.google.com/assets/colab-badge.svg\" alt=\"Open In Colab\"></a>\n",
                "</td>\n",
                "\n",
                "<td>\n",
                "<a href=\"https://github.com/Labelbox/labelbox-python/tree/develop/examples/basics/projects.ipynb\" target=\"_blank\"><img\n",
                "src=\"https://img.shields.io/badge/GitHub-100000?logo=github&logoColor=white\" alt=\"GitHub\"></a>\n",
                "</td>"
            ]
        },
        {
            "cell_type": "markdown",
            "id": "wound-processing",
            "metadata": {},
            "source": [
                "# Projects"
            ]
        },
        {
            "cell_type": "markdown",
            "id": "absolute-allocation",
            "metadata": {},
            "source": [
                "* A project can be thought of as a specific labeling task on a set of labels\n",
                "* That set of labels is defined by the datasets attached to the project\n",
                "    - Those datasets have data rows which is what is being labeled\n",
                "* Each project has an ontology which defines the types of annotations supported during this labeling pass\n",
                "\n",
                "** Note that there is a lot of advanced usage that is not covered in this notebook. See project_setup for those functions.\n",
                "* Also note that deprecated functions are not explained here."
            ]
        },
        {
            "cell_type": "code",
            "execution_count": 1,
            "id": "binary-affiliation",
            "metadata": {},
            "outputs": [],
            "source": [
                "!pip install labelbox"
            ]
        },
        {
            "cell_type": "code",
            "execution_count": 2,
            "id": "broad-cricket",
            "metadata": {},
            "outputs": [],
            "source": [
                "from labelbox import Client\n",
                "import os"
            ]
        },
        {
            "cell_type": "markdown",
            "id": "8c175b0b",
            "metadata": {},
            "source": [
                "# API Key and Client\n",
                "Provide a valid api key below in order to properly connect to the Labelbox Client."
            ]
        },
        {
            "cell_type": "code",
            "execution_count": 5,
            "id": "herbal-examination",
            "metadata": {},
            "outputs": [],
            "source": [
                "# Add your api key\n",
                "API_KEY = None\n",
                "client = Client(api_key=API_KEY)"
            ]
        },
        {
            "cell_type": "markdown",
            "id": "designing-driver",
            "metadata": {},
            "source": [
                "### Create\n"
            ]
        },
        {
            "cell_type": "code",
            "execution_count": 6,
            "id": "super-notification",
            "metadata": {},
            "outputs": [],
            "source": [
                "#Creates an empty project\n",
                "project = client.create_project(name=\"my-test-project\",\n",
                "                                description=\"a description\")"
            ]
        },
        {
            "cell_type": "markdown",
            "id": "significant-desperate",
            "metadata": {},
            "source": [
                "### Read"
            ]
        },
        {
            "cell_type": "code",
            "execution_count": 7,
            "id": "secondary-marine",
            "metadata": {},
            "outputs": [
                {
                    "name": "stdout",
                    "output_type": "stream",
                    "text": [
                        "Project is not setup yet: True\n",
                        "Project name: my-test-project\n",
                        "Project description: a description\n",
                        "Dataset: []\n",
                        "{'tools': [], 'classifications': []}\n",
                        "Reviews: <labelbox.pagination.PaginatedCollection object at 0x10fb6af40>\n",
                        "Benchmarks: <labelbox.pagination.PaginatedCollection object at 0x112cac610>\n"
                    ]
                }
            ],
            "source": [
                "#Note the project is not setup (so a lot of these fiels are empty). Follow the project setup workflow\n",
                "print(\"Project is not setup yet:\", project.setup_complete is None)\n",
                "print(\"Project name:\", project.name)\n",
                "print(\"Project description:\", project.description)\n",
                "print(\"Dataset:\", list(project.datasets()))\n",
                "print(project.ontology().normalized)\n",
                "print(\"Reviews:\", project.reviews())\n",
                "print(\"Benchmarks:\", project.benchmarks())"
            ]
        },
        {
            "cell_type": "markdown",
            "id": "sealed-perth",
            "metadata": {},
            "source": [
                "### Update\n",
                "\n"
            ]
        },
        {
            "cell_type": "code",
            "execution_count": 8,
            "id": "lined-circuit",
            "metadata": {},
            "outputs": [
                {
                    "name": "stdout",
                    "output_type": "stream",
                    "text": [
                        "['test-ds']\n"
                    ]
                }
            ],
            "source": [
                "#Attach dataset\n",
                "ds = client.create_dataset(name=\"test-ds\")\n",
                "project.datasets.connect(ds)\n",
                "print([ds.name for ds in project.datasets()])\n",
                "ds.delete()"
            ]
        },
        {
            "cell_type": "markdown",
            "id": "statistical-mission",
            "metadata": {},
            "source": [
                "### Delete"
            ]
        },
        {
            "cell_type": "code",
            "execution_count": 9,
            "id": "superior-gather",
            "metadata": {},
            "outputs": [],
            "source": [
                "project.delete()"
            ]
        }
    ],
    "metadata": {
        "kernelspec": {
            "display_name": "Python 3",
            "language": "python",
            "name": "python3"
        },
        "language_info": {
            "codemirror_mode": {
                "name": "ipython",
                "version": 3
            },
            "file_extension": ".py",
            "mimetype": "text/x-python",
            "name": "python",
            "nbconvert_exporter": "python",
            "pygments_lexer": "ipython3",
            "version": "3.8.2"
        }
    },
    "nbformat": 4,
    "nbformat_minor": 5
}
