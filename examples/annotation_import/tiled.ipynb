{
  "cells": [
    {
      "cell_type": "markdown",
      "id": "db768cda",
      "metadata": {
        "id": "db768cda"
      },
      "source": [
        "<td>\n",
        "   <a target=\"_blank\" href=\"https://labelbox.com\" ><img src=\"https://labelbox.com/blog/content/images/2021/02/logo-v4.svg\" width=256/></a>\n",
        "</td>"
      ]
    },
    {
      "cell_type": "markdown",
      "id": "cb5611d0",
      "metadata": {
        "id": "cb5611d0"
      },
      "source": [
        "<td>\n",
        "<a href=\"https://colab.research.google.com/github/Labelbox/labelbox-python/blob/develop/examples/annotation_import/tiled.ipynb\" target=\"_blank\"><img\n",
        "src=\"https://colab.research.google.com/assets/colab-badge.svg\" alt=\"Open In Colab\"></a>\n",
        "</td>\n",
        "\n",
        "<td>\n",
        "<a href=\"https://github.com/Labelbox/labelbox-python/tree/develop/examples/annotation_import/tiled.ipynb\" target=\"_blank\"><img\n",
        "src=\"https://img.shields.io/badge/GitHub-100000?logo=github&logoColor=white\" alt=\"GitHub\"></a>\n",
        "</td>"
      ]
    },
    {
      "cell_type": "markdown",
      "id": "stupid-court",
      "metadata": {
        "id": "stupid-court"
      },
      "source": [
        "# Tiled Imagery Annotation Import\n",
        "* This notebook will provide examples of each supported annotation type for tiled imagery assets. It will cover the following:\n",
        "    * Model-assisted labeling - used to provide pre-annotated data for your labelers. This will enable a reduction in the total amount of time to properly label your assets. Model-assisted labeling does not submit the labels automatically, and will need to be reviewed by a labeler for submission.\n",
        "    * Label Import - used to provide ground truth labels. These can in turn be used and compared against prediction labels, or used as benchmarks to see how your labelers are doing."
      ]
    },
    {
      "cell_type": "markdown",
      "id": "fd21ef93-b032-4569-a879-bcc214463a36",
      "metadata": {
        "id": "fd21ef93-b032-4569-a879-bcc214463a36"
      },
      "source": [
        "* For information on what types of annotations are supported per data type, refer to this documentation:\n",
        "    * https://docs.labelbox.com/docs/model-assisted-labeling#option-1-import-via-python-annotation-types-recommended"
      ]
    },
    {
      "cell_type": "markdown",
      "id": "intellectual-idaho",
      "metadata": {
        "id": "intellectual-idaho"
      },
      "source": [
        "* Notes:\n",
        "    * The example in the notebook uses a heuristic to prelabel water in the imagery\n",
        "    * If you are importing more than 1,000 mask annotations at a time, consider submitting separate jobs, as they can take longer than other annotation types to import.\n",
        "    * Wait until the import job is complete before opening the Editor to make sure all annotations are imported properly."
      ]
    },
    {
      "cell_type": "code",
      "execution_count": null,
      "id": "voluntary-minister",
      "metadata": {
        "id": "voluntary-minister"
      },
      "outputs": [],
      "source": [
        "!pip install -q 'labelbox[data]'"
      ]
    },
    {
      "cell_type": "code",
      "execution_count": null,
      "id": "committed-richards",
      "metadata": {
        "id": "committed-richards"
      },
      "outputs": [],
      "source": [
        "import os\n",
        "\n",
        "import uuid\n",
        "import numpy as np\n",
        "from PIL import Image\n",
        "import cv2\n",
        "import ndjson\n",
        "\n",
        "from labelbox.data.annotation_types.data.tiled_image import TiledBounds, TiledImageData, TileLayer, EPSG, EPSGTransformer\n",
        "from labelbox.data.serialization.ndjson.converter import NDJsonConverter\n",
        "from labelbox.data.annotation_types import (\n",
        "    Label, ImageData, ObjectAnnotation, MaskData,\n",
        "    Rectangle, Point, Line, Mask, Polygon,\n",
        "    Radio, Checklist, Text,\n",
        "    ClassificationAnnotation, ClassificationAnswer\n",
        ")\n",
        "from labelbox.schema.ontology import OntologyBuilder, Tool, Classification, Option\n",
        "from labelbox import Client, LabelingFrontend, LabelImport, MALPredictionImport"
      ]
    },
    {
      "cell_type": "markdown",
      "id": "f9e10d86",
      "metadata": {
        "id": "f9e10d86"
      },
      "source": [
        "# API Key and Client\n",
        "Provide a valid api key below in order to properly connect to the Labelbox Client."
      ]
    },
    {
      "cell_type": "code",
      "execution_count": null,
      "id": "affecting-myanmar",
      "metadata": {
        "id": "affecting-myanmar",
        "outputId": "579e69b8-a76f-4e8d-e858-f9f8cd2bae06"
      },
      "outputs": [
        {
          "name": "stderr",
          "output_type": "stream",
          "text": [
            "INFO:labelbox.client:Initializing Labelbox client at 'https://api.labelbox.com/graphql'\n"
          ]
        }
      ],
      "source": [
        "# Add your api key\n",
        "API_KEY = None\n",
        "client = Client(api_key=API_KEY)"
      ]
    },
    {
      "cell_type": "markdown",
      "id": "b11a485f-5cb1-4b6d-8a56-622ba3a21f05",
      "metadata": {
        "id": "b11a485f-5cb1-4b6d-8a56-622ba3a21f05"
      },
      "source": [
        "---- \n",
        "### Steps\n",
        "1. Make sure project is setup\n",
        "2. Collect annotations\n",
        "3. Upload"
      ]
    },
    {
      "cell_type": "markdown",
      "id": "blessed-venture",
      "metadata": {
        "id": "blessed-venture"
      },
      "source": [
        "### Project Setup"
      ]
    },
    {
      "cell_type": "markdown",
      "id": "d80b1fa6-59dd-4a36-bf25-29ec9e432bad",
      "metadata": {
        "id": "d80b1fa6-59dd-4a36-bf25-29ec9e432bad"
      },
      "source": [
        "We will be creating two projects, one for model-assisted labeling, and one for label imports"
      ]
    },
    {
      "cell_type": "code",
      "execution_count": null,
      "id": "suburban-crowd",
      "metadata": {
        "id": "suburban-crowd"
      },
      "outputs": [],
      "source": [
        "ontology_builder = OntologyBuilder(\n",
        "    tools=[\n",
        "        Tool(tool=Tool.Type.BBOX, name=\"box\"),\n",
        "        Tool(tool=Tool.Type.LINE, name=\"line\"),\n",
        "        Tool(tool=Tool.Type.POINT, name=\"point\"),\n",
        "        Tool(tool=Tool.Type.POLYGON, name=\"polygon\"),    \n",
        "        Tool(tool=Tool.Type.SEGMENTATION, name=\"mask\")],\n",
        "    classifications=[\n",
        "        Classification(class_type=Classification.Type.TEXT, instructions=\"text\"),\n",
        "        Classification(class_type=Classification.Type.CHECKLIST, instructions=\"checklist\", options=[\n",
        "            Option(value=\"first_checklist_answer\"),\n",
        "            Option(value=\"second_checklist_answer\")            \n",
        "        ]),\n",
        "        Classification(class_type=Classification.Type.RADIO, instructions=\"radio\", options=[\n",
        "            Option(value=\"first_radio_answer\"),\n",
        "            Option(value=\"second_radio_answer\")\n",
        "        ]),                                      \n",
        "])\n"
      ]
    },
    {
      "cell_type": "code",
      "execution_count": null,
      "id": "modern-program",
      "metadata": {
        "id": "modern-program"
      },
      "outputs": [],
      "source": [
        "# This notebook only uploads data for a single dataRow.\n",
        "\n",
        "# Select the region to label within the image\n",
        "top_left_bound = Point(x=-122.31764674186705, y=37.87276155898985)\n",
        "bottom_right_bound = Point(x=-122.31635199317932, y=37.87398109727749)\n",
        "\n",
        "epsg = EPSG.EPSG4326\n",
        "bounds = TiledBounds(epsg=epsg, bounds=[top_left_bound, bottom_right_bound])\n",
        "tile_layer = TileLayer(\n",
        "    url=\n",
        "    \"https://public-tiles.dronedeploy.com/1499994155_DANIELOPENPIPELINE_ortho_qfs/{z}/{x}/{y}.png?Policy=eyJTdGF0ZW1lbnQiOlt7IlJlc291cmNlIjoiaHR0cHM6Ly9wdWJsaWMtdGlsZXMuZHJvbmVkZXBsb3kuY29tLzE0OTk5OTQxNTVfREFOSUVMT1BFTlBJUEVMSU5FX29ydGhvX3Fmcy8qIiwiQ29uZGl0aW9uIjp7IkRhdGVMZXNzVGhhbiI6eyJBV1M6RXBvY2hUaW1lIjoyMTQ1OTE0MTE4fX19XX0_&Signature=O~50rrGXdEC6Hi8jPJ3dbT~UtBd7Cw6iQPTxdJ8LU2IaoxeP22R3JpKPkLN3T3~Lcw3CyX7uft2Baj0MH93qUoCYyN~~jNX3OMkYV2jbrHDezf6zQRHAabXX-L2bL-JEGfFL6z3DWccOFeCH56CuhgC29k5CJx7I34P-LQJdnAUsA-KaqKH1IyYsHStRIfmMzdXNAWU58FTfqVljq9SbKXxfgdr2SZ~7VgLaZ8IhA0WnlKUo-JgqTd~jYa5mGCpR8351IMK0aMuY4Mld4SOXssQ-rOtlZtypvo8FDp474TlGIEGz5PHxGOPsqLPF19hEYTgoPqsUj8QEuiTfg-cmsg__&Key-Pair-Id=APKAJXGC45PGQXCMCXSA\"\n",
        ")\n",
        "\n",
        "tiled_image_data = TiledImageData(tile_layer=tile_layer,\n",
        "                                  tile_bounds=bounds,\n",
        "                                  zoom_levels=[17, 23])"
      ]
    },
    {
      "cell_type": "code",
      "execution_count": null,
      "id": "generic-freedom",
      "metadata": {
        "id": "generic-freedom"
      },
      "outputs": [],
      "source": [
        "# Lets setup the project\n",
        "# Note: see Ontology, Project, and Project_setup notebooks for more information on this section.\n",
        "\n",
        "mal_project = client.create_project(name=\"tms_mal_project\")\n",
        "li_project = client.create_project(name=\"tms_label_import_project\")\n",
        "dataset = client.create_dataset(name=\"tms_annotation_import_dataset\")\n",
        "\n",
        "# DataRows can only be created as bulk operations for tiled imagery data\n",
        "dataset.create_data_rows([tiled_image_data.asdict()])\n",
        "editor = next(\n",
        "    client.get_labeling_frontends(where=LabelingFrontend.name == \"Editor\"))\n",
        "\n",
        "mal_project.setup(editor, ontology_builder.asdict())\n",
        "mal_project.datasets.connect(dataset)\n",
        "\n",
        "li_project.setup(editor, ontology_builder.asdict())\n",
        "li_project.datasets.connect(dataset)"
      ]
    },
    {
      "cell_type": "markdown",
      "id": "aa593e64-a3ed-4600-b73e-4a8b55fded08",
      "metadata": {
        "id": "aa593e64-a3ed-4600-b73e-4a8b55fded08"
      },
      "source": [
        "### Create Label using Annotation Type Objects\n",
        "* It is recommended to use the Python SDK's annotation types for importing into Labelbox."
      ]
    },
    {
      "cell_type": "markdown",
      "id": "2330b2fd-201e-416d-8e75-15c555834408",
      "metadata": {
        "id": "2330b2fd-201e-416d-8e75-15c555834408"
      },
      "source": [
        "### Object Annotations"
      ]
    },
    {
      "cell_type": "code",
      "execution_count": null,
      "id": "dfe6b879-dde0-4bd7-9cf6-4e33d98abe7c",
      "metadata": {
        "id": "dfe6b879-dde0-4bd7-9cf6-4e33d98abe7c"
      },
      "outputs": [],
      "source": [
        "#we will create every object other than mask and polygon, which will be the next section\n",
        "point = Point(x=100,y=100)\n",
        "point_annotation = ObjectAnnotation(value=point, name=\"point\")\n",
        "\n",
        "rectangle = Rectangle(start=Point(x=30,y=30), end=Point(x=200,y=200))\n",
        "rectangle_annotation = ObjectAnnotation(value=rectangle, name=\"box\")\n",
        "\n",
        "line = Line(points=[Point(x=60,y=70), Point(x=65,y=100), Point(x=80,y=130), Point(x=40,y=200)])\n",
        "line_annotation = ObjectAnnotation(value=line, name=\"line\")"
      ]
    },
    {
      "cell_type": "code",
      "execution_count": null,
      "id": "6381bf67-6d0f-40ea-b94c-35ead87fcb0c",
      "metadata": {
        "id": "6381bf67-6d0f-40ea-b94c-35ead87fcb0c"
      },
      "outputs": [],
      "source": [
        "hsv = cv2.cvtColor(tiled_image_data.value, cv2.COLOR_RGB2HSV)\n",
        "mask = cv2.inRange(hsv, (50, 10, 25), (100, 150, 255))\n",
        "kernel = np.ones((5, 5), np.uint8)\n",
        "mask = cv2.erode(mask, kernel)\n",
        "mask = cv2.dilate(mask, kernel)\n",
        "\n",
        "mask_annotation = MaskData.from_2D_arr(mask)\n",
        "mask_data = Mask(mask=mask_annotation, color=[255, 255, 255])\n",
        "mask_annotation = ObjectAnnotation(value=mask_data, name=\"mask\")\n"
      ]
    },
    {
      "cell_type": "markdown",
      "id": "d6bcc795-1ffb-4e54-996f-938f8ea1e831",
      "metadata": {
        "id": "d6bcc795-1ffb-4e54-996f-938f8ea1e831"
      },
      "source": [
        "#### Converting from pixel coordinates to WGS84 coordinates\n",
        "* We can convert our mask annotation to a different coordinate space.\n",
        "* In this example, our Polygon points will reflect WGS84\n",
        "* This can be repeated for the other Annotation Types if desired."
      ]
    },
    {
      "cell_type": "code",
      "execution_count": null,
      "id": "91292bf2-3592-4dae-921c-c817518b5873",
      "metadata": {
        "id": "91292bf2-3592-4dae-921c-c817518b5873"
      },
      "outputs": [],
      "source": [
        "#generate the pixel bounds for our transformer\n",
        "h, w, _ = tiled_image_data.value.shape\n",
        "pixel_bounds = TiledBounds(epsg=EPSG.SIMPLEPIXEL,\n",
        "                           bounds=[Point(x=0, y=0),\n",
        "                                   Point(x=w, y=h)])\n",
        "\n",
        "transformer = EPSGTransformer.create_pixel_to_geo_transformer(\n",
        "    src_epsg=pixel_bounds.epsg,\n",
        "    pixel_bounds=pixel_bounds,\n",
        "    geo_bounds=tiled_image_data.tile_bounds,\n",
        "    zoom=17)\n",
        "\n",
        "#transform from pixel space back to EPSG 4326\n",
        "pixel_polygons = mask_data.shapely.simplify(3)\n",
        "geo_polygon = transformer(Polygon.from_shapely(pixel_polygons))\n",
        "polygon_annotation = ObjectAnnotation(value=geo_polygon, name=\"polygon\")"
      ]
    },
    {
      "cell_type": "markdown",
      "id": "c678eea6-ef5b-4901-9119-1f490fc6af27",
      "metadata": {
        "id": "c678eea6-ef5b-4901-9119-1f490fc6af27"
      },
      "source": [
        "### Classification Annotations"
      ]
    },
    {
      "cell_type": "code",
      "execution_count": null,
      "id": "305c6d4b-a411-4870-8500-c3fccd2e61e3",
      "metadata": {
        "id": "305c6d4b-a411-4870-8500-c3fccd2e61e3"
      },
      "outputs": [],
      "source": [
        "text = Text(answer=\"the answer to the text question\")\n",
        "text_annotation = ClassificationAnnotation(value=text, name=\"text\")\n",
        "\n",
        "checklist = Checklist(answer=[ClassificationAnswer(name=\"first_checklist_answer\"),ClassificationAnswer(name=\"second_checklist_answer\")])\n",
        "checklist_annotation = ClassificationAnnotation(value=checklist, name=\"checklist\")\n",
        "\n",
        "radio = Radio(answer = ClassificationAnswer(name = \"second_radio_answer\"))\n",
        "radio_annotation = ClassificationAnnotation(value=radio, name=\"radio\")"
      ]
    },
    {
      "cell_type": "markdown",
      "id": "4a073cc6-f3e1-49b0-a8db-833250b0b1c9",
      "metadata": {
        "id": "4a073cc6-f3e1-49b0-a8db-833250b0b1c9"
      },
      "source": [
        "### Create a Label object with all of our annotations"
      ]
    },
    {
      "cell_type": "code",
      "execution_count": null,
      "id": "be835c26-02b0-44fe-94ed-06bca07fe19e",
      "metadata": {
        "id": "be835c26-02b0-44fe-94ed-06bca07fe19e",
        "outputId": "6e89b290-bb73-46c6-838b-3c8393f0ca73"
      },
      "outputs": [
        {
          "data": {
            "text/plain": [
              "{'uid': None,\n",
              " 'data': TextData(file_path=None,text=None,url=None),\n",
              " 'annotations': [ObjectAnnotation(name='point', feature_schema_id=None, extra={}, value=Point(extra={}, x=100.0, y=100.0), classifications=[]),\n",
              "  ObjectAnnotation(name='box', feature_schema_id=None, extra={}, value=Rectangle(extra={}, start=Point(extra={}, x=30.0, y=30.0), end=Point(extra={}, x=200.0, y=200.0)), classifications=[]),\n",
              "  ObjectAnnotation(name='line', feature_schema_id=None, extra={}, value=Line(extra={}, points=[Point(extra={}, x=60.0, y=70.0), Point(extra={}, x=65.0, y=100.0), Point(extra={}, x=80.0, y=130.0), Point(extra={}, x=40.0, y=200.0)]), classifications=[]),\n",
              "  ObjectAnnotation(name='polygon', feature_schema_id=None, extra={}, value=Polygon(extra={}, points=[Point(extra={}, x=-122.31708419322968, y=37.87397262833122), Point(extra={}, x=-122.31677046418189, y=37.87357458675811), Point(extra={}, x=-122.31661900877953, y=37.87345602076741), Point(extra={}, x=-122.31652164459229, y=37.87327817142355), Point(extra={}, x=-122.31635937094688, y=37.87312572878709), Point(extra={}, x=-122.31635937094688, y=37.87398109727749), Point(extra={}, x=-122.31708419322968, y=37.87397262833122)]), classifications=[]),\n",
              "  ObjectAnnotation(name='mask', feature_schema_id=None, extra={}, value=Mask(extra={}, mask=MaskData(im_bytes=None,file_path=None,url=https://storage.labelbox.com/ckcz6bubudyfi0855o1dt1g9s%2Fb053eb48-4ae9-b848-72c2-766dd416de09-1?Expires=1645635318432&KeyName=labelbox-assets-key-3&Signature=JgDTIQpEE_35Vs2ruD39eTDEoNs,arr=...), color=(255, 255, 255)), classifications=[]),\n",
              "  ClassificationAnnotation(name='text', feature_schema_id=None, extra={}, value=Text(answer='the answer to the text question')),\n",
              "  ClassificationAnnotation(name='checklist', feature_schema_id=None, extra={}, value=Checklist(name='checklist', answer=[ClassificationAnswer(name='first_checklist_answer', feature_schema_id=None, extra={}, keyframe=None), ClassificationAnswer(name='second_checklist_answer', feature_schema_id=None, extra={}, keyframe=None)])),\n",
              "  ClassificationAnnotation(name='radio', feature_schema_id=None, extra={}, value=Radio(answer=ClassificationAnswer(name='second_radio_answer', feature_schema_id=None, extra={}, keyframe=None)))],\n",
              " 'extra': {}}"
            ]
          },
          "execution_count": 13,
          "metadata": {},
          "output_type": "execute_result"
        }
      ],
      "source": [
        "datarow_id = next(dataset.data_rows()).uid\n",
        "tiled_image_data.uid = datarow_id\n",
        "\n",
        "label = Label(\n",
        "    data=tiled_image_data,\n",
        "    annotations = [\n",
        "        point_annotation, rectangle_annotation, line_annotation, polygon_annotation, mask_annotation,        \n",
        "        text_annotation, checklist_annotation, radio_annotation\n",
        "    ]\n",
        ")\n",
        "\n",
        "# Create urls to mask data for upload\n",
        "def signing_function(obj_bytes: bytes) -> str:\n",
        "    url = client.upload_data(content=obj_bytes, sign=True)\n",
        "    return url\n",
        "\n",
        "\n",
        "label.add_url_to_masks(signing_function)\n",
        "\n",
        "label.__dict__"
      ]
    },
    {
      "cell_type": "markdown",
      "id": "af335ee5-8c69-439a-b6da-cf94f78165fe",
      "metadata": {
        "id": "af335ee5-8c69-439a-b6da-cf94f78165fe"
      },
      "source": [
        "### Model Assisted Labeling "
      ]
    },
    {
      "cell_type": "markdown",
      "id": "f91f4bf7-bb5f-4862-afbf-fe3bf17b161a",
      "metadata": {
        "id": "f91f4bf7-bb5f-4862-afbf-fe3bf17b161a"
      },
      "source": [
        "To do model-assisted labeling, we need to convert a Label object into an NDJSON. \n",
        "\n",
        "This is easily done with using the NDJSONConverter class\n",
        "\n",
        "We will create a Label called mal_label which has the same original structure as the label above\n",
        "\n",
        "Notes:\n",
        "* Each label requires a valid feature schema id. We will assign it using our built in `assign_feature_schema_ids` method\n",
        "* the NDJsonConverter takes in a list of labels"
      ]
    },
    {
      "cell_type": "code",
      "execution_count": null,
      "id": "88bd96fe",
      "metadata": {
        "id": "88bd96fe",
        "outputId": "7b30c8a5-384f-46ad-8eb8-5acf9e0c133f"
      },
      "outputs": [
        {
          "data": {
            "text/plain": [
              "[{'uuid': 'acb45454-429d-4654-aa19-a822a2ed0de4',\n",
              "  'dataRow': {'id': 'ckzyd7bqd00420zq52ms8aaiw'},\n",
              "  'schemaId': 'ckzyd7cyv190k0zct729ufwb4',\n",
              "  'classifications': [],\n",
              "  'point': {'x': 100.0, 'y': 100.0}},\n",
              " {'uuid': '7dead30c-6f6d-4b10-867c-00dc3afe9a88',\n",
              "  'dataRow': {'id': 'ckzyd7bqd00420zq52ms8aaiw'},\n",
              "  'schemaId': 'ckzyd7cyu190g0zcth1dl5xjt',\n",
              "  'classifications': [],\n",
              "  'bbox': {'top': 30.0, 'left': 30.0, 'height': 170.0, 'width': 170.0}},\n",
              " {'uuid': '752e8a96-fcfd-49de-9476-4a6e98050b14',\n",
              "  'dataRow': {'id': 'ckzyd7bqd00420zq52ms8aaiw'},\n",
              "  'schemaId': 'ckzyd7cyu190i0zctber1cmun',\n",
              "  'classifications': [],\n",
              "  'line': [{'x': 60.0, 'y': 70.0},\n",
              "   {'x': 65.0, 'y': 100.0},\n",
              "   {'x': 80.0, 'y': 130.0},\n",
              "   {'x': 40.0, 'y': 200.0}]},\n",
              " {'uuid': 'bcdd8a0b-5627-42df-bfea-217e98895f8f',\n",
              "  'dataRow': {'id': 'ckzyd7bqd00420zq52ms8aaiw'},\n",
              "  'schemaId': 'ckzyd7cyv190m0zctd1zvf120',\n",
              "  'classifications': [],\n",
              "  'polygon': [{'x': -122.31708419322968, 'y': 37.87397262833122},\n",
              "   {'x': -122.31677046418189, 'y': 37.87357458675811},\n",
              "   {'x': -122.31661900877953, 'y': 37.87345602076741},\n",
              "   {'x': -122.31652164459229, 'y': 37.87327817142355},\n",
              "   {'x': -122.31635937094688, 'y': 37.87312572878709},\n",
              "   {'x': -122.31635937094688, 'y': 37.87398109727749},\n",
              "   {'x': -122.31708419322968, 'y': 37.87397262833122}]},\n",
              " {'uuid': 'cf395886-b0ea-4ca9-b8c7-4959d8994de1',\n",
              "  'dataRow': {'id': 'ckzyd7bqd00420zq52ms8aaiw'},\n",
              "  'schemaId': 'ckzyd7cyv190o0zctefmq7u2a',\n",
              "  'classifications': [],\n",
              "  'mask': {'instanceURI': 'https://storage.labelbox.com/ckcz6bubudyfi0855o1dt1g9s%2Fb053eb48-4ae9-b848-72c2-766dd416de09-1?Expires=1645635318432&KeyName=labelbox-assets-key-3&Signature=JgDTIQpEE_35Vs2ruD39eTDEoNs',\n",
              "   'colorRGB': (255, 255, 255)}},\n",
              " {'schemaId': 'ckzyd7cyv190q0zct8esjhx9y',\n",
              "  'answer': 'the answer to the text question',\n",
              "  'uuid': '050e60bf-b787-4de3-8154-b1fe08101fb0',\n",
              "  'dataRow': {'id': 'ckzyd7bqd00420zq52ms8aaiw'}},\n",
              " {'schemaId': 'ckzyd7cyv190s0zct4fknc39u',\n",
              "  'uuid': '1f52594a-0848-4be8-8e3e-837dc94328bb',\n",
              "  'dataRow': {'id': 'ckzyd7bqd00420zq52ms8aaiw'},\n",
              "  'answer': [{'schemaId': 'ckzyd7cyv190t0zctd2epc07h'},\n",
              "   {'schemaId': 'ckzyd7cyv190v0zcthm4o1rl4'}]},\n",
              " {'schemaId': 'ckzyd7cyv190y0zctfvnidfqy',\n",
              "  'answer': {'schemaId': 'ckzyd7cyv19110zct9eaudbhy'},\n",
              "  'uuid': 'f9b8c064-dcab-4e59-90c2-a0bc803e3892',\n",
              "  'dataRow': {'id': 'ckzyd7bqd00420zq52ms8aaiw'}}]"
            ]
          },
          "execution_count": 14,
          "metadata": {},
          "output_type": "execute_result"
        }
      ],
      "source": [
        "mal_label = Label(\n",
        "    data=tiled_image_data,\n",
        "    annotations = [\n",
        "        point_annotation, rectangle_annotation, line_annotation, polygon_annotation, mask_annotation,\n",
        "        text_annotation, checklist_annotation, radio_annotation\n",
        "    ]\n",
        ")\n",
        "\n",
        "\n",
        "label.add_url_to_masks(signing_function)\n",
        "\n",
        "mal_label.assign_feature_schema_ids(ontology_builder.from_project(mal_project))\n",
        "\n",
        "ndjson_labels = list(NDJsonConverter.serialize([mal_label]))\n",
        "\n",
        "ndjson_labels"
      ]
    },
    {
      "cell_type": "code",
      "execution_count": null,
      "id": "freelance-anime",
      "metadata": {
        "id": "freelance-anime"
      },
      "outputs": [],
      "source": [
        "upload_job = MALPredictionImport.create_from_objects(\n",
        "    client = client, \n",
        "    project_id = mal_project.uid, \n",
        "    name=\"upload_label_import_job\", \n",
        "    predictions=ndjson_labels)"
      ]
    },
    {
      "cell_type": "code",
      "execution_count": null,
      "id": "optional-pathology",
      "metadata": {
        "id": "optional-pathology",
        "outputId": "720d0cbd-66e8-43c2-dcdc-9db6c08a05cf"
      },
      "outputs": [
        {
          "name": "stderr",
          "output_type": "stream",
          "text": [
            "INFO:labelbox.schema.annotation_import:Sleeping for 10 seconds...\n"
          ]
        },
        {
          "name": "stdout",
          "output_type": "stream",
          "text": [
            "Errors: []\n"
          ]
        }
      ],
      "source": [
        "print(\"Errors:\", upload_job.errors)"
      ]
    },
    {
      "cell_type": "markdown",
      "id": "eebd4915-fa61-416f-947c-3bef8a3a00ec",
      "metadata": {
        "id": "eebd4915-fa61-416f-947c-3bef8a3a00ec"
      },
      "source": [
        "### Label Import"
      ]
    },
    {
      "cell_type": "markdown",
      "id": "bc8d9b70-0180-4dd3-b7f8-35d084a283b3",
      "metadata": {
        "id": "bc8d9b70-0180-4dd3-b7f8-35d084a283b3"
      },
      "source": [
        "Label import is very similar to model-assisted labeling. We will need to re-assign the feature schema before continuing, \n",
        "but we can continue to use our NDJSonConverter\n",
        "\n",
        "We will create a Label called li_label which has the same original structure as the label above"
      ]
    },
    {
      "cell_type": "code",
      "execution_count": null,
      "id": "904b58a7-a04b-4740-9176-93e147864a2f",
      "metadata": {
        "id": "904b58a7-a04b-4740-9176-93e147864a2f",
        "outputId": "a6dc582f-ec59-4a51-a52a-13e2aea15c1e"
      },
      "outputs": [
        {
          "data": {
            "text/plain": [
              "[{'uuid': 'eb240044-f6a5-46ed-86dc-814492b3c69e',\n",
              "  'dataRow': {'id': 'ckzyd7bqd00420zq52ms8aaiw'},\n",
              "  'schemaId': 'ckzyd7e1419bp0zbn1wlnh3k8',\n",
              "  'classifications': [],\n",
              "  'point': {'x': 100.0, 'y': 100.0}},\n",
              " {'uuid': '5a19a787-b3ee-4b5d-bb1a-331ae0f81fe6',\n",
              "  'dataRow': {'id': 'ckzyd7bqd00420zq52ms8aaiw'},\n",
              "  'schemaId': 'ckzyd7e1419bl0zbna6m1afsg',\n",
              "  'classifications': [],\n",
              "  'bbox': {'top': 30.0, 'left': 30.0, 'height': 170.0, 'width': 170.0}},\n",
              " {'uuid': 'c5607c9b-2e16-47fd-bbd2-70d6644955a7',\n",
              "  'dataRow': {'id': 'ckzyd7bqd00420zq52ms8aaiw'},\n",
              "  'schemaId': 'ckzyd7e1419bn0zbn7u7j9c0d',\n",
              "  'classifications': [],\n",
              "  'line': [{'x': 60.0, 'y': 70.0},\n",
              "   {'x': 65.0, 'y': 100.0},\n",
              "   {'x': 80.0, 'y': 130.0},\n",
              "   {'x': 40.0, 'y': 200.0}]},\n",
              " {'uuid': 'ea67276c-10fd-4605-833b-a3f87d609984',\n",
              "  'dataRow': {'id': 'ckzyd7bqd00420zq52ms8aaiw'},\n",
              "  'schemaId': 'ckzyd7e1419br0zbn5uo5190v',\n",
              "  'classifications': [],\n",
              "  'polygon': [{'x': -122.31708419322968, 'y': 37.87397262833122},\n",
              "   {'x': -122.31677046418189, 'y': 37.87357458675811},\n",
              "   {'x': -122.31661900877953, 'y': 37.87345602076741},\n",
              "   {'x': -122.31652164459229, 'y': 37.87327817142355},\n",
              "   {'x': -122.31635937094688, 'y': 37.87312572878709},\n",
              "   {'x': -122.31635937094688, 'y': 37.87398109727749},\n",
              "   {'x': -122.31708419322968, 'y': 37.87397262833122}]},\n",
              " {'uuid': 'fa1c0354-8f33-4737-8afa-a049301e53f4',\n",
              "  'dataRow': {'id': 'ckzyd7bqd00420zq52ms8aaiw'},\n",
              "  'schemaId': 'ckzyd7e1419bt0zbndyt0h3sl',\n",
              "  'classifications': [],\n",
              "  'mask': {'instanceURI': 'https://storage.labelbox.com/ckcz6bubudyfi0855o1dt1g9s%2Fb053eb48-4ae9-b848-72c2-766dd416de09-1?Expires=1645635318432&KeyName=labelbox-assets-key-3&Signature=JgDTIQpEE_35Vs2ruD39eTDEoNs',\n",
              "   'colorRGB': (255, 255, 255)}},\n",
              " {'schemaId': 'ckzyd7e1419bv0zbne2fs3sj9',\n",
              "  'answer': 'the answer to the text question',\n",
              "  'uuid': '4e3bcbfe-64fa-40d0-ad38-421c09756b15',\n",
              "  'dataRow': {'id': 'ckzyd7bqd00420zq52ms8aaiw'}},\n",
              " {'schemaId': 'ckzyd7e1419bx0zbna8xn5ewp',\n",
              "  'uuid': '993b87de-a76d-4bc9-80bc-4d30d47c02f0',\n",
              "  'dataRow': {'id': 'ckzyd7bqd00420zq52ms8aaiw'},\n",
              "  'answer': [{'schemaId': 'ckzyd7e1419by0zbn6fph7mkp'},\n",
              "   {'schemaId': 'ckzyd7e1419c00zbn2qo12koi'}]},\n",
              " {'schemaId': 'ckzyd7e1519c30zbn9x8ugmgm',\n",
              "  'answer': {'schemaId': 'ckzyd7e1519c60zbn3m5k0coo'},\n",
              "  'uuid': '47d0dabf-8375-4688-82c5-9fb2fe9d303c',\n",
              "  'dataRow': {'id': 'ckzyd7bqd00420zq52ms8aaiw'}}]"
            ]
          },
          "execution_count": 17,
          "metadata": {},
          "output_type": "execute_result"
        }
      ],
      "source": [
        "#for the purpose of this notebook, we will need to reset the schema ids of our checklist and radio answers\n",
        "checklist = Checklist(answer=[ClassificationAnswer(name=\"first_checklist_answer\"),ClassificationAnswer(name=\"second_checklist_answer\")])\n",
        "checklist_annotation = ClassificationAnnotation(value=checklist, name=\"checklist\")\n",
        "radio = Radio(answer = ClassificationAnswer(name = \"second_radio_answer\"))\n",
        "radio_annotation = ClassificationAnnotation(value=radio, name=\"radio\")\n",
        "\n",
        "li_label = Label(\n",
        "    data=tiled_image_data,\n",
        "    annotations = [\n",
        "        point_annotation, rectangle_annotation, line_annotation, polygon_annotation, mask_annotation,\n",
        "        text_annotation, checklist_annotation, radio_annotation\n",
        "    ]\n",
        ")\n",
        "\n",
        "li_label.assign_feature_schema_ids(ontology_builder.from_project(li_project))\n",
        "\n",
        "ndjson_labels = list(NDJsonConverter.serialize([li_label]))\n",
        "\n",
        "ndjson_labels"
      ]
    },
    {
      "cell_type": "code",
      "execution_count": null,
      "id": "8dbbda89-f55c-4311-9fcf-957279b15fdb",
      "metadata": {
        "id": "8dbbda89-f55c-4311-9fcf-957279b15fdb"
      },
      "outputs": [],
      "source": [
        "upload_job = LabelImport.create_from_objects(\n",
        "    client = client, \n",
        "    project_id = li_project.uid, \n",
        "    name=\"upload_label_import_job\", \n",
        "    labels=ndjson_labels)"
      ]
    },
    {
      "cell_type": "code",
      "execution_count": null,
      "id": "26836459-ad8e-4921-9711-33e21169632c",
      "metadata": {
        "id": "26836459-ad8e-4921-9711-33e21169632c",
        "outputId": "5361a446-da17-47d7-cf5b-477de654cfde"
      },
      "outputs": [
        {
          "name": "stderr",
          "output_type": "stream",
          "text": [
            "INFO:labelbox.schema.annotation_import:Sleeping for 10 seconds...\n"
          ]
        },
        {
          "name": "stdout",
          "output_type": "stream",
          "text": [
            "Errors: []\n"
          ]
        }
      ],
      "source": [
        "print(\"Errors:\", upload_job.errors)"
      ]
    }
  ],
  "metadata": {
    "kernelspec": {
      "display_name": "Python 3",
      "language": "python",
      "name": "python3"
    },
    "language_info": {
      "codemirror_mode": {
        "name": "ipython",
        "version": 3
      },
      "file_extension": ".py",
      "mimetype": "text/x-python",
      "name": "python",
      "nbconvert_exporter": "python",
      "pygments_lexer": "ipython3",
      "version": "3.8.8"
    },
    "colab": {
      "name": "tiled.ipynb",
      "provenance": []
    }
  },
  "nbformat": 4,
  "nbformat_minor": 5
}