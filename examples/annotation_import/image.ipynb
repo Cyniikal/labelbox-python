{
 "cells": [
  {
   "cell_type": "markdown",
   "id": "a6a048e8-b5fe-418b-aec4-829b5b6802e5",
   "metadata": {},
   "source": [
    "<td>\n",
    "   <a target=\"_blank\" href=\"https://labelbox.com\" ><img src=\"https://labelbox.com/blog/content/images/2021/02/logo-v4.svg\" width=256/></a>\n",
    "</td>"
   ]
  },
  {
   "cell_type": "markdown",
   "id": "51cf1362-1cde-4749-aac7-5fb94473baa7",
   "metadata": {},
   "source": [
    "<td>\n",
    "<a href=\"https://colab.research.google.com/github/Labelbox/labelbox-python/blob/develop/examples/model_assisted_labeling/image_mal.ipynb\" target=\"_blank\"><img\n",
    "src=\"https://colab.research.google.com/assets/colab-badge.svg\" alt=\"Open In Colab\"></a>\n",
    "</td>\n",
    "\n",
    "<td>\n",
    "<a href=\"https://github.com/Labelbox/labelbox-python/tree/develop/examples/model_assisted_labeling/image_mal.ipynb\" target=\"_blank\"><img\n",
    "src=\"https://img.shields.io/badge/GitHub-100000?logo=github&logoColor=white\" alt=\"GitHub\"></a>\n",
    "</td>"
   ]
  },
  {
   "cell_type": "markdown",
   "id": "339795d3-e36c-4470-8605-62bfdd5eea29",
   "metadata": {},
   "source": [
    "# Image Annotation Import\n",
    "* This notebook will provide examples of each supported annotation type for image assets. It will cover the following:\n",
    "    * Model-assisted labeling - used to provide pre-annotated data for your labelers. This will enable a reduction in the total amount of time to properly label your assets. Model-assisted labeling does not submit the labels automatically, and will need to be reviewed by a labeler for submission.\n",
    "    * Label Import - used to provide ground truth labels. These can in turn be used and compared against prediction labels, or used as benchmarks to see how your labelers are doing."
   ]
  },
  {
   "cell_type": "markdown",
   "id": "e76f007b-9465-4acd-9008-20e25e4a4b98",
   "metadata": {},
   "source": [
    "* For information on what types of annotations are supported per data type, refer to this [documentation](https://docs.labelbox.com/docs/model-assisted-labeling#option-1-import-via-python-annotation-types-recommended)"
   ]
  },
  {
   "cell_type": "markdown",
   "id": "f53d50fc-8d3c-452b-9aaf-f6170aaa5576",
   "metadata": {},
   "source": [
    "* Notes:\n",
    "    * If you are importing more than 1,000 mask annotations at a time, consider submitting separate jobs, as they can take longer than other annotation types to import.\n",
    "    * Wait until the import job is complete before opening the Editor to make sure all annotations are imported properly."
   ]
  },
  {
   "cell_type": "markdown",
   "id": "5effdaa3-e701-4804-aa33-bbbaed99eb92",
   "metadata": {},
   "source": [
    "# Installs"
   ]
  },
  {
   "cell_type": "code",
   "execution_count": 1,
   "id": "4d63074b-2379-48af-b9d6-2a66190f03c4",
   "metadata": {},
   "outputs": [],
   "source": [
    "!pip install -q 'labelbox[data]'"
   ]
  },
  {
   "cell_type": "markdown",
   "id": "6f3cdca1-524f-4247-a63b-2d4371b0257d",
   "metadata": {},
   "source": [
    "# Imports"
   ]
  },
  {
   "cell_type": "code",
   "execution_count": 2,
   "id": "01fca8c9-0680-4a9c-a11e-1b49f31e9121",
   "metadata": {},
   "outputs": [],
   "source": [
    "from labelbox.schema.ontology import OntologyBuilder, Tool, Classification, Option\n",
    "from labelbox import Client, LabelingFrontend, LabelImport, MALPredictionImport\n",
    "from labelbox.data.annotation_types import (\n",
    "    Label, ImageData, ObjectAnnotation, MaskData,\n",
    "    Rectangle, Point, Line, Mask, Polygon,\n",
    "    Radio, Checklist, Text,\n",
    "    ClassificationAnnotation, ClassificationAnswer\n",
    ")\n",
    "from labelbox.data.serialization import NDJsonConverter\n",
    "import uuid\n",
    "import json\n",
    "import numpy as np"
   ]
  },
  {
   "cell_type": "markdown",
   "id": "a72d96e8-33ce-434d-b330-393e1c31702a",
   "metadata": {},
   "source": [
    "# API Key and Client\n",
    "Provide a valid api key below in order to properly connect to the Labelbox Client."
   ]
  },
  {
   "cell_type": "code",
   "execution_count": 3,
   "id": "86003724-4807-4281-95c1-5284a6f9609f",
   "metadata": {},
   "outputs": [
    {
     "name": "stderr",
     "output_type": "stream",
     "text": [
      "INFO:labelbox.client:Initializing Labelbox client at 'https://api.labelbox.com/graphql'\n"
     ]
    }
   ],
   "source": [
    "# Add your api key\n",
    "API_KEY = None\n",
    "client = Client(api_key=API_KEY)"
   ]
  },
  {
   "cell_type": "markdown",
   "id": "960998ac-bde4-4184-8b7d-26d8e019cc7f",
   "metadata": {},
   "source": [
    "---- \n",
    "### Steps\n",
    "1. Make sure project is setup\n",
    "2. Collect annotations\n",
    "3. Upload"
   ]
  },
  {
   "cell_type": "markdown",
   "id": "82a7381b-2409-4ed3-9d25-881a1e1d8ca6",
   "metadata": {},
   "source": [
    "### Project setup"
   ]
  },
  {
   "cell_type": "markdown",
   "id": "d51fd2e1-bf5f-4c61-bca1-929f43b076ed",
   "metadata": {},
   "source": [
    "We will be creating two projects, one for model-assisted labeling, and one for label imports"
   ]
  },
  {
   "cell_type": "code",
   "execution_count": 4,
   "id": "f9f9287c-aad7-4914-bc87-1453fb8bce81",
   "metadata": {},
   "outputs": [],
   "source": [
    "ontology_builder = OntologyBuilder(\n",
    "    tools=[\n",
    "        Tool(tool=Tool.Type.BBOX, name=\"box\"),\n",
    "        Tool(tool=Tool.Type.LINE, name=\"line\"),\n",
    "        Tool(tool=Tool.Type.POINT, name=\"point\"),\n",
    "        Tool(tool=Tool.Type.POLYGON, name=\"polygon\"),    \n",
    "        Tool(tool=Tool.Type.SEGMENTATION, name=\"mask\")],\n",
    "    classifications=[\n",
    "        Classification(class_type=Classification.Type.TEXT, instructions=\"text\"),\n",
    "        Classification(class_type=Classification.Type.CHECKLIST, instructions=\"checklist\", options=[\n",
    "            Option(value=\"first_checklist_answer\"),\n",
    "            Option(value=\"second_checklist_answer\")            \n",
    "        ]),\n",
    "        Classification(class_type=Classification.Type.RADIO, instructions=\"radio\", options=[\n",
    "            Option(value=\"first_radio_answer\"),\n",
    "            Option(value=\"second_radio_answer\")\n",
    "        ]),                                      \n",
    "])\n"
   ]
  },
  {
   "cell_type": "code",
   "execution_count": 5,
   "id": "044e9194-d21d-403e-b64c-047c1063b0fe",
   "metadata": {},
   "outputs": [],
   "source": [
    "mal_project = client.create_project(name=\"image_mal_project\")\n",
    "li_project = client.create_project(name=\"image_label_import_project\")\n",
    "\n",
    "\n",
    "dataset = client.create_dataset(name=\"annotation_import_demo_dataset\")\n",
    "test_img_url = \"https://raw.githubusercontent.com/Labelbox/labelbox-python/develop/examples/assets/2560px-Kitano_Street_Kobe01s5s4110.jpg\"\n",
    "data_row = dataset.create_data_row(row_data=test_img_url)\n",
    "editor = next(client.get_labeling_frontends(where=LabelingFrontend.name == \"Editor\"))\n",
    "\n",
    "mal_project.setup(editor, ontology_builder.asdict())\n",
    "mal_project.datasets.connect(dataset)\n",
    "\n",
    "li_project.setup(editor, ontology_builder.asdict())\n",
    "li_project.datasets.connect(dataset)"
   ]
  },
  {
   "cell_type": "markdown",
   "id": "8da94c48-72a5-4535-ab66-6d14b0b79aed",
   "metadata": {},
   "source": [
    "### Create Label using Annotation Type Objects\n",
    "* It is recommended to use the Python SDK's annotation types for importing into Labelbox."
   ]
  },
  {
   "cell_type": "markdown",
   "id": "ee9b9191-6c0d-4cba-859b-e2e9a1b887c8",
   "metadata": {},
   "source": [
    "### Object Annotations"
   ]
  },
  {
   "cell_type": "code",
   "execution_count": 6,
   "id": "d468b0d0-e7d8-42d9-81fd-3db7c67d7b83",
   "metadata": {},
   "outputs": [],
   "source": [
    "point = Point(x=100,y=100)\n",
    "point_annotation = ObjectAnnotation(value=point, name=\"point\")\n",
    "\n",
    "rectangle = Rectangle(start=Point(x=30,y=30), end=Point(x=200,y=200))\n",
    "rectangle_annotation = ObjectAnnotation(value=rectangle, name=\"box\")\n",
    "\n",
    "line = Line(points=[Point(x=60,y=70), Point(x=65,y=100), Point(x=80,y=130), Point(x=40,y=200)])\n",
    "line_annotation = ObjectAnnotation(value=line, name=\"line\")\n",
    "\n",
    "polygon = Polygon(points=[Point(x=100,y=100), Point(x=110,y=110), Point(x=130,y=130), Point(x=170,y=170), Point(x=220,y=220)])\n",
    "polygon_annotation = ObjectAnnotation(value=polygon, name=\"polygon\")\n",
    "\n",
    "array = np.zeros([128, 128, 3], dtype=np.uint8)\n",
    "mask_data = MaskData(arr=array)\n",
    "mask = Mask(mask=mask_data, color=(0, 0, 0))\n",
    "mask_annotation = ObjectAnnotation(value=mask, name=\"mask\")"
   ]
  },
  {
   "cell_type": "markdown",
   "id": "291f9c97-37ba-42f5-b8f0-e118bdc5c848",
   "metadata": {},
   "source": [
    "### Classification Annotations"
   ]
  },
  {
   "cell_type": "code",
   "execution_count": 7,
   "id": "e1a03976-4e50-4d10-b7ad-1a83ccc51a2a",
   "metadata": {},
   "outputs": [],
   "source": [
    "text = Text(answer=\"the answer to the text question\")\n",
    "text_annotation = ClassificationAnnotation(value=text, name=\"text\")\n",
    "\n",
    "checklist = Checklist(answer=[ClassificationAnswer(name=\"first_checklist_answer\"),ClassificationAnswer(name=\"second_checklist_answer\")])\n",
    "checklist_annotation = ClassificationAnnotation(value=checklist, name=\"checklist\")\n",
    "\n",
    "radio = Radio(answer = ClassificationAnswer(name = \"second_radio_answer\"))\n",
    "radio_annotation = ClassificationAnnotation(value=radio, name=\"radio\")"
   ]
  },
  {
   "cell_type": "markdown",
   "id": "15bd593b-509d-4114-af95-ae0be081c42d",
   "metadata": {},
   "source": [
    "### Create a Label object with all of our annotations"
   ]
  },
  {
   "cell_type": "code",
   "execution_count": 8,
   "id": "6d72fe25-ff7e-4e0a-94cf-095e4df73da0",
   "metadata": {},
   "outputs": [
    {
     "data": {
      "text/plain": [
       "{'uid': None,\n",
       " 'data': ImageData(im_bytes=None,file_path=None,url=None,arr=None),\n",
       " 'annotations': [ObjectAnnotation(name='point', feature_schema_id=None, extra={}, value=Point(extra={}, x=100.0, y=100.0), classifications=[]),\n",
       "  ObjectAnnotation(name='box', feature_schema_id=None, extra={}, value=Rectangle(extra={}, start=Point(extra={}, x=30.0, y=30.0), end=Point(extra={}, x=200.0, y=200.0)), classifications=[]),\n",
       "  ObjectAnnotation(name='line', feature_schema_id=None, extra={}, value=Line(extra={}, points=[Point(extra={}, x=60.0, y=70.0), Point(extra={}, x=65.0, y=100.0), Point(extra={}, x=80.0, y=130.0), Point(extra={}, x=40.0, y=200.0)]), classifications=[]),\n",
       "  ObjectAnnotation(name='polygon', feature_schema_id=None, extra={}, value=Polygon(extra={}, points=[Point(extra={}, x=100.0, y=100.0), Point(extra={}, x=110.0, y=110.0), Point(extra={}, x=130.0, y=130.0), Point(extra={}, x=170.0, y=170.0), Point(extra={}, x=220.0, y=220.0), Point(extra={}, x=100.0, y=100.0)]), classifications=[]),\n",
       "  ObjectAnnotation(name='mask', feature_schema_id=None, extra={}, value=Mask(extra={}, mask=MaskData(im_bytes=None,file_path=None,url=https://storage.labelbox.com/ckcz6bubudyfi0855o1dt1g9s%2F6e5479c5-a3e9-2a06-6eea-0dd7001bf36f-1?Expires=1645290815822&KeyName=labelbox-assets-key-3&Signature=ydREedzQGXgpagNQmxj_8mjM3yk,arr=...), color=(0, 0, 0)), classifications=[]),\n",
       "  ClassificationAnnotation(name='text', feature_schema_id=None, extra={}, value=Text(answer='the answer to the text question')),\n",
       "  ClassificationAnnotation(name='checklist', feature_schema_id=None, extra={}, value=Checklist(name='checklist', answer=[ClassificationAnswer(name='first_checklist_answer', feature_schema_id=None, extra={}, keyframe=None), ClassificationAnswer(name='second_checklist_answer', feature_schema_id=None, extra={}, keyframe=None)])),\n",
       "  ClassificationAnnotation(name='radio', feature_schema_id=None, extra={}, value=Radio(answer=ClassificationAnswer(name='second_radio_answer', feature_schema_id=None, extra={}, keyframe=None)))],\n",
       " 'extra': {}}"
      ]
     },
     "execution_count": 8,
     "metadata": {},
     "output_type": "execute_result"
    }
   ],
   "source": [
    "image_data = ImageData(uid=data_row.uid)\n",
    "\n",
    "label = Label(\n",
    "    data=image_data,\n",
    "    annotations = [\n",
    "        point_annotation, rectangle_annotation, line_annotation, polygon_annotation, mask_annotation,\n",
    "        text_annotation, checklist_annotation, radio_annotation\n",
    "    ]\n",
    ")\n",
    "\n",
    "# Create urls to mask data for upload\n",
    "def signing_function(obj_bytes: bytes) -> str:\n",
    "    url = client.upload_data(content=obj_bytes, sign=True)\n",
    "    return url\n",
    "\n",
    "\n",
    "label.add_url_to_masks(signing_function)\n",
    "\n",
    "label.__dict__"
   ]
  },
  {
   "cell_type": "markdown",
   "id": "cc448767-1ded-4a02-af29-64b8b9f71d99",
   "metadata": {},
   "source": [
    "### Model Assisted Labeling "
   ]
  },
  {
   "cell_type": "markdown",
   "id": "90d5c6b7-0a67-481c-95a8-1791fe650767",
   "metadata": {},
   "source": [
    "To do model-assisted labeling, we need to convert a Label object into an NDJSON. \n",
    "\n",
    "This is easily done with using the NDJSONConverter class\n",
    "\n",
    "We will create a Label called mal_label which has the same original structure as the label above\n",
    "\n",
    "Notes:\n",
    "* Each label requires a valid feature schema id. We will assign it using our built in `assign_feature_schema_ids` method\n",
    "* the NDJsonConverter takes in a list of labels"
   ]
  },
  {
   "cell_type": "code",
   "execution_count": 9,
   "id": "53aaf87b-114f-4b56-a417-8c7cddc1f532",
   "metadata": {},
   "outputs": [
    {
     "data": {
      "text/plain": [
       "[{'uuid': '4660b7b9-c27e-4bd6-b0ed-0cc43bb15097',\n",
       "  'dataRow': {'id': 'ckzso867f7lof0zc3d7c222gq'},\n",
       "  'schemaId': 'ckzso86t97lou0zc3b0ywg7qu',\n",
       "  'classifications': [],\n",
       "  'point': {'x': 100.0, 'y': 100.0}},\n",
       " {'uuid': '0d6df02b-3780-450b-a816-718f53830e12',\n",
       "  'dataRow': {'id': 'ckzso867f7lof0zc3d7c222gq'},\n",
       "  'schemaId': 'ckzso86t97loq0zc3chj70unt',\n",
       "  'classifications': [],\n",
       "  'bbox': {'top': 30.0, 'left': 30.0, 'height': 170.0, 'width': 170.0}},\n",
       " {'uuid': 'afe350ba-8173-46bd-b1cf-a7adbccadcd5',\n",
       "  'dataRow': {'id': 'ckzso867f7lof0zc3d7c222gq'},\n",
       "  'schemaId': 'ckzso86t97los0zc3cgbh1zkk',\n",
       "  'classifications': [],\n",
       "  'line': [{'x': 60.0, 'y': 70.0},\n",
       "   {'x': 65.0, 'y': 100.0},\n",
       "   {'x': 80.0, 'y': 130.0},\n",
       "   {'x': 40.0, 'y': 200.0}]},\n",
       " {'uuid': '5d1ef8b1-533c-4f28-9adc-b6554a0828cb',\n",
       "  'dataRow': {'id': 'ckzso867f7lof0zc3d7c222gq'},\n",
       "  'schemaId': 'ckzso86t97low0zc32hk86suf',\n",
       "  'classifications': [],\n",
       "  'polygon': [{'x': 100.0, 'y': 100.0},\n",
       "   {'x': 110.0, 'y': 110.0},\n",
       "   {'x': 130.0, 'y': 130.0},\n",
       "   {'x': 170.0, 'y': 170.0},\n",
       "   {'x': 220.0, 'y': 220.0},\n",
       "   {'x': 100.0, 'y': 100.0}]},\n",
       " {'uuid': '354c122b-73dc-413c-b187-24f14a78a28d',\n",
       "  'dataRow': {'id': 'ckzso867f7lof0zc3d7c222gq'},\n",
       "  'schemaId': 'ckzso86t97loy0zc3dh5sdmqu',\n",
       "  'classifications': [],\n",
       "  'mask': {'instanceURI': 'https://storage.labelbox.com/ckcz6bubudyfi0855o1dt1g9s%2F6e5479c5-a3e9-2a06-6eea-0dd7001bf36f-1?Expires=1645290815822&KeyName=labelbox-assets-key-3&Signature=ydREedzQGXgpagNQmxj_8mjM3yk',\n",
       "   'colorRGB': (0, 0, 0)}},\n",
       " {'schemaId': 'ckzso86t97lp00zc3d64vclhp',\n",
       "  'answer': 'the answer to the text question',\n",
       "  'uuid': '2cf356cc-fbe4-4563-8d47-32c716422c59',\n",
       "  'dataRow': {'id': 'ckzso867f7lof0zc3d7c222gq'}},\n",
       " {'schemaId': 'ckzso86t97lp20zc3cmzw7153',\n",
       "  'uuid': '0c9c87c0-6166-4694-9759-6e9c4af7f817',\n",
       "  'dataRow': {'id': 'ckzso867f7lof0zc3d7c222gq'},\n",
       "  'answer': [{'schemaId': 'ckzso86t97lp30zc35ezu6my2'},\n",
       "   {'schemaId': 'ckzso86t97lp50zc34fw2bmak'}]},\n",
       " {'schemaId': 'ckzso86t97lp80zc32750g4z1',\n",
       "  'answer': {'schemaId': 'ckzso86ta7lpb0zc34tnd4xjm'},\n",
       "  'uuid': '4a314421-4528-4217-a703-b4f2f47076fa',\n",
       "  'dataRow': {'id': 'ckzso867f7lof0zc3d7c222gq'}}]"
      ]
     },
     "execution_count": 9,
     "metadata": {},
     "output_type": "execute_result"
    }
   ],
   "source": [
    "mal_label = Label(\n",
    "    data=image_data,\n",
    "    annotations = [\n",
    "        point_annotation, rectangle_annotation, line_annotation, polygon_annotation, mask_annotation,\n",
    "        text_annotation, checklist_annotation, radio_annotation\n",
    "    ]\n",
    ")\n",
    "\n",
    "label.add_url_to_masks(signing_function)\n",
    "\n",
    "mal_label.assign_feature_schema_ids(ontology_builder.from_project(mal_project))\n",
    "\n",
    "ndjson_labels = list(NDJsonConverter.serialize([mal_label]))\n",
    "\n",
    "ndjson_labels"
   ]
  },
  {
   "cell_type": "code",
   "execution_count": 10,
   "id": "c66672c7-33e8-4d5d-b79d-2ac76d830341",
   "metadata": {},
   "outputs": [],
   "source": [
    "upload_job = MALPredictionImport.create_from_objects(\n",
    "    client = client, \n",
    "    project_id = mal_project.uid, \n",
    "    name=\"upload_label_import_job\", \n",
    "    predictions=ndjson_labels)"
   ]
  },
  {
   "cell_type": "code",
   "execution_count": 11,
   "id": "2a8f9e5f-eeeb-4cfa-9b97-a09495a64d41",
   "metadata": {},
   "outputs": [
    {
     "name": "stderr",
     "output_type": "stream",
     "text": [
      "INFO:labelbox.schema.annotation_import:Sleeping for 10 seconds...\n"
     ]
    },
    {
     "name": "stdout",
     "output_type": "stream",
     "text": [
      "Errors: []\n"
     ]
    }
   ],
   "source": [
    "# Errors will appear for each annotation that failed.\n",
    "# Empty list means that there were no errors\n",
    "# This will provide information only after the upload_job is complete, so we do not need to worry about having to rerun\n",
    "print(\"Errors:\", upload_job.errors)"
   ]
  },
  {
   "cell_type": "markdown",
   "id": "aad5c035-c908-46c9-beac-f38da1befa25",
   "metadata": {},
   "source": [
    "### Label Import"
   ]
  },
  {
   "cell_type": "markdown",
   "id": "9d4fa318-7d08-4d98-b0ff-e2086814d75d",
   "metadata": {},
   "source": [
    "Label import is very similar to model-assisted labeling. We will need to re-assign the feature schema before continuing, \n",
    "but we can continue to use our NDJSonConverter\n",
    "\n",
    "We will create a Label called li_label which has the same original structure as the label above"
   ]
  },
  {
   "cell_type": "code",
   "execution_count": 12,
   "id": "e8d4e99b-ad7e-48b9-8073-afb764d7c5b4",
   "metadata": {},
   "outputs": [
    {
     "data": {
      "text/plain": [
       "[{'uuid': '642e4455-a3a7-4fdc-8155-cedf19464149',\n",
       "  'dataRow': {'id': 'ckzso867f7lof0zc3d7c222gq'},\n",
       "  'schemaId': 'ckzso8a3d7iro0zbsha374jm8',\n",
       "  'classifications': [],\n",
       "  'point': {'x': 100.0, 'y': 100.0}},\n",
       " {'uuid': 'a492c8d9-a7a1-4a88-a879-a261ae4e99b4',\n",
       "  'dataRow': {'id': 'ckzso867f7lof0zc3d7c222gq'},\n",
       "  'schemaId': 'ckzso8a3d7irk0zbs09fe9eyy',\n",
       "  'classifications': [],\n",
       "  'bbox': {'top': 30.0, 'left': 30.0, 'height': 170.0, 'width': 170.0}},\n",
       " {'uuid': '6d35b326-152d-42c2-ac6a-deb54e7763ac',\n",
       "  'dataRow': {'id': 'ckzso867f7lof0zc3d7c222gq'},\n",
       "  'schemaId': 'ckzso8a3d7irm0zbsfvoybop9',\n",
       "  'classifications': [],\n",
       "  'line': [{'x': 60.0, 'y': 70.0},\n",
       "   {'x': 65.0, 'y': 100.0},\n",
       "   {'x': 80.0, 'y': 130.0},\n",
       "   {'x': 40.0, 'y': 200.0}]},\n",
       " {'uuid': '0b81b854-5362-4a16-97fc-8cd890528e89',\n",
       "  'dataRow': {'id': 'ckzso867f7lof0zc3d7c222gq'},\n",
       "  'schemaId': 'ckzso8a3d7irq0zbshcv48vkx',\n",
       "  'classifications': [],\n",
       "  'polygon': [{'x': 100.0, 'y': 100.0},\n",
       "   {'x': 110.0, 'y': 110.0},\n",
       "   {'x': 130.0, 'y': 130.0},\n",
       "   {'x': 170.0, 'y': 170.0},\n",
       "   {'x': 220.0, 'y': 220.0},\n",
       "   {'x': 100.0, 'y': 100.0}]},\n",
       " {'uuid': '5adaf560-7e0f-49ce-9c19-d681b986f605',\n",
       "  'dataRow': {'id': 'ckzso867f7lof0zc3d7c222gq'},\n",
       "  'schemaId': 'ckzso8a3d7irs0zbs2vtffbjk',\n",
       "  'classifications': [],\n",
       "  'mask': {'instanceURI': 'https://storage.labelbox.com/ckcz6bubudyfi0855o1dt1g9s%2F6e5479c5-a3e9-2a06-6eea-0dd7001bf36f-1?Expires=1645290815822&KeyName=labelbox-assets-key-3&Signature=ydREedzQGXgpagNQmxj_8mjM3yk',\n",
       "   'colorRGB': (0, 0, 0)}},\n",
       " {'schemaId': 'ckzso8a3d7iru0zbs43f796ws',\n",
       "  'answer': 'the answer to the text question',\n",
       "  'uuid': 'f4fa0e87-6083-416d-950e-5f5e44db37e7',\n",
       "  'dataRow': {'id': 'ckzso867f7lof0zc3d7c222gq'}},\n",
       " {'schemaId': 'ckzso8a3d7irw0zbsejkhhj7z',\n",
       "  'uuid': '8f054e9f-ba3d-4e91-b4e9-9a2c8037379b',\n",
       "  'dataRow': {'id': 'ckzso867f7lof0zc3d7c222gq'},\n",
       "  'answer': [{'schemaId': 'ckzso8a3d7irx0zbs36cxehp5'},\n",
       "   {'schemaId': 'ckzso8a3d7irz0zbsf2hd5u1m'}]},\n",
       " {'schemaId': 'ckzso8a3d7is20zbs2g732f82',\n",
       "  'answer': {'schemaId': 'ckzso8a3d7is50zbs2tsobivs'},\n",
       "  'uuid': '80c98230-cacb-4132-808a-7c746c4445a1',\n",
       "  'dataRow': {'id': 'ckzso867f7lof0zc3d7c222gq'}}]"
      ]
     },
     "execution_count": 12,
     "metadata": {},
     "output_type": "execute_result"
    }
   ],
   "source": [
    "#for the purpose of this notebook, we will need to reset the schema ids of our checklist and radio answers\n",
    "checklist = Checklist(answer=[ClassificationAnswer(name=\"first_checklist_answer\"),ClassificationAnswer(name=\"second_checklist_answer\")])\n",
    "checklist_annotation = ClassificationAnnotation(value=checklist, name=\"checklist\")\n",
    "radio = Radio(answer = ClassificationAnswer(name = \"second_radio_answer\"))\n",
    "radio_annotation = ClassificationAnnotation(value=radio, name=\"radio\")\n",
    "\n",
    "li_label = Label(\n",
    "    data=image_data,\n",
    "    annotations = [\n",
    "        point_annotation, rectangle_annotation, line_annotation, polygon_annotation, mask_annotation,\n",
    "        text_annotation, checklist_annotation, radio_annotation\n",
    "    ]\n",
    ")\n",
    "\n",
    "li_label.assign_feature_schema_ids(ontology_builder.from_project(li_project))\n",
    "\n",
    "ndjson_labels = list(NDJsonConverter.serialize([li_label]))\n",
    "\n",
    "ndjson_labels"
   ]
  },
  {
   "cell_type": "code",
   "execution_count": 13,
   "id": "e937ea0a-8beb-4dbc-974b-0316f0b980a5",
   "metadata": {},
   "outputs": [],
   "source": [
    "upload_job = LabelImport.create_from_objects(\n",
    "    client = client, \n",
    "    project_id = li_project.uid, \n",
    "    name=\"upload_label_import_job\", \n",
    "    labels=ndjson_labels)"
   ]
  },
  {
   "cell_type": "code",
   "execution_count": 14,
   "id": "3669b646-2d41-4c98-9e5b-f8ef3ce82f35",
   "metadata": {},
   "outputs": [
    {
     "name": "stderr",
     "output_type": "stream",
     "text": [
      "INFO:labelbox.schema.annotation_import:Sleeping for 10 seconds...\n"
     ]
    },
    {
     "name": "stdout",
     "output_type": "stream",
     "text": [
      "Errors: []\n"
     ]
    }
   ],
   "source": [
    "print(\"Errors:\", upload_job.errors)"
   ]
  }
 ],
 "metadata": {
  "kernelspec": {
   "display_name": "Python 3",
   "language": "python",
   "name": "python3"
  },
  "language_info": {
   "codemirror_mode": {
    "name": "ipython",
    "version": 3
   },
   "file_extension": ".py",
   "mimetype": "text/x-python",
   "name": "python",
   "nbconvert_exporter": "python",
   "pygments_lexer": "ipython3",
   "version": "3.8.8"
  }
 },
 "nbformat": 4,
 "nbformat_minor": 5
}
