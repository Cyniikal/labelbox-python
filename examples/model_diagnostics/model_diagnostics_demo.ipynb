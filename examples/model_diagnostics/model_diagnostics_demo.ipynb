{
 "cells": [
  {
   "cell_type": "markdown",
   "id": "mounted-asian",
   "metadata": {
    "id": "EyNkbpW7ouEf"
   },
   "source": [
    "  \n",
    "<td>\n",
    "    <a target=\"_blank\" href=\"https://labelbox.com\" ><img src=\"https://labelbox.com/blog/content/images/2021/02/logo-v4.svg\" width=256/></a>\n",
    "</td>"
   ]
  },
  {
   "cell_type": "markdown",
   "id": "attractive-lemon",
   "metadata": {},
   "source": [
    "----\n",
    "\n",
    "# Model Diagnostics\n",
    "\n",
    "\n",
    "Throughout the process of training your machine learning (ML) model, you may want to investigate your model's failures in order to understand which areas need improvement. Looking at an error analysis after each training iteration can help you understand whether you need to revise your annotations, make your ontology more clear, or create more training data that targets a specific area.\n",
    "Labelbox now offers a Model Diagnostics tool that analyzes the performance of your model's predictions in a single interface.\n",
    "With Model Diagnostics, you can:\n",
    "*   Inspect model behavior across experiments\n",
    "*   Adjust model hyperparameters and visualize model failures\n",
    "*   Use the Python SDK to create the analysis pipeline\n",
    "\n",
    "## How it works\n",
    "\n",
    "Configuring Model Diagnostics is all done via the SDK. We have created a Google colab notebook to demonstrate this process. The notebook also includes a section that leverages MAL in order to quickly create ground truth annotations.\n",
    "An Experiment is a specific instance of a model generating output in the form of predictions.\n",
    "In Labelbox, the `Model` object represents your ML model and it is what you'll be performing experiments on. It references a set of annotations specified by an ontology. \n",
    "The `Model Run` object represents the experiment itself. It is a specific instance of a `Model` with preconfigured hyperparameters (training data). You can upload inferences across each `Model Run`, filter by IoU score, and compare your model's predictions against the annotations from your training data.\n",
    "\n",
    "## Steps\n",
    "1. Make sure you are signed up for the beta. If not navigate here https://labelbox.com/product/model-diagnostics\n",
    "2. Have a set of ground truth labels in a project\n",
    "3. Install the latest SDK release (At this time that is 3.0.0rc1)\n",
    "4. Create a `Model`\n",
    "5. Create a `Model Run`\n",
    "6. Compute predictions\n",
    "7. Compute model performance metrics\n",
    "8. Upload labels, predictions, and metrics\n",
    "9. Navigate to the `Models` tab on Labelbox\n",
    "\n",
    "## Best practices\n",
    "Currently there is a limit of 2000 images per model run. We suggest uploading lower performing examples from your test set.\n"
   ]
  },
  {
   "cell_type": "markdown",
   "id": "subsequent-magic",
   "metadata": {
    "id": "subsequent-magic"
   },
   "source": [
    "## Environment Setup\n",
    "\n",
    "Install dependencies"
   ]
  },
  {
   "cell_type": "code",
   "execution_count": null,
   "id": "voluntary-minister",
   "metadata": {
    "id": "voluntary-minister"
   },
   "outputs": [],
   "source": [
    "!pip install -q \"labelbox[data]\" \\\n",
    "             scikit-image \\\n",
    "             tensorflow"
   ]
  },
  {
   "cell_type": "code",
   "execution_count": 2,
   "id": "wooden-worship",
   "metadata": {
    "id": "wooden-worship"
   },
   "outputs": [],
   "source": [
    "# Run these if running in a colab notebook\n",
    "COLAB = \"google.colab\" in str(get_ipython())\n",
    "\n",
    "if COLAB:\n",
    "    !git clone https://github.com/Labelbox/labelbox-python.git\n",
    "    !cd labelbox-python\n",
    "    !mv labelbox-python/examples/model_assisted_labeling/*.py ."
   ]
  },
  {
   "cell_type": "markdown",
   "id": "latter-leone",
   "metadata": {
    "id": "latter-leone"
   },
   "source": [
    "Import libraries"
   ]
  },
  {
   "cell_type": "code",
   "execution_count": 1,
   "id": "committed-richards",
   "metadata": {
    "id": "committed-richards"
   },
   "outputs": [
    {
     "name": "stderr",
     "output_type": "stream",
     "text": [
      "2021-09-13 09:27:18.654668: I tensorflow/compiler/jit/xla_cpu_device.cc:41] Not creating XLA devices, tf_xla_enable_xla_devices not set\n",
      "2021-09-13 09:27:18.655024: I tensorflow/core/platform/cpu_feature_guard.cc:142] This TensorFlow binary is optimized with oneAPI Deep Neural Network Library (oneDNN) to use the following CPU instructions in performance-critical operations:  AVX2 FMA\n",
      "To enable them in other operations, rebuild TensorFlow with the appropriate compiler flags.\n"
     ]
    }
   ],
   "source": [
    "import sys\n",
    "sys.path.append('../model_assisted_labeling')\n",
    "\n",
    "import uuid\n",
    "import numpy as np\n",
    "from skimage import measure\n",
    "import requests\n",
    "from tqdm import notebook\n",
    "import requests\n",
    "import csv\n",
    "import os\n",
    "\n",
    "from labelbox.schema.ontology import OntologyBuilder, Tool\n",
    "from labelbox.data.metrics.group import get_label_pairs\n",
    "from labelbox.data.metrics import feature_miou_metric, feature_confusion_matrix_metric\n",
    "from labelbox import Client, LabelingFrontend, MALPredictionImport\n",
    "from labelbox.data.serialization import NDJsonConverter\n",
    "from labelbox.data.annotation_types import (\n",
    "    ScalarMetric, \n",
    "    LabelList, \n",
    "    Label, \n",
    "    ImageData, \n",
    "    MaskData,\n",
    "    Mask, \n",
    "    Polygon,\n",
    "    Point, \n",
    "    Rectangle, \n",
    "    ObjectAnnotation\n",
    ")\n",
    "\n",
    "try:\n",
    "    from image_model import predict, load_model\n",
    "except ModuleNotFoundError: \n",
    "    # !git clone https://github.com/Labelbox/labelbox-python.git\n",
    "    # !cd labelbox-python && git checkout mea-dev\n",
    "    # !mv labelbox-python/examples/model_assisted_labeling/*.py .\n",
    "    raise Exception(\"You will need to run from the labelbox-python git repo\")"
   ]
  },
  {
   "cell_type": "markdown",
   "id": "alternate-promotion",
   "metadata": {
    "id": "alternate-promotion"
   },
   "source": [
    "Configure client"
   ]
  },
  {
   "cell_type": "code",
   "execution_count": 3,
   "id": "economic-chase",
   "metadata": {
    "id": "economic-chase"
   },
   "outputs": [],
   "source": [
    "API_KEY = None\n",
    "PROJECT_NAME = \"Diagnostics Demo\"\n",
    "MODEL_NAME = \"MSCOCO-Mapillary\"\n",
    "MODEL_VERSION = \"0.0.0\""
   ]
  },
  {
   "cell_type": "code",
   "execution_count": 4,
   "id": "affecting-myanmar",
   "metadata": {
    "id": "affecting-myanmar"
   },
   "outputs": [
    {
     "name": "stdout",
     "output_type": "stream",
     "text": [
      "WARNING:tensorflow:From ../model_assisted_labeling/image_model.py:17: load (from tensorflow.python.saved_model.loader_impl) is deprecated and will be removed in a future version.\n",
      "Instructions for updating:\n",
      "This function will only be available through the v1 compatibility library as tf.compat.v1.saved_model.loader.load or tf.compat.v1.saved_model.load. There will be a new function for importing SavedModels in Tensorflow 2.0.\n",
      "INFO:tensorflow:Restoring parameters from gs://cloud-tpu-checkpoints/mask-rcnn/1555659850/variables/variables\n"
     ]
    },
    {
     "name": "stderr",
     "output_type": "stream",
     "text": [
      "2021-09-13 09:27:38.928229: I tensorflow/compiler/mlir/mlir_graph_optimization_pass.cc:196] None of the MLIR optimization passes are enabled (registered 0 passes)\n"
     ]
    }
   ],
   "source": [
    "client = Client(api_key=API_KEY)\n",
    "load_model() # initialize Tensorflow Model"
   ]
  },
  {
   "cell_type": "code",
   "execution_count": 5,
   "id": "modern-program",
   "metadata": {
    "id": "modern-program"
   },
   "outputs": [],
   "source": [
    "# Configure for whatever combination of tools and class names that you would like.\n",
    "class_mappings = {\n",
    "    1: {\"name\": 'person', \"kind\": Tool.Type.POLYGON},\n",
    "    2: {\"name\": 'bicycle', \"kind\": Tool.Type.SEGMENTATION, 'color' : 64},\n",
    "    3: {\"name\": 'car', \"kind\": Tool.Type.BBOX},\n",
    "    4: {\"name\": 'motorcycle', \"kind\": Tool.Type.BBOX},\n",
    "    6: {\"name\": 'bus', \"kind\": Tool.Type.POLYGON},\n",
    "    7: {\"name\": 'train', \"kind\": Tool.Type.POLYGON},\n",
    "    8: {\"name\": 'truck', \"kind\": Tool.Type.POLYGON},\n",
    "    10: {\"name\": 'traffic light', \"kind\": Tool.Type.POINT},\n",
    "    11: {\"name\": 'fire hydrant', \"kind\": Tool.Type.BBOX},\n",
    "    13: {\"name\": 'stop sign', \"kind\": Tool.Type.SEGMENTATION, 'color' : 255},\n",
    "    14: {\"name\": 'parking meter', \"kind\": Tool.Type.POINT},\n",
    "    28: {\"name\": 'umbrella', \"kind\": Tool.Type.SEGMENTATION, 'color' : 128},    \n",
    "    31: {\"name\": 'handbag', \"kind\": Tool.Type.POINT},        \n",
    "}"
   ]
  },
  {
   "cell_type": "markdown",
   "id": "dated-burden",
   "metadata": {
    "id": "dated-burden"
   },
   "source": [
    "## Create Predictions\n",
    "* Loop over data_rows, make predictions, and create ndjson"
   ]
  },
  {
   "cell_type": "code",
   "execution_count": 6,
   "id": "blank-flower",
   "metadata": {},
   "outputs": [],
   "source": [
    "# --- setup dataset ---\n",
    "# load mapillary sample\n",
    "sample_csv_url = \"https://raw.githubusercontent.com/Labelbox/labelbox-python/develop/examples/assets/mapillary_sample.csv\"\n",
    "with requests.get(sample_csv_url, stream=True) as r:\n",
    "    image_data = [row.split(',') for row in (line.decode('utf-8') for line in r.iter_lines())]"
   ]
  },
  {
   "cell_type": "code",
   "execution_count": 7,
   "id": "asian-savings",
   "metadata": {
    "id": "asian-savings"
   },
   "outputs": [
    {
     "data": {
      "application/vnd.jupyter.widget-view+json": {
       "model_id": "8178b64dc1864f4f833a29b904b7b5e1",
       "version_major": 2,
       "version_minor": 0
      },
      "text/plain": [
       "  0%|          | 0/10 [00:00<?, ?it/s]"
      ]
     },
     "metadata": {},
     "output_type": "display_data"
    }
   ],
   "source": [
    "predictions = LabelList()\n",
    "for (image_url, external_id) in notebook.tqdm(image_data[:10]):\n",
    "    image = ImageData(url = image_url, external_id = external_id)\n",
    "    height, width = image.value.shape[:2]\n",
    "    prediction = predict(np.array([image.im_bytes]), min_score=0.5, height=height, width = width)\n",
    "    boxes, classes, seg_masks = prediction[\"boxes\"], prediction[\"class_indices\"], prediction[\"seg_masks\"]\n",
    "    annotations = []\n",
    "    for box, class_idx, seg in zip(boxes, classes, seg_masks):\n",
    "        if class_idx in class_mappings:\n",
    "            class_info = class_mappings.get(class_idx)\n",
    "            if class_info['kind'] == Tool.Type.POLYGON:\n",
    "                contours = measure.find_contours(seg, 0.5)\n",
    "                pts = contours[0].astype(np.int32)\n",
    "                value = Polygon(points = [Point(x = x, y = y) for x,y in np.roll(pts, 1, axis=-1)])\n",
    "            elif class_info['kind'] == Tool.Type.BBOX:\n",
    "                value = Rectangle(start = Point(x = box[1], y = box[0]), end = Point(x=box[3], y=box[2]))\n",
    "            elif class_info['kind'] == Tool.Type.POINT:\n",
    "                value = Point(x=(box[1] + box[3]) / 2., y = (box[0] + box[2]) / 2.)\n",
    "            elif class_info['kind'] == Tool.Type.SEGMENTATION:\n",
    "                value = Mask(mask = MaskData.from_2D_arr(seg * class_info['color']), color = (class_info['color'],)* 3)\n",
    "            else:\n",
    "                raise ValueError(f\"Unsupported kind found. {class_info['kind']}\")\n",
    "            annotations.append(ObjectAnnotation(name = class_info['name'], value = value))\n",
    "    predictions.append(Label(data = image, annotations = annotations))"
   ]
  },
  {
   "cell_type": "markdown",
   "id": "together-suicide",
   "metadata": {},
   "source": [
    "## Setup a project"
   ]
  },
  {
   "cell_type": "code",
   "execution_count": 8,
   "id": "received-nigeria",
   "metadata": {},
   "outputs": [],
   "source": [
    "# --- Use the class mapping specified above ( Will include all specified classes )\n",
    "tools = []\n",
    "for target in class_mappings.values():\n",
    "     tools.append(Tool(tool=target['kind'], name=target[\"name\"]))\n",
    "ontology_builder = OntologyBuilder(tools=tools)\n",
    "\n",
    "# --- Optionally Setup ontology from predictions ( Only will include predicted classes )\n",
    "#ontology_builder = predictions.get_ontology()"
   ]
  },
  {
   "cell_type": "code",
   "execution_count": 9,
   "id": "stopped-phrase",
   "metadata": {},
   "outputs": [
    {
     "name": "stdout",
     "output_type": "stream",
     "text": [
      "Setting up: Diagnostics Demo\n",
      "Dataset Created: cktiom65aclzm0y896zeua5ne\n"
     ]
    }
   ],
   "source": [
    "print(f\"Setting up: {PROJECT_NAME}\")\n",
    "\n",
    "project = client.create_project(name=PROJECT_NAME)\n",
    "editor = next(client.get_labeling_frontends(where=LabelingFrontend.name == \"Editor\"))\n",
    "project.setup(editor, ontology_builder.asdict())\n",
    "\n",
    "dataset = client.create_dataset(name=\"Mapillary Diagnostics Demo\")\n",
    "print(f\"Dataset Created: {dataset.uid}\")\n",
    "project.datasets.connect(dataset)"
   ]
  },
  {
   "cell_type": "markdown",
   "id": "secure-shelf",
   "metadata": {},
   "source": [
    "## Prepare for upload\n",
    "* Our local annotations need the following:\n",
    "    1. signed url for segmentation masks\n",
    "    2. data rows in labelbox\n",
    "    3. feature schema ids"
   ]
  },
  {
   "cell_type": "code",
   "execution_count": 10,
   "id": "unavailable-egyptian",
   "metadata": {},
   "outputs": [
    {
     "name": "stderr",
     "output_type": "stream",
     "text": [
      "10it [00:00, 63358.07it/s]\n",
      "10it [00:00, 76818.75it/s]\n",
      "10it [00:00, 60963.72it/s]\n"
     ]
    },
    {
     "data": {
      "text/plain": [
       "<labelbox.data.annotation_types.collection.LabelList at 0x17c27fdc0>"
      ]
     },
     "execution_count": 10,
     "metadata": {},
     "output_type": "execute_result"
    }
   ],
   "source": [
    "signer = lambda _bytes: client.upload_data(content=_bytes, sign=True)\n",
    "predictions.add_url_to_masks(signer) \\\n",
    "         .add_url_to_data(signer) \\\n",
    "         .assign_feature_schema_ids(OntologyBuilder.from_project(project)) \\\n",
    "         .add_to_dataset(dataset, client.upload_data)"
   ]
  },
  {
   "cell_type": "markdown",
   "id": "perfect-seafood",
   "metadata": {
    "id": "perfect-seafood"
   },
   "source": [
    "## **Optional** - Create labels with [Model Assisted Labeling](https://docs.labelbox.com/en/core-concepts/model-assisted-labeling)\n",
    "\n",
    "* Pre-label image so that we can quickly create ground truth\n",
    "* Create ground truth data for Model Diagnostics\n",
    "* Click on link below to label"
   ]
  },
  {
   "cell_type": "code",
   "execution_count": 11,
   "id": "subject-painting",
   "metadata": {
    "id": "subject-painting"
   },
   "outputs": [
    {
     "name": "stdout",
     "output_type": "stream",
     "text": [
      "AnnotationImportState.FINISHED \n",
      "\n"
     ]
    }
   ],
   "source": [
    "RUN_MAL = True\n",
    "if RUN_MAL:\n",
    "    project.enable_model_assisted_labeling()\n",
    "    # Convert from annotation types to import format\n",
    "    ndjson_predictions = NDJsonConverter.serialize(predictions)\n",
    "    upload_task = MALPredictionImport.create_from_objects(client, project.uid, f'mal-import-{uuid.uuid4()}',ndjson_predictions )\n",
    "    upload_task.wait_until_done()\n",
    "    print(upload_task.state , '\\n')"
   ]
  },
  {
   "cell_type": "code",
   "execution_count": 12,
   "id": "MV4U1W4H_eMq",
   "metadata": {
    "id": "MV4U1W4H_eMq"
   },
   "outputs": [
    {
     "name": "stdout",
     "output_type": "stream",
     "text": [
      "https://app.labelbox.com/go-label/cktiom4y2czqg0y9u9qqfdvhk\n"
     ]
    }
   ],
   "source": [
    "print(f\"https://app.labelbox.com/go-label/{project.uid}\")"
   ]
  },
  {
   "cell_type": "markdown",
   "id": "stopped-mandate",
   "metadata": {
    "id": "stopped-mandate"
   },
   "source": [
    "## Export Labels\n",
    "\n",
    "We do not support `Skipped` labels and have a limit of **2000**"
   ]
  },
  {
   "cell_type": "code",
   "execution_count": 13,
   "id": "excited-seminar",
   "metadata": {
    "id": "excited-seminar"
   },
   "outputs": [],
   "source": [
    "MAX_LABELS = 2000\n",
    "labels = [l for idx, l in enumerate(project.label_generator()) if idx < MAX_LABELS]"
   ]
  },
  {
   "cell_type": "markdown",
   "id": "smoking-catering",
   "metadata": {
    "id": "smoking-catering"
   },
   "source": [
    "## Setup Model & Model Run"
   ]
  },
  {
   "cell_type": "code",
   "execution_count": 14,
   "id": "mental-minnesota",
   "metadata": {
    "id": "mental-minnesota"
   },
   "outputs": [],
   "source": [
    "lb_model = client.create_model(name = MODEL_NAME, ontology_id = project.ontology().uid)\n",
    "lb_model_run = lb_model.create_model_run(MODEL_VERSION)"
   ]
  },
  {
   "cell_type": "markdown",
   "id": "cu8h6h0g-Fe2",
   "metadata": {
    "id": "cu8h6h0g-Fe2"
   },
   "source": [
    "Select label ids to upload"
   ]
  },
  {
   "cell_type": "code",
   "execution_count": 15,
   "id": "static-coordinate",
   "metadata": {
    "id": "static-coordinate"
   },
   "outputs": [
    {
     "data": {
      "text/plain": [
       "True"
      ]
     },
     "execution_count": 15,
     "metadata": {},
     "output_type": "execute_result"
    }
   ],
   "source": [
    "lb_model_run.upsert_labels([label.uid for label in labels])"
   ]
  },
  {
   "cell_type": "markdown",
   "id": "g_u1ak2n7qn5",
   "metadata": {
    "id": "g_u1ak2n7qn5"
   },
   "source": [
    "### Compute Metrics"
   ]
  },
  {
   "cell_type": "code",
   "execution_count": 16,
   "id": "committed-fairy",
   "metadata": {
    "id": "committed-fairy"
   },
   "outputs": [],
   "source": [
    "pairs = get_label_pairs(labels, predictions, filter_mismatch = True)\n",
    "for (ground_truth, prediction) in pairs.values():\n",
    "    metrics = []\n",
    "    metrics.extend(feature_miou_metric(ground_truth.annotations, prediction.annotations))\n",
    "    metrics.extend(feature_confusion_matrix_metric(ground_truth.annotations, prediction.annotations))    \n",
    "    prediction.annotations.extend(metrics)"
   ]
  },
  {
   "cell_type": "markdown",
   "id": "devoted-vatican",
   "metadata": {},
   "source": [
    "### Upload to Labelbox"
   ]
  },
  {
   "cell_type": "code",
   "execution_count": 17,
   "id": "anonymous-addition",
   "metadata": {
    "id": "anonymous-addition"
   },
   "outputs": [
    {
     "name": "stdout",
     "output_type": "stream",
     "text": [
      "AnnotationImportState.FINISHED\n"
     ]
    }
   ],
   "source": [
    "upload_task = lb_model_run.add_predictions(f'diagnostics-import-{uuid.uuid4()}', NDJsonConverter.serialize(predictions))\n",
    "upload_task.wait_until_done()\n",
    "print(upload_task.state)"
   ]
  },
  {
   "cell_type": "markdown",
   "id": "uTjGOyIW-3op",
   "metadata": {
    "id": "uTjGOyIW-3op"
   },
   "source": [
    "### Open Model Run"
   ]
  },
  {
   "cell_type": "code",
   "execution_count": 18,
   "id": "zrll9K6Q9tGK",
   "metadata": {
    "id": "zrll9K6Q9tGK"
   },
   "outputs": [
    {
     "name": "stdout",
     "output_type": "stream",
     "text": [
      "https://app.labelbox.com/models/9c4cba6e-efb4-03f1-302e-d5718c4eca20/9c4cba6f-8ea1-0202-ec4e-528291bf932e/AllDatarowsSlice/25da00a5-e451-4dbd-824d-a0425ce94ffa?view=carousel\n",
      "https://app.labelbox.com/models/9c4cba6e-efb4-03f1-302e-d5718c4eca20/9c4cba6f-8ea1-0202-ec4e-528291bf932e/AllDatarowsSlice/3d20b8e6-5584-45fd-b0a4-021b3a16f25b?view=carousel\n",
      "https://app.labelbox.com/models/9c4cba6e-efb4-03f1-302e-d5718c4eca20/9c4cba6f-8ea1-0202-ec4e-528291bf932e/AllDatarowsSlice/45e6dab8-c55e-4761-b47f-5a1dd4204f4d?view=carousel\n",
      "https://app.labelbox.com/models/9c4cba6e-efb4-03f1-302e-d5718c4eca20/9c4cba6f-8ea1-0202-ec4e-528291bf932e/AllDatarowsSlice/746b2c7c-25e5-449e-8cce-50e4fcbb9ddd?view=carousel\n",
      "https://app.labelbox.com/models/9c4cba6e-efb4-03f1-302e-d5718c4eca20/9c4cba6f-8ea1-0202-ec4e-528291bf932e/AllDatarowsSlice/7c2bd1f4-7f31-48b4-bc0a-b99ed7533646?view=carousel\n"
     ]
    }
   ],
   "source": [
    "for idx, annotation_group in enumerate(lb_model_run.annotation_groups()):\n",
    "    if idx == 5:\n",
    "        break\n",
    "    print(annotation_group.url)"
   ]
  },
  {
   "cell_type": "code",
   "execution_count": null,
   "id": "martial-kenya",
   "metadata": {},
   "outputs": [],
   "source": []
  }
 ],
 "metadata": {
  "accelerator": "GPU",
  "colab": {
   "collapsed_sections": [],
   "name": "Model Diagnostics Demo",
   "provenance": []
  },
  "kernelspec": {
   "display_name": "Python 3 (ipykernel)",
   "language": "python",
   "name": "python3"
  },
  "language_info": {
   "codemirror_mode": {
    "name": "ipython",
    "version": 3
   },
   "file_extension": ".py",
   "mimetype": "text/x-python",
   "name": "python",
   "nbconvert_exporter": "python",
   "pygments_lexer": "ipython3",
   "version": "3.8.2"
  }
 },
 "nbformat": 4,
 "nbformat_minor": 5
}
