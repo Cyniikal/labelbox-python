{
 "cells": [
  {
   "cell_type": "markdown",
   "id": "stupid-court",
   "metadata": {},
   "source": [
    "# Image MEA\n",
    "1. Setup a project\n",
    "2. Import labels with MAL\n",
    "3. Correct the labels in the editor\n",
    "4. Upload labels and predictions for MEA\n",
    "------ "
   ]
  },
  {
   "cell_type": "markdown",
   "id": "subsequent-magic",
   "metadata": {},
   "source": [
    "## Environment Setup\n",
    "* Install dependencies"
   ]
  },
  {
   "cell_type": "code",
   "execution_count": null,
   "id": "voluntary-minister",
   "metadata": {},
   "outputs": [],
   "source": [
    "!pip install labelbox==2.5b0 \\\n",
    "             requests \\\n",
    "             ndjson \\\n",
    "             scikit-image \\\n",
    "             PILLOW \\\n",
    "             tensorflow \\\n",
    "             opencv-python"
   ]
  },
  {
   "cell_type": "code",
   "execution_count": null,
   "id": "wooden-worship",
   "metadata": {},
   "outputs": [],
   "source": [
    "# Run these if running in a colab notebook\n",
    "COLAB = \"google.colab\" in str(get_ipython())\n",
    "if COLAB:\n",
    "    !git clone https://github.com/Labelbox/labelbox-python.git\n",
    "    !cd labelbox-python && git checkout mea-dev\n",
    "    !mv labelbox-python/examples/model_assisted_labeling/*.py ."
   ]
  },
  {
   "cell_type": "markdown",
   "id": "latter-leone",
   "metadata": {},
   "source": [
    "* Import libraries"
   ]
  },
  {
   "cell_type": "code",
   "execution_count": 2,
   "id": "committed-richards",
   "metadata": {},
   "outputs": [],
   "source": [
    "from labelbox.schema.ontology import OntologyBuilder, Tool\n",
    "from labelbox import Client, LabelingFrontend, MALPredictionImport\n",
    "from image_model import predict, class_mappings, load_model\n",
    "from io import BytesIO\n",
    "from getpass import getpass\n",
    "import uuid\n",
    "import numpy as np\n",
    "from PIL import Image\n",
    "import requests\n",
    "from collections import defaultdict\n",
    "import ndjson\n",
    "import os\n",
    "from ndjson_utils import (\n",
    "    create_boxes_ndjson, \n",
    "    create_polygon_ndjson, \n",
    "    create_mask_ndjson, \n",
    "    create_point_ndjson\n",
    ")\n",
    "from labelbox.data.metrics.iou import datarow_miou"
   ]
  },
  {
   "cell_type": "markdown",
   "id": "alternate-promotion",
   "metadata": {},
   "source": [
    "* Configure client"
   ]
  },
  {
   "cell_type": "code",
   "execution_count": null,
   "id": "economic-chase",
   "metadata": {},
   "outputs": [],
   "source": [
    "# If you don't want to give google access to drive you can skip this cell\n",
    "# and manually set `API_KEY` below.\n",
    "\n",
    "COLAB = \"google.colab\" in str(get_ipython())\n",
    "if COLAB:\n",
    "    !pip install colab-env -qU\n",
    "    from colab_env import envvar_handler\n",
    "    envvar_handler.envload()\n",
    "\n",
    "API_KEY = os.environ.get(\"LABELBOX_API_KEY\")\n",
    "if not os.environ.get(\"LABELBOX_API_KEY\"):\n",
    "    API_KEY = getpass(\"Please enter your labelbox api key\")\n",
    "    if COLAB:\n",
    "        envvar_handler.add_env(\"LABELBOX_API_KEY\", API_KEY)"
   ]
  },
  {
   "cell_type": "code",
   "execution_count": null,
   "id": "affecting-myanmar",
   "metadata": {},
   "outputs": [],
   "source": [
    "ENDPOINT = \"https://api.labelbox.com/graphql\"\n",
    "client = Client(api_key=API_KEY, endpoint = ENDPOINT)"
   ]
  },
  {
   "cell_type": "code",
   "execution_count": null,
   "id": "saved-monitor",
   "metadata": {},
   "outputs": [],
   "source": [
    "load_model()"
   ]
  },
  {
   "cell_type": "markdown",
   "id": "blessed-venture",
   "metadata": {},
   "source": [
    "## Project Setup"
   ]
  },
  {
   "cell_type": "markdown",
   "id": "formed-morgan",
   "metadata": {},
   "source": [
    "* Define ontology"
   ]
  },
  {
   "cell_type": "code",
   "execution_count": null,
   "id": "suburban-crowd",
   "metadata": {},
   "outputs": [],
   "source": [
    "ontology_builder = OntologyBuilder(tools=[\n",
    "    Tool(tool=Tool.Type.BBOX, name=\"person\"),\n",
    "    Tool(tool=Tool.Type.POLYGON, name=\"umbrella\"),\n",
    "    Tool(tool=Tool.Type.SEGMENTATION, name=\"car\"),\n",
    "    Tool(tool=Tool.Type.POINT, name=\"handbag\"),\n",
    "])"
   ]
  },
  {
   "cell_type": "markdown",
   "id": "unique-legislature",
   "metadata": {},
   "source": [
    "* Create project, dataset, and a single data row\n",
    "* Setup project\n",
    "* Enable MAL"
   ]
  },
  {
   "cell_type": "code",
   "execution_count": null,
   "id": "modern-program",
   "metadata": {},
   "outputs": [],
   "source": [
    "\n",
    "project = client.create_project(name=\"image_mea_project\")\n",
    "dataset = client.create_dataset(name=\"image_mea_dataset\")\n",
    "test_img_url = \"https://upload.wikimedia.org/wikipedia/commons/thumb/0/08/Kitano_Street_Kobe01s5s4110.jpg/2560px-Kitano_Street_Kobe01s5s4110.jpg\"\n",
    "dataset.create_data_row(row_data=test_img_url)\n",
    "editor = next(\n",
    "    client.get_labeling_frontends(where=LabelingFrontend.name == \"Editor\"))\n",
    "project.setup(editor, ontology_builder.asdict())\n",
    "project.datasets.connect(dataset)\n",
    "ontology = ontology_builder.from_project(project)\n",
    "schema_lookup = {tool.name: tool.feature_schema_id for tool in ontology.tools}\n",
    "project.enable_model_assisted_labeling()"
   ]
  },
  {
   "cell_type": "markdown",
   "id": "dated-burden",
   "metadata": {},
   "source": [
    "## Create Predictions\n",
    "* Loop over data_rows, make predictions, and create ndjson"
   ]
  },
  {
   "cell_type": "code",
   "execution_count": null,
   "id": "asian-savings",
   "metadata": {},
   "outputs": [],
   "source": [
    "predictions = []\n",
    "\n",
    "for datarow in dataset.data_rows():\n",
    "    np_image_bytes = np.array([requests.get(datarow.row_data).content])\n",
    "    w, h = Image.open(BytesIO(np_image_bytes[0])).size\n",
    "    prediction = predict(np_image_bytes, min_score=0.5, height=h, width=w)\n",
    "    annotations = []\n",
    "    boxes, classes, seg_masks = prediction[\"boxes\"], prediction[\n",
    "        \"class_indices\"], prediction[\"seg_masks\"]\n",
    "    for box, class_idx, seg in zip(boxes, classes, seg_masks):\n",
    "        class_name = class_mappings[class_idx]\n",
    "        schema_id = schema_lookup[class_name]\n",
    "        if class_name == \"other\":\n",
    "            continue\n",
    "        elif class_name == \"person\":\n",
    "            predictions.append(create_boxes_ndjson(datarow.uid, schema_id, *box))\n",
    "        elif class_name == \"car\":\n",
    "            predictions.append(create_mask_ndjson(client, datarow.uid, schema_id, seg,\n",
    "                                   (255, 0, 0)))\n",
    "        elif class_name == \"handbag\":\n",
    "            predictions.append(create_point_ndjson(datarow.uid, schema_id, *box))\n",
    "        elif class_name == \"umbrella\":\n",
    "            predictions.append(create_polygon_ndjson(datarow.uid, schema_id, seg))"
   ]
  },
  {
   "cell_type": "code",
   "execution_count": null,
   "id": "welsh-burlington",
   "metadata": {},
   "outputs": [],
   "source": []
  },
  {
   "cell_type": "markdown",
   "id": "perfect-seafood",
   "metadata": {},
   "source": [
    "## MAL: Upload Predictions to a Project\n",
    "* Pre-label image so that we can quickly create ground truth\n",
    "* This step is not required for MEA."
   ]
  },
  {
   "cell_type": "code",
   "execution_count": null,
   "id": "subject-painting",
   "metadata": {},
   "outputs": [],
   "source": [
    "upload_task = MALPredictionImport.create_from_objects(client, project.uid, f'mal-import-{uuid.uuid4()}', predictions)\n",
    "upload_task.wait_until_done()\n",
    "print(upload_task.state)"
   ]
  },
  {
   "cell_type": "code",
   "execution_count": null,
   "id": "pointed-export",
   "metadata": {},
   "outputs": [],
   "source": [
    "upload_task.statuses[:5]"
   ]
  },
  {
   "cell_type": "markdown",
   "id": "stopped-mandate",
   "metadata": {},
   "source": [
    "## Label\n",
    "* Create ground truth data for MEA\n",
    "* Click on link below to label"
   ]
  },
  {
   "cell_type": "code",
   "execution_count": null,
   "id": "christian-juvenile",
   "metadata": {},
   "outputs": [],
   "source": [
    "print(f\"https://app.labelbox.com/projects/{project.uid}\")"
   ]
  },
  {
   "cell_type": "code",
   "execution_count": null,
   "id": "excited-seminar",
   "metadata": {},
   "outputs": [],
   "source": [
    "labels = requests.get(project.export_labels()).json()"
   ]
  },
  {
   "cell_type": "markdown",
   "id": "smoking-catering",
   "metadata": {},
   "source": [
    "## MEA\n",
    "1. Create a model\n",
    "    * Think of this as a model that you want to perform experiments on\n",
    "2. Create a model run\n",
    "    * Think of this as a single experiment for a particular model.\n",
    "    * E.g. this model run is for an instance of a model with particular hyperparameters\n",
    "3. Select the ground truth annotations for analysis\n",
    "4. Compute metrics\n",
    "4. Upload model predictions and metrics to labelbox"
   ]
  },
  {
   "cell_type": "code",
   "execution_count": null,
   "id": "mental-minnesota",
   "metadata": {},
   "outputs": [],
   "source": [
    "model = client.create_model(name = \"test-model\", ontology_id = project.ontology().uid)\n",
    "model_run = model.create_model_run('test-run-1')"
   ]
  },
  {
   "cell_type": "code",
   "execution_count": null,
   "id": "static-coordinate",
   "metadata": {},
   "outputs": [],
   "source": [
    "model_run.upsert_labels([label['ID'] for label in labels])"
   ]
  },
  {
   "cell_type": "code",
   "execution_count": null,
   "id": "committed-fairy",
   "metadata": {},
   "outputs": [],
   "source": [
    "# Note that the `datarow_miou` function downloads segmentation masks\n",
    "# For large projects this logic should be wrapped in a threadpool for faster execution.\n",
    "\n",
    "\n",
    "metric_annotations = []\n",
    "grouped_predictions = defaultdict(list)\n",
    "\n",
    "for prediction in predictions:\n",
    "    grouped_predictions[prediction['dataRow']['id']].append(prediction)\n",
    "    \n",
    "for label in labels:\n",
    "    datarow_id = label['DataRow ID']\n",
    "    score = datarow_miou(label, grouped_predictions[datarow_id])\n",
    "    if score is None:\n",
    "        continue\n",
    "        \n",
    "    metric_annotations.append(  {\n",
    "        \"uuid\" : str(uuid.uuid4()),\n",
    "        \"dataRow\" : {\n",
    "            \"id\": datarow_id,\n",
    "        },\n",
    "        \"metricValue\" : score\n",
    "        }\n",
    "    )\n"
   ]
  },
  {
   "cell_type": "code",
   "execution_count": null,
   "id": "anonymous-addition",
   "metadata": {},
   "outputs": [],
   "source": [
    "upload_task = model_run.add_predictions(f'mea-import-{uuid.uuid4()}', predictions + metric_annotations)"
   ]
  },
  {
   "cell_type": "code",
   "execution_count": null,
   "id": "deadly-denmark",
   "metadata": {},
   "outputs": [],
   "source": [
    "upload_task.wait_until_done()\n",
    "print(upload_task.state)"
   ]
  },
  {
   "cell_type": "code",
   "execution_count": null,
   "id": "stupid-edgar",
   "metadata": {},
   "outputs": [],
   "source": [
    "upload_task.statuses"
   ]
  },
  {
   "cell_type": "code",
   "execution_count": null,
   "id": "velvet-bread",
   "metadata": {},
   "outputs": [],
   "source": []
  }
 ],
 "metadata": {
  "kernelspec": {
   "display_name": "Python 3",
   "language": "python",
   "name": "python3"
  },
  "language_info": {
   "codemirror_mode": {
    "name": "ipython",
    "version": 3
   },
   "file_extension": ".py",
   "mimetype": "text/x-python",
   "name": "python",
   "nbconvert_exporter": "python",
   "pygments_lexer": "ipython3",
   "version": "3.8.2"
  }
 },
 "nbformat": 4,
 "nbformat_minor": 5
}
