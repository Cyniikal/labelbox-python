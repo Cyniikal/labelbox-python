{
 "cells": [
  {
   "cell_type": "markdown",
   "id": "stupid-court",
   "metadata": {},
   "source": [
    "# Image MEA\n",
    "1. Setup a project\n",
    "2. Import labels with MAL\n",
    "3. Correct the labels in the editor\n",
    "4. Upload labels and predictions for MEA\n",
    "------ "
   ]
  },
  {
   "cell_type": "markdown",
   "id": "subsequent-magic",
   "metadata": {},
   "source": [
    "## Environment Setup\n",
    "* Install dependencies"
   ]
  },
  {
   "cell_type": "code",
   "execution_count": null,
   "id": "voluntary-minister",
   "metadata": {},
   "outputs": [],
   "source": [
    "!pip install labelbox==2.7b1 \\\n",
    "             requests \\\n",
    "             ndjson \\\n",
    "             scikit-image \\\n",
    "             PILLOW \\\n",
    "             tensorflow \\\n",
    "             opencv-python"
   ]
  },
  {
   "cell_type": "code",
   "execution_count": 2,
   "id": "wooden-worship",
   "metadata": {},
   "outputs": [],
   "source": [
    "# Run these if running in a colab notebook\n",
    "COLAB = \"google.colab\" in str(get_ipython())\n",
    "if COLAB:\n",
    "    !git clone https://github.com/Labelbox/labelbox-python.git\n",
    "    !cd labelbox-python && git checkout mea-dev\n",
    "    !mv labelbox-python/examples/model_assisted_labeling/*.py ."
   ]
  },
  {
   "cell_type": "markdown",
   "id": "latter-leone",
   "metadata": {},
   "source": [
    "* Import libraries"
   ]
  },
  {
   "cell_type": "code",
   "execution_count": 3,
   "id": "committed-richards",
   "metadata": {},
   "outputs": [],
   "source": [
    "from labelbox.schema.ontology import OntologyBuilder, Tool\n",
    "from labelbox import Client, LabelingFrontend, MALPredictionImport\n",
    "from image_model import predict, class_mappings, load_model\n",
    "from io import BytesIO\n",
    "from getpass import getpass\n",
    "import uuid\n",
    "import numpy as np\n",
    "from PIL import Image\n",
    "import requests\n",
    "from collections import defaultdict\n",
    "import ndjson\n",
    "import os\n",
    "from ndjson_utils import (\n",
    "    create_boxes_ndjson, \n",
    "    create_polygon_ndjson, \n",
    "    create_mask_ndjson, \n",
    "    create_point_ndjson\n",
    ")\n",
    "from labelbox.data.metrics.iou import data_row_miou\n",
    "from labelbox.data.serialization import NDJsonConverter\n",
    "from labelbox.data.annotation_types import ScalarMetric, LabelList, Label, RasterData, Mask, Point, Rectangle, ObjectAnnotation"
   ]
  },
  {
   "cell_type": "markdown",
   "id": "alternate-promotion",
   "metadata": {},
   "source": [
    "* Configure client"
   ]
  },
  {
   "cell_type": "code",
   "execution_count": 4,
   "id": "economic-chase",
   "metadata": {},
   "outputs": [],
   "source": [
    "# If you don't want to give google access to drive you can skip this cell\n",
    "# and manually set `API_KEY` below.\n",
    "\n",
    "COLAB = \"google.colab\" in str(get_ipython())\n",
    "if COLAB:\n",
    "    !pip install colab-env -qU\n",
    "    from colab_env import envvar_handler\n",
    "    envvar_handler.envload()\n",
    "\n",
    "API_KEY = os.environ.get(\"LABELBOX_API_KEY\")\n",
    "if not os.environ.get(\"LABELBOX_API_KEY\"):\n",
    "    API_KEY = getpass(\"Please enter your labelbox api key\")\n",
    "    if COLAB:\n",
    "        envvar_handler.add_env(\"LABELBOX_API_KEY\", API_KEY)"
   ]
  },
  {
   "cell_type": "code",
   "execution_count": 5,
   "id": "affecting-myanmar",
   "metadata": {},
   "outputs": [],
   "source": [
    "ENDPOINT = \"https://api.labelbox.com/graphql\"\n",
    "client = Client(api_key=API_KEY, endpoint = ENDPOINT)"
   ]
  },
  {
   "cell_type": "code",
   "execution_count": 6,
   "id": "saved-monitor",
   "metadata": {},
   "outputs": [
    {
     "name": "stdout",
     "output_type": "stream",
     "text": [
      "WARNING:tensorflow:From /Users/matthewsokoloff/Projects/labelbox-python/examples/model_assisted_labeling/image_model.py:17: load (from tensorflow.python.saved_model.loader_impl) is deprecated and will be removed in a future version.\n",
      "Instructions for updating:\n",
      "This function will only be available through the v1 compatibility library as tf.compat.v1.saved_model.loader.load or tf.compat.v1.saved_model.load. There will be a new function for importing SavedModels in Tensorflow 2.0.\n",
      "INFO:tensorflow:Restoring parameters from gs://cloud-tpu-checkpoints/mask-rcnn/1555659850/variables/variables\n"
     ]
    }
   ],
   "source": [
    "load_model()"
   ]
  },
  {
   "cell_type": "markdown",
   "id": "advanced-ordinary",
   "metadata": {},
   "source": [
    "## Make Inferences"
   ]
  },
  {
   "cell_type": "code",
   "execution_count": 7,
   "id": "afraid-table",
   "metadata": {},
   "outputs": [],
   "source": [
    "def get_annotations(boxes, classes, seg_masks):\n",
    "    annotations = []\n",
    "    for box, class_idx, seg in zip(boxes, classes, seg_masks):\n",
    "        name = class_mappings[class_idx]\n",
    "        value = None\n",
    "        classifications = []\n",
    "        if name in ['person', 'handbag']:\n",
    "            value = Rectangle(\n",
    "                start = Point(x = box[1], y = box[0]), end = Point(x = box[3], y = box[2])\n",
    "            )\n",
    "        elif name == 'car':\n",
    "            value = Mask(mask = RasterData.from_2D_arr(arr = seg), color = (1,1,1))            \n",
    "        if value is not None:\n",
    "            annotations.append(\n",
    "                ObjectAnnotation(\n",
    "                    name = name,\n",
    "                    value = value\n",
    "                )\n",
    "            ) \n",
    "    return annotations\n",
    "\n",
    "### We can just start creating predictions whether or not we have a \n",
    "image_paths = ['/Users/matthewsokoloff/Downloads/kitano_st.jpeg']\n",
    "labellist = LabelList([])\n",
    "\n",
    "for image_url in image_paths:\n",
    "    image_data = RasterData(file_path = image_url)\n",
    "    height, width = image_data.data.shape[:2]\n",
    "    prediction = predict(np.array([image_data.im_bytes]), min_score=0.5, height=height, width = width)\n",
    "    annotations = get_annotations(prediction['boxes'], prediction['class_indices'], prediction['seg_masks'])\n",
    "    labellist.append(Label(\n",
    "        data = image_data,\n",
    "        annotations = annotations\n",
    "    ))\n",
    "    "
   ]
  },
  {
   "cell_type": "markdown",
   "id": "blessed-venture",
   "metadata": {},
   "source": [
    "## Project Setup"
   ]
  },
  {
   "cell_type": "markdown",
   "id": "formed-morgan",
   "metadata": {},
   "source": [
    "* Define ontology"
   ]
  },
  {
   "cell_type": "code",
   "execution_count": 8,
   "id": "modern-program",
   "metadata": {},
   "outputs": [
    {
     "data": {
      "text/plain": [
       "True"
      ]
     },
     "execution_count": 8,
     "metadata": {},
     "output_type": "execute_result"
    }
   ],
   "source": [
    "# Lets setup a project to label\n",
    "# Note see Ontology, Project, and Project_setup notebooks for more information on this section.\n",
    "project = client.create_project(name=\"subclass_mal_project\")\n",
    "dataset = client.create_dataset(name=\"subclass_mal_dataset\")\n",
    "editor = next(\n",
    "    client.get_labeling_frontends(where=LabelingFrontend.name == 'editor'))\n",
    "# Use the label collection to build the ontology\n",
    "project.setup(editor, labellist.get_ontology().asdict())\n",
    "project.datasets.connect(dataset)\n",
    "project.enable_model_assisted_labeling()"
   ]
  },
  {
   "cell_type": "markdown",
   "id": "dated-burden",
   "metadata": {},
   "source": [
    "## Add ids required for MAL"
   ]
  },
  {
   "cell_type": "code",
   "execution_count": 9,
   "id": "asian-savings",
   "metadata": {},
   "outputs": [
    {
     "name": "stderr",
     "output_type": "stream",
     "text": [
      "1it [00:04,  4.47s/it]\n",
      "1it [00:04,  4.81s/it]\n",
      "1it [00:00, 9489.38it/s]\n"
     ]
    },
    {
     "data": {
      "text/plain": [
       "<labelbox.data.annotation_types.collection.LabelList at 0x189cd35e0>"
      ]
     },
     "execution_count": 9,
     "metadata": {},
     "output_type": "execute_result"
    }
   ],
   "source": [
    "signer = lambda _bytes: client.upload_data(content=_bytes, sign=True)\n",
    "labellist.add_url_to_masks(signer) \\\n",
    "         .add_url_to_data(signer) \\\n",
    "         .assign_schema_ids(OntologyBuilder.from_project(project)) \\\n",
    "         .add_to_dataset(dataset, signer)"
   ]
  },
  {
   "cell_type": "markdown",
   "id": "perfect-seafood",
   "metadata": {},
   "source": [
    "## MAL: Upload Predictions to a Project\n",
    "* Pre-label image so that we can quickly create ground truth\n",
    "* This step is not required for MEA."
   ]
  },
  {
   "cell_type": "code",
   "execution_count": 10,
   "id": "subject-painting",
   "metadata": {},
   "outputs": [
    {
     "name": "stdout",
     "output_type": "stream",
     "text": [
      "AnnotationImportState.FINISHED\n"
     ]
    }
   ],
   "source": [
    "upload_task = MALPredictionImport.create_from_objects(client, project.uid, f'mal-import-{uuid.uuid4()}', list(NDJsonConverter.serialize(labellist)))\n",
    "upload_task.wait_until_done()\n",
    "print(upload_task.state)"
   ]
  },
  {
   "cell_type": "code",
   "execution_count": 11,
   "id": "pointed-export",
   "metadata": {},
   "outputs": [
    {
     "data": {
      "text/plain": [
       "[{'uuid': 'b7209dc7-4633-44f8-a70a-92f5b7870d44',\n",
       "  'dataRow': {'id': 'ckrmjz5og00620yu03vjrbpxd'},\n",
       "  'status': 'SUCCESS'},\n",
       " {'uuid': '4b3786d4-4014-470e-ab7d-de3bf1ab3db6',\n",
       "  'dataRow': {'id': 'ckrmjz5og00620yu03vjrbpxd'},\n",
       "  'status': 'SUCCESS'},\n",
       " {'uuid': 'e4504c03-b909-4bd2-9379-8aef20bd42e9',\n",
       "  'dataRow': {'id': 'ckrmjz5og00620yu03vjrbpxd'},\n",
       "  'status': 'SUCCESS'},\n",
       " {'uuid': 'a99a32e4-a0de-431d-b934-17d72d8221db',\n",
       "  'dataRow': {'id': 'ckrmjz5og00620yu03vjrbpxd'},\n",
       "  'status': 'SUCCESS'},\n",
       " {'uuid': '14e965e5-eaf5-4ef3-a0c8-af7d77052da1',\n",
       "  'dataRow': {'id': 'ckrmjz5og00620yu03vjrbpxd'},\n",
       "  'status': 'SUCCESS'}]"
      ]
     },
     "execution_count": 11,
     "metadata": {},
     "output_type": "execute_result"
    }
   ],
   "source": [
    "upload_task.statuses[:5]"
   ]
  },
  {
   "cell_type": "markdown",
   "id": "stopped-mandate",
   "metadata": {},
   "source": [
    "## Label\n",
    "* Create ground truth data for MEA\n",
    "* Click on link below to label"
   ]
  },
  {
   "cell_type": "code",
   "execution_count": 12,
   "id": "christian-juvenile",
   "metadata": {},
   "outputs": [
    {
     "name": "stdout",
     "output_type": "stream",
     "text": [
      "https://app.labelbox.com/projects/ckrmjytxb02gz0y7407itatfe\n"
     ]
    }
   ],
   "source": [
    "print(f\"https://app.labelbox.com/projects/{project.uid}\")"
   ]
  },
  {
   "cell_type": "code",
   "execution_count": 13,
   "id": "excited-seminar",
   "metadata": {},
   "outputs": [],
   "source": [
    "labels = project.export_labels().as_list()"
   ]
  },
  {
   "cell_type": "markdown",
   "id": "smoking-catering",
   "metadata": {},
   "source": [
    "## MEA\n",
    "1. Create a model\n",
    "    * Think of this as a model that you want to perform experiments on\n",
    "2. Create a model run\n",
    "    * Think of this as a single experiment for a particular model.\n",
    "    * E.g. this model run is for an instance of a model with particular hyperparameters\n",
    "3. Select the ground truth annotations for analysis\n",
    "4. Compute metrics\n",
    "4. Upload model predictions and metrics to labelbox"
   ]
  },
  {
   "cell_type": "code",
   "execution_count": 15,
   "id": "mental-minnesota",
   "metadata": {},
   "outputs": [],
   "source": [
    "model = client.create_model(name = \"test-model-10\", ontology_id = project.ontology().uid)\n",
    "model_run = model.create_model_run('test-run-1')"
   ]
  },
  {
   "cell_type": "code",
   "execution_count": 16,
   "id": "static-coordinate",
   "metadata": {},
   "outputs": [
    {
     "data": {
      "text/plain": [
       "True"
      ]
     },
     "execution_count": 16,
     "metadata": {},
     "output_type": "execute_result"
    }
   ],
   "source": [
    "model_run.upsert_labels([label.uid for label in labels])"
   ]
  },
  {
   "cell_type": "code",
   "execution_count": 17,
   "id": "skilled-perfume",
   "metadata": {},
   "outputs": [],
   "source": [
    "label_lookup = {label.data.uid : label for label in labels}"
   ]
  },
  {
   "cell_type": "code",
   "execution_count": 43,
   "id": "committed-fairy",
   "metadata": {},
   "outputs": [
    {
     "name": "stdout",
     "output_type": "stream",
     "text": [
      "0.9898928623589912\n"
     ]
    }
   ],
   "source": [
    "for pred in labellist:\n",
    "    label = label_lookup[pred.data.uid]\n",
    "    score = data_row_miou(label, pred)\n",
    "    if score is None:\n",
    "        continue\n",
    "        \n",
    "    pred.annotations.append(\n",
    "        ScalarMetric(value = score)\n",
    "    )\n",
    "    "
   ]
  },
  {
   "cell_type": "code",
   "execution_count": 46,
   "id": "anonymous-addition",
   "metadata": {},
   "outputs": [],
   "source": [
    "upload_task = model_run.add_predictions(f'mea-import-{uuid.uuid4()}', list(NDJsonConverter.serialize(labellist)))"
   ]
  },
  {
   "cell_type": "code",
   "execution_count": 47,
   "id": "deadly-denmark",
   "metadata": {},
   "outputs": [
    {
     "name": "stdout",
     "output_type": "stream",
     "text": [
      "AnnotationImportState.FINISHED\n"
     ]
    }
   ],
   "source": [
    "upload_task.wait_until_done()\n",
    "print(upload_task.state)"
   ]
  },
  {
   "cell_type": "code",
   "execution_count": 48,
   "id": "stupid-edgar",
   "metadata": {},
   "outputs": [
    {
     "data": {
      "text/plain": [
       "[{'uuid': '1358893f-71a3-4a52-9530-43e70344fa53',\n",
       "  'dataRow': {'id': 'ckrmjz5og00620yu03vjrbpxd'},\n",
       "  'status': 'SUCCESS'},\n",
       " {'uuid': '5ec325fa-f6ef-4ee4-81d2-33d87208700c',\n",
       "  'dataRow': {'id': 'ckrmjz5og00620yu03vjrbpxd'},\n",
       "  'status': 'SUCCESS'},\n",
       " {'uuid': '31b07ea2-6eae-4a20-9512-c8675df1a07e',\n",
       "  'dataRow': {'id': 'ckrmjz5og00620yu03vjrbpxd'},\n",
       "  'status': 'SUCCESS'},\n",
       " {'uuid': '8ac56363-43c2-4741-8b3b-c1874db7b595',\n",
       "  'dataRow': {'id': 'ckrmjz5og00620yu03vjrbpxd'},\n",
       "  'status': 'SUCCESS'},\n",
       " {'uuid': '419b8d07-566b-4f80-9a5c-60f09f4e3b76',\n",
       "  'dataRow': {'id': 'ckrmjz5og00620yu03vjrbpxd'},\n",
       "  'status': 'SUCCESS'},\n",
       " {'uuid': 'f273862a-fb6f-4c9b-8cb3-b0ef282f4ab4',\n",
       "  'dataRow': {'id': 'ckrmjz5og00620yu03vjrbpxd'},\n",
       "  'status': 'SUCCESS'},\n",
       " {'uuid': '0fe7e725-0f4c-4013-8f2a-2c1b175f2c85',\n",
       "  'dataRow': {'id': 'ckrmjz5og00620yu03vjrbpxd'},\n",
       "  'status': 'SUCCESS'},\n",
       " {'uuid': 'ae4f6cf2-d8f3-47c1-bbb6-ab3c16c152ac',\n",
       "  'dataRow': {'id': 'ckrmjz5og00620yu03vjrbpxd'},\n",
       "  'status': 'SUCCESS'},\n",
       " {'uuid': '3d2d98b0-172c-4641-a6c0-53fa0ff53fb5',\n",
       "  'dataRow': {'id': 'ckrmjz5og00620yu03vjrbpxd'},\n",
       "  'status': 'SUCCESS'},\n",
       " {'uuid': '278c1e2d-41f2-4c59-8d92-5208f4200ed2',\n",
       "  'dataRow': {'id': 'ckrmjz5og00620yu03vjrbpxd'},\n",
       "  'status': 'SUCCESS'},\n",
       " {'uuid': '2a9534bc-7412-4a81-9271-1e67ebbc9bc1',\n",
       "  'dataRow': {'id': 'ckrmjz5og00620yu03vjrbpxd'},\n",
       "  'status': 'SUCCESS'},\n",
       " {'uuid': '34719eeb-f012-4fa8-82b1-ca06e5e46170',\n",
       "  'dataRow': {'id': 'ckrmjz5og00620yu03vjrbpxd'},\n",
       "  'status': 'SUCCESS'},\n",
       " {'uuid': '2925e18a-968a-48dd-8818-66b6b61748f6',\n",
       "  'dataRow': {'id': 'ckrmjz5og00620yu03vjrbpxd'},\n",
       "  'status': 'SUCCESS'},\n",
       " {'uuid': '8b9e43d0-0314-4ea3-8edd-91567925a0d3',\n",
       "  'dataRow': {'id': 'ckrmjz5og00620yu03vjrbpxd'},\n",
       "  'status': 'SUCCESS'},\n",
       " {'uuid': '2b183311-07e4-48dc-88bd-721b8203f1bb',\n",
       "  'dataRow': {'id': 'ckrmjz5og00620yu03vjrbpxd'},\n",
       "  'status': 'SUCCESS'},\n",
       " {'uuid': '1dc30bfb-33bb-44d5-8dc3-8a6df086ae47',\n",
       "  'dataRow': {'id': 'ckrmjz5og00620yu03vjrbpxd'},\n",
       "  'status': 'SUCCESS'},\n",
       " {'uuid': 'f205addf-650a-40fd-ae9d-7a98be0f6e43',\n",
       "  'dataRow': {'id': 'ckrmjz5og00620yu03vjrbpxd'},\n",
       "  'status': 'SUCCESS'},\n",
       " {'uuid': '3a88e8a8-5695-456a-8699-6bbcf230d0da',\n",
       "  'dataRow': {'id': 'ckrmjz5og00620yu03vjrbpxd'},\n",
       "  'status': 'SUCCESS'},\n",
       " {'uuid': '88b218b4-71f3-4c5c-a7d8-03d483bec349',\n",
       "  'dataRow': {'id': 'ckrmjz5og00620yu03vjrbpxd'},\n",
       "  'status': 'SUCCESS'},\n",
       " {'uuid': '4f113ec5-648d-478f-ba94-30db41f5f31b',\n",
       "  'dataRow': {'id': 'ckrmjz5og00620yu03vjrbpxd'},\n",
       "  'status': 'SUCCESS'},\n",
       " {'uuid': '9e52095a-3ec0-4cfa-9060-c23fa707c805',\n",
       "  'dataRow': {'id': 'ckrmjz5og00620yu03vjrbpxd'},\n",
       "  'status': 'SUCCESS'},\n",
       " {'uuid': 'b7aab154-ccae-4b6f-9352-94c887379106',\n",
       "  'dataRow': {'id': 'ckrmjz5og00620yu03vjrbpxd'},\n",
       "  'status': 'SUCCESS'},\n",
       " {'uuid': '310b0af0-c7f9-48f7-b5f7-2676065bf6e4',\n",
       "  'dataRow': {'id': 'ckrmjz5og00620yu03vjrbpxd'},\n",
       "  'status': 'SUCCESS'},\n",
       " {'uuid': 'c60df473-78e8-459b-b67b-3ef1ec55e217',\n",
       "  'dataRow': {'id': 'ckrmjz5og00620yu03vjrbpxd'},\n",
       "  'status': 'SUCCESS'},\n",
       " {'uuid': '3a69aa04-41e6-4c0a-9759-051f2d83d7c5',\n",
       "  'dataRow': {'id': 'ckrmjz5og00620yu03vjrbpxd'},\n",
       "  'status': 'SUCCESS'},\n",
       " {'uuid': '1b721520-7263-4550-9536-d08adcab04c6',\n",
       "  'dataRow': {'id': 'ckrmjz5og00620yu03vjrbpxd'},\n",
       "  'status': 'SUCCESS'},\n",
       " {'uuid': '2f2c1c86-47bd-48a7-8c06-6c43131ff5fc',\n",
       "  'dataRow': {'id': 'ckrmjz5og00620yu03vjrbpxd'},\n",
       "  'status': 'SUCCESS'},\n",
       " {'uuid': '9834d906-a97c-4fe9-8a84-d0a74fa4089b',\n",
       "  'dataRow': {'id': 'ckrmjz5og00620yu03vjrbpxd'},\n",
       "  'status': 'SUCCESS'},\n",
       " {'uuid': '131b4291-09c6-4887-90e1-1e1b4a85e93c',\n",
       "  'dataRow': {'id': 'ckrmjz5og00620yu03vjrbpxd'},\n",
       "  'status': 'SUCCESS'},\n",
       " {'uuid': '560cead4-12e9-4346-8e98-256676a5b4ba',\n",
       "  'dataRow': {'id': 'ckrmjz5og00620yu03vjrbpxd'},\n",
       "  'status': 'SUCCESS'},\n",
       " {'uuid': '7aee4578-437d-4754-bc71-7957b6568d5f',\n",
       "  'dataRow': {'id': 'ckrmjz5og00620yu03vjrbpxd'},\n",
       "  'status': 'SUCCESS'},\n",
       " {'uuid': '66b0b4c1-f950-4fd1-84bd-e376cfa6be58',\n",
       "  'dataRow': {'id': 'ckrmjz5og00620yu03vjrbpxd'},\n",
       "  'status': 'SUCCESS'},\n",
       " {'uuid': '78be7dcc-3c26-47e5-bb1f-65884c04bd6a',\n",
       "  'dataRow': {'id': 'ckrmjz5og00620yu03vjrbpxd'},\n",
       "  'status': 'SUCCESS'},\n",
       " {'uuid': 'a5268e99-328e-412b-8080-50912980fc64',\n",
       "  'dataRow': {'id': 'ckrmjz5og00620yu03vjrbpxd'},\n",
       "  'status': 'SUCCESS'},\n",
       " {'uuid': '021f539c-412b-4a67-bc9f-650e15120a6e',\n",
       "  'dataRow': {'id': 'ckrmjz5og00620yu03vjrbpxd'},\n",
       "  'status': 'SUCCESS'},\n",
       " {'uuid': '562e36c8-38b3-4119-b0a4-e08ef4ddb938',\n",
       "  'dataRow': {'id': 'ckrmjz5og00620yu03vjrbpxd'},\n",
       "  'status': 'SUCCESS'},\n",
       " {'uuid': '6bc2bca3-c301-427e-944f-64b327456dfa',\n",
       "  'dataRow': {'id': 'ckrmjz5og00620yu03vjrbpxd'},\n",
       "  'status': 'SUCCESS'},\n",
       " {'uuid': '4f523414-85e3-4057-be98-414b12ed8a40',\n",
       "  'dataRow': {'id': 'ckrmjz5og00620yu03vjrbpxd'},\n",
       "  'status': 'SUCCESS'},\n",
       " {'uuid': '10dd764a-5ccc-40a1-b696-8db337dd4541',\n",
       "  'dataRow': {'id': 'ckrmjz5og00620yu03vjrbpxd'},\n",
       "  'status': 'SUCCESS'},\n",
       " {'uuid': 'f39231b3-bb60-4ed3-a298-3db74733011e',\n",
       "  'dataRow': {'id': 'ckrmjz5og00620yu03vjrbpxd'},\n",
       "  'status': 'SUCCESS'},\n",
       " {'uuid': '689e1066-1b7c-4200-b84a-4a702a281dd3',\n",
       "  'dataRow': {'id': 'ckrmjz5og00620yu03vjrbpxd'},\n",
       "  'status': 'SUCCESS'},\n",
       " {'uuid': '48987fd2-3af5-4727-b177-093d09f85ab3',\n",
       "  'dataRow': {'id': 'ckrmjz5og00620yu03vjrbpxd'},\n",
       "  'status': 'SUCCESS'}]"
      ]
     },
     "execution_count": 48,
     "metadata": {},
     "output_type": "execute_result"
    }
   ],
   "source": [
    "upload_task.statuses"
   ]
  },
  {
   "cell_type": "code",
   "execution_count": 49,
   "id": "velvet-bread",
   "metadata": {},
   "outputs": [
    {
     "name": "stdout",
     "output_type": "stream",
     "text": [
      "https://app.labelbox.com/models/9be7b30f-7142-07a1-663f-aa082cdb592f/9be7b30f-d74c-0cff-9225-1b471f965c8a/AllDatarowsSlice/21f1fa97-d81f-4623-bfce-7bfc81999a84?view=carousel\n"
     ]
    }
   ],
   "source": [
    "# View the uploaded predictions and labels (annotation group) in the web app\n",
    "annotation_group = next(model_run.annotation_groups())\n",
    "print(annotation_group.url)"
   ]
  }
 ],
 "metadata": {
  "kernelspec": {
   "display_name": "Python 3",
   "language": "python",
   "name": "python3"
  },
  "language_info": {
   "codemirror_mode": {
    "name": "ipython",
    "version": 3
   },
   "file_extension": ".py",
   "mimetype": "text/x-python",
   "name": "python",
   "nbconvert_exporter": "python",
   "pygments_lexer": "ipython3",
   "version": "3.8.2"
  }
 },
 "nbformat": 4,
 "nbformat_minor": 5
}
