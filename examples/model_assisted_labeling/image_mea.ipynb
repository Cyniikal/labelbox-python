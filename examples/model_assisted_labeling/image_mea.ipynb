{
 "cells": [
  {
   "cell_type": "markdown",
   "id": "stupid-court",
   "metadata": {},
   "source": [
    "# Model Error Analysis\n",
    "1. Setup a project\n",
    "2. Import labels with MAL\n",
    "3. Correct the labels in the editor\n",
    "4. Upload labels and predictions for MEA\n",
    "------ "
   ]
  },
  {
   "cell_type": "markdown",
   "id": "subsequent-magic",
   "metadata": {},
   "source": [
    "## Environment Setup\n",
    "* Install dependencies"
   ]
  },
  {
   "cell_type": "code",
   "execution_count": null,
   "id": "voluntary-minister",
   "metadata": {},
   "outputs": [],
   "source": [
    "!pip install labelbox[data] == 3.0b0 \\\n",
    "             scikit-image \\\n",
    "             tensorflow"
   ]
  },
  {
   "cell_type": "code",
   "execution_count": 1,
   "id": "wooden-worship",
   "metadata": {},
   "outputs": [],
   "source": [
    "# Run these if running in a colab notebook\n",
    "COLAB = \"google.colab\" in str(get_ipython())\n",
    "if COLAB:\n",
    "    !git clone https://github.com/Labelbox/labelbox-python.git\n",
    "    !cd labelbox-python && git checkout mea-dev\n",
    "    !mv labelbox-python/examples/model_assisted_labeling/*.py ."
   ]
  },
  {
   "cell_type": "markdown",
   "id": "latter-leone",
   "metadata": {},
   "source": [
    "* Import libraries"
   ]
  },
  {
   "cell_type": "code",
   "execution_count": 2,
   "id": "committed-richards",
   "metadata": {},
   "outputs": [],
   "source": [
    "from labelbox.schema.ontology import OntologyBuilder, Tool\n",
    "from labelbox import Client, LabelingFrontend, MALPredictionImport\n",
    "from image_model import predict, class_mappings, load_model\n",
    "from io import BytesIO\n",
    "from getpass import getpass\n",
    "import uuid\n",
    "import numpy as np\n",
    "from PIL import Image\n",
    "import requests\n",
    "from collections import defaultdict\n",
    "import ndjson\n",
    "import os\n",
    "from ndjson_utils import (\n",
    "    create_boxes_ndjson, \n",
    "    create_polygon_ndjson, \n",
    "    create_mask_ndjson, \n",
    "    create_point_ndjson\n",
    ")\n",
    "from labelbox.data.metrics.iou import data_row_miou\n",
    "from labelbox.data.serialization import NDJsonConverter\n",
    "from labelbox.data.annotation_types import ScalarMetric, LabelList, Label, RasterData, Mask, Point, Rectangle, ObjectAnnotation"
   ]
  },
  {
   "cell_type": "markdown",
   "id": "alternate-promotion",
   "metadata": {},
   "source": [
    "* Configure client"
   ]
  },
  {
   "cell_type": "code",
   "execution_count": 3,
   "id": "economic-chase",
   "metadata": {},
   "outputs": [],
   "source": [
    "# If you don't want to give google access to drive you can skip this cell\n",
    "# and manually set `API_KEY` below.\n",
    "\n",
    "COLAB = \"google.colab\" in str(get_ipython())\n",
    "if COLAB:\n",
    "    !pip install colab-env -qU\n",
    "    from colab_env import envvar_handler\n",
    "    envvar_handler.envload()\n",
    "\n",
    "API_KEY = os.environ.get(\"LABELBOX_API_KEY\")\n",
    "if not os.environ.get(\"LABELBOX_API_KEY\"):\n",
    "    API_KEY = getpass(\"Please enter your labelbox api key\")\n",
    "    if COLAB:\n",
    "        envvar_handler.add_env(\"LABELBOX_API_KEY\", API_KEY)"
   ]
  },
  {
   "cell_type": "code",
   "execution_count": 4,
   "id": "affecting-myanmar",
   "metadata": {},
   "outputs": [],
   "source": [
    "ENDPOINT = \"https://api.labelbox.com/graphql\"\n",
    "client = Client(api_key=API_KEY, endpoint = ENDPOINT)"
   ]
  },
  {
   "cell_type": "code",
   "execution_count": 5,
   "id": "saved-monitor",
   "metadata": {},
   "outputs": [
    {
     "name": "stdout",
     "output_type": "stream",
     "text": [
      "WARNING:tensorflow:From /Users/matthewsokoloff/Projects/labelbox-python/examples/model_assisted_labeling/image_model.py:17: load (from tensorflow.python.saved_model.loader_impl) is deprecated and will be removed in a future version.\n",
      "Instructions for updating:\n",
      "This function will only be available through the v1 compatibility library as tf.compat.v1.saved_model.loader.load or tf.compat.v1.saved_model.load. There will be a new function for importing SavedModels in Tensorflow 2.0.\n",
      "INFO:tensorflow:Restoring parameters from gs://cloud-tpu-checkpoints/mask-rcnn/1555659850/variables/variables\n"
     ]
    }
   ],
   "source": [
    "load_model()"
   ]
  },
  {
   "cell_type": "markdown",
   "id": "meaningful-architecture",
   "metadata": {},
   "source": [
    "## Make Inferences"
   ]
  },
  {
   "cell_type": "code",
   "execution_count": 6,
   "id": "labeled-valentine",
   "metadata": {},
   "outputs": [],
   "source": [
    "def get_annotations(boxes, classes, seg_masks):\n",
    "    annotations = []\n",
    "    for box, class_idx, seg in zip(boxes, classes, seg_masks):\n",
    "        name = class_mappings[class_idx]\n",
    "        value = None\n",
    "        classifications = []\n",
    "        if name in ['person', 'handbag']:\n",
    "            value = Rectangle(\n",
    "                start = Point(x = box[1], y = box[0]), end = Point(x = box[3], y = box[2])\n",
    "            )\n",
    "        elif name == 'car':\n",
    "            value = Mask(mask = RasterData.from_2D_arr(arr = seg), color = (1,1,1))            \n",
    "        if value is not None:\n",
    "            annotations.append(\n",
    "                ObjectAnnotation(\n",
    "                    name = name,\n",
    "                    value = value\n",
    "                )\n",
    "            ) \n",
    "    return annotations\n",
    "\n",
    "### We can just start creating predictions whether or not we have a \n",
    "image_urls = ['https://raw.githubusercontent.com/Labelbox/labelbox-python/develop/examples/assets/2560px-Kitano_Street_Kobe01s5s4110.jpg']\n",
    "predictions = LabelList([])\n",
    "\n",
    "for image_url in image_urls:\n",
    "    image_data = RasterData(url = image_url)\n",
    "    height, width = image_data.data.shape[:2]\n",
    "    prediction = predict(np.array([image_data.im_bytes]), min_score=0.5, height=height, width = width)\n",
    "    annotations = get_annotations(prediction['boxes'], prediction['class_indices'], prediction['seg_masks'])\n",
    "    predictions.append(Label(\n",
    "        data = image_data,\n",
    "        annotations = annotations\n",
    "    ))\n",
    "    "
   ]
  },
  {
   "cell_type": "markdown",
   "id": "blessed-venture",
   "metadata": {},
   "source": [
    "## Project Setup"
   ]
  },
  {
   "cell_type": "markdown",
   "id": "formed-morgan",
   "metadata": {},
   "source": [
    "* Create project and attach dataset\n",
    "* Automatically create an ontology from the predictions"
   ]
  },
  {
   "cell_type": "code",
   "execution_count": 7,
   "id": "modern-program",
   "metadata": {},
   "outputs": [
    {
     "data": {
      "text/plain": [
       "True"
      ]
     },
     "execution_count": 7,
     "metadata": {},
     "output_type": "execute_result"
    }
   ],
   "source": [
    "project = client.create_project(name=\"mea_project\")\n",
    "dataset = client.create_dataset(name=\"mea_dataset\")\n",
    "editor = next(\n",
    "    client.get_labeling_frontends(where=LabelingFrontend.name == 'editor'))\n",
    "# Use the label list to build the ontology\n",
    "project.setup(editor, predictions.get_ontology().asdict())\n",
    "project.datasets.connect(dataset)\n",
    "project.enable_model_assisted_labeling()"
   ]
  },
  {
   "cell_type": "markdown",
   "id": "dated-burden",
   "metadata": {},
   "source": [
    "## Add Required Urls and Ids"
   ]
  },
  {
   "cell_type": "code",
   "execution_count": 8,
   "id": "asian-savings",
   "metadata": {},
   "outputs": [
    {
     "name": "stderr",
     "output_type": "stream",
     "text": [
      "1it [00:02,  2.63s/it]\n",
      "1it [00:00, 9986.44it/s]\n",
      "1it [00:00, 10305.42it/s]\n"
     ]
    },
    {
     "data": {
      "text/plain": [
       "<labelbox.data.annotation_types.collection.LabelList at 0x189be0790>"
      ]
     },
     "execution_count": 8,
     "metadata": {},
     "output_type": "execute_result"
    }
   ],
   "source": [
    "signer = lambda _bytes: client.upload_data(content=_bytes, sign=True)\n",
    "predictions.add_url_to_masks(signer) \\\n",
    "         .add_url_to_data(signer) \\\n",
    "         .assign_schema_ids(OntologyBuilder.from_project(project)) \\\n",
    "         .add_to_dataset(dataset, client.upload_data)"
   ]
  },
  {
   "cell_type": "markdown",
   "id": "perfect-seafood",
   "metadata": {},
   "source": [
    "## MAL: Upload Predictions to a Project\n",
    "* Pre-label image so that we can quickly create ground truth\n",
    "* This step is not required for MEA."
   ]
  },
  {
   "cell_type": "code",
   "execution_count": 9,
   "id": "subject-painting",
   "metadata": {},
   "outputs": [
    {
     "name": "stdout",
     "output_type": "stream",
     "text": [
      "AnnotationImportState.FINISHED\n"
     ]
    }
   ],
   "source": [
    "upload_task = MALPredictionImport.create_from_objects(\n",
    "    client, \n",
    "    project.uid, \n",
    "    f'mal-import-{uuid.uuid4()}', \n",
    "    list(NDJsonConverter.serialize(predictions))\n",
    ")\n",
    "upload_task.wait_until_done()\n",
    "print(upload_task.state)"
   ]
  },
  {
   "cell_type": "code",
   "execution_count": 10,
   "id": "pointed-export",
   "metadata": {},
   "outputs": [
    {
     "data": {
      "text/plain": [
       "[{'uuid': 'a1ccac29-37c6-4e07-950d-5b80e5e6dc0d',\n",
       "  'dataRow': {'id': 'ckros7pwl21gr0zu0dai6gg3p'},\n",
       "  'status': 'SUCCESS'},\n",
       " {'uuid': 'ffb4229e-fccb-41fc-8cfd-002896a713ff',\n",
       "  'dataRow': {'id': 'ckros7pwl21gr0zu0dai6gg3p'},\n",
       "  'status': 'SUCCESS'},\n",
       " {'uuid': 'fe9046b6-6727-4b3e-b759-bd0215e11425',\n",
       "  'dataRow': {'id': 'ckros7pwl21gr0zu0dai6gg3p'},\n",
       "  'status': 'SUCCESS'},\n",
       " {'uuid': 'ac33a08d-8fb3-406a-b510-9fd43ac489f6',\n",
       "  'dataRow': {'id': 'ckros7pwl21gr0zu0dai6gg3p'},\n",
       "  'status': 'SUCCESS'},\n",
       " {'uuid': '2f09ae51-8408-47c7-8d77-d3eccc464ce5',\n",
       "  'dataRow': {'id': 'ckros7pwl21gr0zu0dai6gg3p'},\n",
       "  'status': 'SUCCESS'}]"
      ]
     },
     "execution_count": 10,
     "metadata": {},
     "output_type": "execute_result"
    }
   ],
   "source": [
    "upload_task.statuses[:5]"
   ]
  },
  {
   "cell_type": "markdown",
   "id": "stopped-mandate",
   "metadata": {},
   "source": [
    "## Label\n",
    "* Create ground truth data for MEA\n",
    "* Click on link below to label"
   ]
  },
  {
   "cell_type": "code",
   "execution_count": 11,
   "id": "christian-juvenile",
   "metadata": {},
   "outputs": [
    {
     "name": "stdout",
     "output_type": "stream",
     "text": [
      "https://app.labelbox.com/projects/ckros7k5g1qfe0y3v4ddihp0k\n"
     ]
    }
   ],
   "source": [
    "print(f\"https://app.labelbox.com/projects/{project.uid}\")"
   ]
  },
  {
   "cell_type": "code",
   "execution_count": 13,
   "id": "excited-seminar",
   "metadata": {},
   "outputs": [],
   "source": [
    "labels = project.label_generator().as_list()"
   ]
  },
  {
   "cell_type": "markdown",
   "id": "smoking-catering",
   "metadata": {},
   "source": [
    "## MEA\n",
    "1. Create a model\n",
    "    * Think of this as a model that you want to perform experiments on\n",
    "2. Create a model run\n",
    "    * Think of this as a single experiment for a particular model.\n",
    "    * E.g. this model run is for an instance of a model with particular hyperparameters\n",
    "3. Select the ground truth annotations for analysis\n",
    "4. Compute metrics\n",
    "4. Upload model predictions and metrics to labelbox"
   ]
  },
  {
   "cell_type": "code",
   "execution_count": 16,
   "id": "mental-minnesota",
   "metadata": {},
   "outputs": [],
   "source": [
    "model = client.create_model(name = \"test_model\", ontology_id = project.ontology().uid)\n",
    "model_run = model.create_model_run('test_run_1')"
   ]
  },
  {
   "cell_type": "code",
   "execution_count": 17,
   "id": "static-coordinate",
   "metadata": {},
   "outputs": [
    {
     "data": {
      "text/plain": [
       "True"
      ]
     },
     "execution_count": 17,
     "metadata": {},
     "output_type": "execute_result"
    }
   ],
   "source": [
    "model_run.upsert_labels([label.uid for label in labels])"
   ]
  },
  {
   "cell_type": "code",
   "execution_count": 18,
   "id": "attempted-consultancy",
   "metadata": {},
   "outputs": [],
   "source": [
    "label_lookup = {label.data.uid : label for label in labels}"
   ]
  },
  {
   "cell_type": "code",
   "execution_count": 19,
   "id": "committed-fairy",
   "metadata": {},
   "outputs": [],
   "source": [
    "for pred in predictions:\n",
    "    label = label_lookup[pred.data.uid]\n",
    "    score = data_row_miou(label, pred)\n",
    "    if score is None:\n",
    "        continue\n",
    "        \n",
    "    pred.annotations.append(\n",
    "        ScalarMetric(value = score)\n",
    "    )\n",
    "    "
   ]
  },
  {
   "cell_type": "code",
   "execution_count": 20,
   "id": "anonymous-addition",
   "metadata": {},
   "outputs": [],
   "source": [
    "upload_task = model_run.add_predictions(f'mea-import-{uuid.uuid4()}', list(NDJsonConverter.serialize(predictions)))"
   ]
  },
  {
   "cell_type": "code",
   "execution_count": 21,
   "id": "deadly-denmark",
   "metadata": {},
   "outputs": [
    {
     "name": "stdout",
     "output_type": "stream",
     "text": [
      "AnnotationImportState.FINISHED\n"
     ]
    }
   ],
   "source": [
    "upload_task.wait_until_done()\n",
    "print(upload_task.state)"
   ]
  },
  {
   "cell_type": "code",
   "execution_count": 22,
   "id": "stupid-edgar",
   "metadata": {},
   "outputs": [
    {
     "data": {
      "text/plain": [
       "[{'uuid': 'ac0fb4ee-3177-413a-b0e0-75aa2611da27',\n",
       "  'dataRow': {'id': 'ckros7pwl21gr0zu0dai6gg3p'},\n",
       "  'status': 'SUCCESS'},\n",
       " {'uuid': '87f77120-fe38-4d3b-8162-214d910d47f9',\n",
       "  'dataRow': {'id': 'ckros7pwl21gr0zu0dai6gg3p'},\n",
       "  'status': 'SUCCESS'},\n",
       " {'uuid': 'e6103d58-7ebc-4f9f-b59e-3b7ee3a115ef',\n",
       "  'dataRow': {'id': 'ckros7pwl21gr0zu0dai6gg3p'},\n",
       "  'status': 'SUCCESS'},\n",
       " {'uuid': '056366b6-b581-4594-9758-cf64b76e7b93',\n",
       "  'dataRow': {'id': 'ckros7pwl21gr0zu0dai6gg3p'},\n",
       "  'status': 'SUCCESS'},\n",
       " {'uuid': 'f9171df5-511c-4aa2-9042-c15332d5194b',\n",
       "  'dataRow': {'id': 'ckros7pwl21gr0zu0dai6gg3p'},\n",
       "  'status': 'SUCCESS'},\n",
       " {'uuid': '0480cedf-0e9f-442c-b55d-8167ab57fd18',\n",
       "  'dataRow': {'id': 'ckros7pwl21gr0zu0dai6gg3p'},\n",
       "  'status': 'SUCCESS'},\n",
       " {'uuid': 'dac20fe5-c24e-4aec-94f7-8f037617daf8',\n",
       "  'dataRow': {'id': 'ckros7pwl21gr0zu0dai6gg3p'},\n",
       "  'status': 'SUCCESS'},\n",
       " {'uuid': 'd7802b8a-64cc-4fa7-9200-7cfbf62e89c9',\n",
       "  'dataRow': {'id': 'ckros7pwl21gr0zu0dai6gg3p'},\n",
       "  'status': 'SUCCESS'},\n",
       " {'uuid': '795da4b5-a91c-4eaa-a705-0673a1498314',\n",
       "  'dataRow': {'id': 'ckros7pwl21gr0zu0dai6gg3p'},\n",
       "  'status': 'SUCCESS'},\n",
       " {'uuid': 'abfc61c4-d45c-4257-b513-a977c7eaa1c3',\n",
       "  'dataRow': {'id': 'ckros7pwl21gr0zu0dai6gg3p'},\n",
       "  'status': 'SUCCESS'},\n",
       " {'uuid': '9b9e8b95-b3d9-4157-92dc-6dc45610cd5b',\n",
       "  'dataRow': {'id': 'ckros7pwl21gr0zu0dai6gg3p'},\n",
       "  'status': 'SUCCESS'},\n",
       " {'uuid': '0476a496-8610-4d32-b421-c1131036bc70',\n",
       "  'dataRow': {'id': 'ckros7pwl21gr0zu0dai6gg3p'},\n",
       "  'status': 'SUCCESS'},\n",
       " {'uuid': '36c82222-0461-4733-87c0-3969c04e7237',\n",
       "  'dataRow': {'id': 'ckros7pwl21gr0zu0dai6gg3p'},\n",
       "  'status': 'SUCCESS'},\n",
       " {'uuid': 'f5331bde-e3df-4465-87e8-7a2fdea9a8af',\n",
       "  'dataRow': {'id': 'ckros7pwl21gr0zu0dai6gg3p'},\n",
       "  'status': 'SUCCESS'},\n",
       " {'uuid': 'e1c56f8b-dde5-4140-a682-499d60ae5202',\n",
       "  'dataRow': {'id': 'ckros7pwl21gr0zu0dai6gg3p'},\n",
       "  'status': 'SUCCESS'},\n",
       " {'uuid': 'f5a3f918-ba5d-4db2-936e-de24138117ad',\n",
       "  'dataRow': {'id': 'ckros7pwl21gr0zu0dai6gg3p'},\n",
       "  'status': 'SUCCESS'},\n",
       " {'uuid': '202e25e2-166e-494f-a936-52fc8f89d149',\n",
       "  'dataRow': {'id': 'ckros7pwl21gr0zu0dai6gg3p'},\n",
       "  'status': 'SUCCESS'},\n",
       " {'uuid': 'da3721fe-e7ba-425d-9ebf-52198ee767f6',\n",
       "  'dataRow': {'id': 'ckros7pwl21gr0zu0dai6gg3p'},\n",
       "  'status': 'SUCCESS'},\n",
       " {'uuid': 'b1cff9ac-b96d-4922-8140-4ca83e9c5805',\n",
       "  'dataRow': {'id': 'ckros7pwl21gr0zu0dai6gg3p'},\n",
       "  'status': 'SUCCESS'},\n",
       " {'uuid': '892164ea-2c37-4e25-ae1f-524a2ae147c4',\n",
       "  'dataRow': {'id': 'ckros7pwl21gr0zu0dai6gg3p'},\n",
       "  'status': 'SUCCESS'},\n",
       " {'uuid': '9e047ad4-610c-4a03-a058-747abed2159f',\n",
       "  'dataRow': {'id': 'ckros7pwl21gr0zu0dai6gg3p'},\n",
       "  'status': 'SUCCESS'},\n",
       " {'uuid': '861c9073-11ee-4366-b181-15f381a7fac9',\n",
       "  'dataRow': {'id': 'ckros7pwl21gr0zu0dai6gg3p'},\n",
       "  'status': 'SUCCESS'},\n",
       " {'uuid': '7a1cbe7e-b13b-40fe-b1a0-10f6e9c78ef7',\n",
       "  'dataRow': {'id': 'ckros7pwl21gr0zu0dai6gg3p'},\n",
       "  'status': 'SUCCESS'},\n",
       " {'uuid': '9fb70380-c874-4937-bf94-f64f9f02d90c',\n",
       "  'dataRow': {'id': 'ckros7pwl21gr0zu0dai6gg3p'},\n",
       "  'status': 'SUCCESS'},\n",
       " {'uuid': 'a32b30a3-3d19-4662-bd8e-a8840236f97d',\n",
       "  'dataRow': {'id': 'ckros7pwl21gr0zu0dai6gg3p'},\n",
       "  'status': 'SUCCESS'},\n",
       " {'uuid': 'cb746c2d-9ecd-416f-a136-dee5cc2f8a0f',\n",
       "  'dataRow': {'id': 'ckros7pwl21gr0zu0dai6gg3p'},\n",
       "  'status': 'SUCCESS'},\n",
       " {'uuid': 'c87fbadd-50e8-45af-a816-9733061cee23',\n",
       "  'dataRow': {'id': 'ckros7pwl21gr0zu0dai6gg3p'},\n",
       "  'status': 'SUCCESS'},\n",
       " {'uuid': 'c007077f-53dd-4cde-a2e7-5332523145a3',\n",
       "  'dataRow': {'id': 'ckros7pwl21gr0zu0dai6gg3p'},\n",
       "  'status': 'SUCCESS'},\n",
       " {'uuid': '8f472626-2b08-4226-8790-eee9607e6da2',\n",
       "  'dataRow': {'id': 'ckros7pwl21gr0zu0dai6gg3p'},\n",
       "  'status': 'SUCCESS'},\n",
       " {'uuid': '7481c56a-c091-4668-a881-88bfbf895089',\n",
       "  'dataRow': {'id': 'ckros7pwl21gr0zu0dai6gg3p'},\n",
       "  'status': 'SUCCESS'},\n",
       " {'uuid': 'c506b95c-153d-4a5b-8bcb-c38b63c73b41',\n",
       "  'dataRow': {'id': 'ckros7pwl21gr0zu0dai6gg3p'},\n",
       "  'status': 'SUCCESS'},\n",
       " {'uuid': '420639d8-1cfe-485b-b8a3-5e12d65b1df9',\n",
       "  'dataRow': {'id': 'ckros7pwl21gr0zu0dai6gg3p'},\n",
       "  'status': 'SUCCESS'},\n",
       " {'uuid': 'eff30e14-5045-44d7-9003-2f5abea332c8',\n",
       "  'dataRow': {'id': 'ckros7pwl21gr0zu0dai6gg3p'},\n",
       "  'status': 'SUCCESS'},\n",
       " {'uuid': '199ecb75-ec5f-4c62-85c2-98e2ae7515fa',\n",
       "  'dataRow': {'id': 'ckros7pwl21gr0zu0dai6gg3p'},\n",
       "  'status': 'SUCCESS'},\n",
       " {'uuid': '9cab76e4-0e39-493f-ac88-c9f99117be20',\n",
       "  'dataRow': {'id': 'ckros7pwl21gr0zu0dai6gg3p'},\n",
       "  'status': 'SUCCESS'},\n",
       " {'uuid': '64693d4f-4b04-4c95-8a11-77ef5ae87a38',\n",
       "  'dataRow': {'id': 'ckros7pwl21gr0zu0dai6gg3p'},\n",
       "  'status': 'SUCCESS'},\n",
       " {'uuid': '87f20ccb-ec4b-4cf6-97b5-93c0ca50a9a1',\n",
       "  'dataRow': {'id': 'ckros7pwl21gr0zu0dai6gg3p'},\n",
       "  'status': 'SUCCESS'}]"
      ]
     },
     "execution_count": 22,
     "metadata": {},
     "output_type": "execute_result"
    }
   ],
   "source": [
    "upload_task.statuses"
   ]
  },
  {
   "cell_type": "code",
   "execution_count": 23,
   "id": "velvet-bread",
   "metadata": {},
   "outputs": [
    {
     "name": "stdout",
     "output_type": "stream",
     "text": [
      "https://app.labelbox.com/models/9beb00e5-0861-0eef-475e-1cc71824b158/9beb00e5-7a59-021e-d28b-c3319589f88e/AllDatarowsSlice/a8a345b7-d46f-44c8-bf77-237530ce10a1?view=carousel\n"
     ]
    }
   ],
   "source": [
    "# View the uploaded predictions and labels (annotation group) in the web app\n",
    "annotation_group = next(model_run.annotation_groups())\n",
    "print(annotation_group.url)"
   ]
  },
  {
   "cell_type": "code",
   "execution_count": null,
   "id": "organic-shakespeare",
   "metadata": {},
   "outputs": [],
   "source": []
  }
 ],
 "metadata": {
  "kernelspec": {
   "display_name": "Python 3",
   "language": "python",
   "name": "python3"
  },
  "language_info": {
   "codemirror_mode": {
    "name": "ipython",
    "version": 3
   },
   "file_extension": ".py",
   "mimetype": "text/x-python",
   "name": "python",
   "nbconvert_exporter": "python",
   "pygments_lexer": "ipython3",
   "version": "3.8.2"
  }
 },
 "nbformat": 4,
 "nbformat_minor": 5
}
