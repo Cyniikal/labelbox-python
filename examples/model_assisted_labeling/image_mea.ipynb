{
 "cells": [
  {
   "cell_type": "markdown",
   "id": "stupid-court",
   "metadata": {},
   "source": [
    "# Image MEA\n",
    "1. Setup a project\n",
    "2. Import labels with MAL\n",
    "3. Correct the labels in the editor\n",
    "4. Upload labels and predictions for MEA\n",
    "------ "
   ]
  },
  {
   "cell_type": "markdown",
   "id": "subsequent-magic",
   "metadata": {},
   "source": [
    "## Environment Setup\n",
    "* Install dependencies"
   ]
  },
  {
   "cell_type": "code",
   "execution_count": null,
   "id": "voluntary-minister",
   "metadata": {},
   "outputs": [],
   "source": [
    "!pip install labelbox==2.7b1 \\\n",
    "             requests \\\n",
    "             ndjson \\\n",
    "             scikit-image \\\n",
    "             PILLOW \\\n",
    "             tensorflow \\\n",
    "             opencv-python"
   ]
  },
  {
   "cell_type": "code",
   "execution_count": 1,
   "id": "wooden-worship",
   "metadata": {},
   "outputs": [],
   "source": [
    "# Run these if running in a colab notebook\n",
    "COLAB = \"google.colab\" in str(get_ipython())\n",
    "if COLAB:\n",
    "    !git clone https://github.com/Labelbox/labelbox-python.git\n",
    "    !cd labelbox-python && git checkout mea-dev\n",
    "    !mv labelbox-python/examples/model_assisted_labeling/*.py ."
   ]
  },
  {
   "cell_type": "markdown",
   "id": "latter-leone",
   "metadata": {},
   "source": [
    "* Import libraries"
   ]
  },
  {
   "cell_type": "code",
   "execution_count": 2,
   "id": "committed-richards",
   "metadata": {},
   "outputs": [],
   "source": [
    "from labelbox.schema.ontology import OntologyBuilder, Tool\n",
    "from labelbox import Client, LabelingFrontend, MALPredictionImport\n",
    "from image_model import predict, class_mappings, load_model\n",
    "from io import BytesIO\n",
    "from getpass import getpass\n",
    "import uuid\n",
    "import numpy as np\n",
    "from PIL import Image\n",
    "import requests\n",
    "from collections import defaultdict\n",
    "import ndjson\n",
    "import os\n",
    "from ndjson_utils import (\n",
    "    create_boxes_ndjson, \n",
    "    create_polygon_ndjson, \n",
    "    create_mask_ndjson, \n",
    "    create_point_ndjson\n",
    ")\n",
    "from labelbox.data.metrics.iou import data_row_miou\n",
    "from labelbox.data.serialization import NDJsonConverter\n",
    "from labelbox.data.annotation_types import ScalarMetric, LabelList, Label, RasterData, Mask, Point, Rectangle, ObjectAnnotation"
   ]
  },
  {
   "cell_type": "markdown",
   "id": "alternate-promotion",
   "metadata": {},
   "source": [
    "* Configure client"
   ]
  },
  {
   "cell_type": "code",
   "execution_count": 3,
   "id": "economic-chase",
   "metadata": {},
   "outputs": [],
   "source": [
    "# If you don't want to give google access to drive you can skip this cell\n",
    "# and manually set `API_KEY` below.\n",
    "\n",
    "COLAB = \"google.colab\" in str(get_ipython())\n",
    "if COLAB:\n",
    "    !pip install colab-env -qU\n",
    "    from colab_env import envvar_handler\n",
    "    envvar_handler.envload()\n",
    "\n",
    "API_KEY = os.environ.get(\"LABELBOX_API_KEY\")\n",
    "if not os.environ.get(\"LABELBOX_API_KEY\"):\n",
    "    API_KEY = getpass(\"Please enter your labelbox api key\")\n",
    "    if COLAB:\n",
    "        envvar_handler.add_env(\"LABELBOX_API_KEY\", API_KEY)"
   ]
  },
  {
   "cell_type": "code",
   "execution_count": 4,
   "id": "affecting-myanmar",
   "metadata": {},
   "outputs": [],
   "source": [
    "ENDPOINT = \"https://api.labelbox.com/graphql\"\n",
    "client = Client(api_key=API_KEY, endpoint = ENDPOINT)"
   ]
  },
  {
   "cell_type": "code",
   "execution_count": 5,
   "id": "saved-monitor",
   "metadata": {},
   "outputs": [
    {
     "name": "stdout",
     "output_type": "stream",
     "text": [
      "WARNING:tensorflow:From /Users/matthewsokoloff/Projects/labelbox-python/examples/model_assisted_labeling/image_model.py:17: load (from tensorflow.python.saved_model.loader_impl) is deprecated and will be removed in a future version.\n",
      "Instructions for updating:\n",
      "This function will only be available through the v1 compatibility library as tf.compat.v1.saved_model.loader.load or tf.compat.v1.saved_model.load. There will be a new function for importing SavedModels in Tensorflow 2.0.\n",
      "INFO:tensorflow:Restoring parameters from gs://cloud-tpu-checkpoints/mask-rcnn/1555659850/variables/variables\n"
     ]
    }
   ],
   "source": [
    "load_model()"
   ]
  },
  {
   "cell_type": "markdown",
   "id": "meaningful-architecture",
   "metadata": {},
   "source": [
    "## Make Inferences"
   ]
  },
  {
   "cell_type": "code",
   "execution_count": 6,
   "id": "labeled-valentine",
   "metadata": {},
   "outputs": [],
   "source": [
    "def get_annotations(boxes, classes, seg_masks):\n",
    "    annotations = []\n",
    "    for box, class_idx, seg in zip(boxes, classes, seg_masks):\n",
    "        name = class_mappings[class_idx]\n",
    "        value = None\n",
    "        classifications = []\n",
    "        if name in ['person', 'handbag']:\n",
    "            value = Rectangle(\n",
    "                start = Point(x = box[1], y = box[0]), end = Point(x = box[3], y = box[2])\n",
    "            )\n",
    "        elif name == 'car':\n",
    "            value = Mask(mask = RasterData.from_2D_arr(arr = seg), color = (1,1,1))            \n",
    "        if value is not None:\n",
    "            annotations.append(\n",
    "                ObjectAnnotation(\n",
    "                    name = name,\n",
    "                    value = value\n",
    "                )\n",
    "            ) \n",
    "    return annotations\n",
    "\n",
    "### We can just start creating predictions whether or not we have a \n",
    "image_urls = ['https://raw.githubusercontent.com/Labelbox/labelbox-python/develop/examples/assets/2560px-Kitano_Street_Kobe01s5s4110.jpg']\n",
    "predictions = LabelList([])\n",
    "\n",
    "for image_url in image_urls:\n",
    "    image_data = RasterData(url = image_url)\n",
    "    height, width = image_data.data.shape[:2]\n",
    "    prediction = predict(np.array([image_data.im_bytes]), min_score=0.5, height=height, width = width)\n",
    "    annotations = get_annotations(prediction['boxes'], prediction['class_indices'], prediction['seg_masks'])\n",
    "    predictions.append(Label(\n",
    "        data = image_data,\n",
    "        annotations = annotations\n",
    "    ))\n",
    "    "
   ]
  },
  {
   "cell_type": "markdown",
   "id": "blessed-venture",
   "metadata": {},
   "source": [
    "## Project Setup"
   ]
  },
  {
   "cell_type": "markdown",
   "id": "formed-morgan",
   "metadata": {},
   "source": [
    "* Create project and attach dataset\n",
    "* Automatically create an ontology from the predictions"
   ]
  },
  {
   "cell_type": "code",
   "execution_count": 7,
   "id": "modern-program",
   "metadata": {},
   "outputs": [
    {
     "data": {
      "text/plain": [
       "True"
      ]
     },
     "execution_count": 7,
     "metadata": {},
     "output_type": "execute_result"
    }
   ],
   "source": [
    "project = client.create_project(name=\"mea_project\")\n",
    "dataset = client.create_dataset(name=\"mea_dataset\")\n",
    "editor = next(\n",
    "    client.get_labeling_frontends(where=LabelingFrontend.name == 'editor'))\n",
    "# Use the label list to build the ontology\n",
    "project.setup(editor, predictions.get_ontology().asdict())\n",
    "project.datasets.connect(dataset)\n",
    "project.enable_model_assisted_labeling()"
   ]
  },
  {
   "cell_type": "markdown",
   "id": "dated-burden",
   "metadata": {},
   "source": [
    "## Add Required Urls and Ids"
   ]
  },
  {
   "cell_type": "code",
   "execution_count": 8,
   "id": "asian-savings",
   "metadata": {},
   "outputs": [
    {
     "name": "stderr",
     "output_type": "stream",
     "text": [
      "1it [00:02,  2.40s/it]\n",
      "1it [00:00, 8830.11it/s]\n",
      "1it [00:00, 261.38it/s]\n"
     ]
    },
    {
     "data": {
      "text/plain": [
       "<labelbox.data.annotation_types.collection.LabelList at 0x1854dbac0>"
      ]
     },
     "execution_count": 8,
     "metadata": {},
     "output_type": "execute_result"
    }
   ],
   "source": [
    "signer = lambda _bytes: client.upload_data(content=_bytes, sign=True)\n",
    "predictions.add_url_to_masks(signer) \\\n",
    "         .add_url_to_data(signer) \\\n",
    "         .assign_schema_ids(OntologyBuilder.from_project(project)) \\\n",
    "         .add_to_dataset(dataset, signer)"
   ]
  },
  {
   "cell_type": "markdown",
   "id": "perfect-seafood",
   "metadata": {},
   "source": [
    "## MAL: Upload Predictions to a Project\n",
    "* Pre-label image so that we can quickly create ground truth\n",
    "* This step is not required for MEA."
   ]
  },
  {
   "cell_type": "code",
   "execution_count": 9,
   "id": "subject-painting",
   "metadata": {},
   "outputs": [
    {
     "name": "stdout",
     "output_type": "stream",
     "text": [
      "AnnotationImportState.FINISHED\n"
     ]
    }
   ],
   "source": [
    "upload_task = MALPredictionImport.create_from_objects(\n",
    "    client, \n",
    "    project.uid, \n",
    "    f'mal-import-{uuid.uuid4()}', \n",
    "    list(NDJsonConverter.serialize(predictions))\n",
    ")\n",
    "upload_task.wait_until_done()\n",
    "print(upload_task.state)"
   ]
  },
  {
   "cell_type": "code",
   "execution_count": 10,
   "id": "pointed-export",
   "metadata": {},
   "outputs": [
    {
     "data": {
      "text/plain": [
       "[{'uuid': '3b3ea434-ed2b-455c-a558-f271c0e61f02',\n",
       "  'dataRow': {'id': 'ckrmmj0mb0nnq0zt7c7150ycn'},\n",
       "  'status': 'SUCCESS'},\n",
       " {'uuid': 'f526b18e-6ef5-4406-8e0e-2b9c6b1461d5',\n",
       "  'dataRow': {'id': 'ckrmmj0mb0nnq0zt7c7150ycn'},\n",
       "  'status': 'SUCCESS'},\n",
       " {'uuid': '432af859-da16-4983-9d10-7f3453b0fb51',\n",
       "  'dataRow': {'id': 'ckrmmj0mb0nnq0zt7c7150ycn'},\n",
       "  'status': 'SUCCESS'},\n",
       " {'uuid': 'c9ec723e-c34f-413a-bde5-81f2986018b7',\n",
       "  'dataRow': {'id': 'ckrmmj0mb0nnq0zt7c7150ycn'},\n",
       "  'status': 'SUCCESS'},\n",
       " {'uuid': '09aef802-ec84-4114-bd59-c88e53cf47a3',\n",
       "  'dataRow': {'id': 'ckrmmj0mb0nnq0zt7c7150ycn'},\n",
       "  'status': 'SUCCESS'}]"
      ]
     },
     "execution_count": 10,
     "metadata": {},
     "output_type": "execute_result"
    }
   ],
   "source": [
    "upload_task.statuses[:5]"
   ]
  },
  {
   "cell_type": "markdown",
   "id": "stopped-mandate",
   "metadata": {},
   "source": [
    "## Label\n",
    "* Create ground truth data for MEA\n",
    "* Click on link below to label"
   ]
  },
  {
   "cell_type": "code",
   "execution_count": 11,
   "id": "christian-juvenile",
   "metadata": {},
   "outputs": [
    {
     "name": "stdout",
     "output_type": "stream",
     "text": [
      "https://app.labelbox.com/projects/ckrmmiwe30ejg0y8tgeev6slv\n"
     ]
    }
   ],
   "source": [
    "print(f\"https://app.labelbox.com/projects/{project.uid}\")"
   ]
  },
  {
   "cell_type": "code",
   "execution_count": 12,
   "id": "excited-seminar",
   "metadata": {},
   "outputs": [],
   "source": [
    "labels = project.export_labels().as_list()"
   ]
  },
  {
   "cell_type": "markdown",
   "id": "smoking-catering",
   "metadata": {},
   "source": [
    "## MEA\n",
    "1. Create a model\n",
    "    * Think of this as a model that you want to perform experiments on\n",
    "2. Create a model run\n",
    "    * Think of this as a single experiment for a particular model.\n",
    "    * E.g. this model run is for an instance of a model with particular hyperparameters\n",
    "3. Select the ground truth annotations for analysis\n",
    "4. Compute metrics\n",
    "4. Upload model predictions and metrics to labelbox"
   ]
  },
  {
   "cell_type": "code",
   "execution_count": 14,
   "id": "mental-minnesota",
   "metadata": {},
   "outputs": [],
   "source": [
    "model = client.create_model(name = \"test-model-12\", ontology_id = project.ontology().uid)\n",
    "model_run = model.create_model_run('test-run-1')"
   ]
  },
  {
   "cell_type": "code",
   "execution_count": 15,
   "id": "static-coordinate",
   "metadata": {},
   "outputs": [
    {
     "data": {
      "text/plain": [
       "True"
      ]
     },
     "execution_count": 15,
     "metadata": {},
     "output_type": "execute_result"
    }
   ],
   "source": [
    "model_run.upsert_labels([label.uid for label in labels])"
   ]
  },
  {
   "cell_type": "code",
   "execution_count": 16,
   "id": "attempted-consultancy",
   "metadata": {},
   "outputs": [],
   "source": [
    "label_lookup = {label.data.uid : label for label in labels}"
   ]
  },
  {
   "cell_type": "code",
   "execution_count": 17,
   "id": "committed-fairy",
   "metadata": {},
   "outputs": [],
   "source": [
    "for pred in predictions:\n",
    "    label = label_lookup[pred.data.uid]\n",
    "    score = data_row_miou(label, pred)\n",
    "    if score is None:\n",
    "        continue\n",
    "        \n",
    "    pred.annotations.append(\n",
    "        ScalarMetric(value = score)\n",
    "    )\n",
    "    "
   ]
  },
  {
   "cell_type": "code",
   "execution_count": 18,
   "id": "anonymous-addition",
   "metadata": {},
   "outputs": [],
   "source": [
    "upload_task = model_run.add_predictions(f'mea-import-{uuid.uuid4()}', list(NDJsonConverter.serialize(predictions)))"
   ]
  },
  {
   "cell_type": "code",
   "execution_count": 19,
   "id": "deadly-denmark",
   "metadata": {},
   "outputs": [
    {
     "name": "stdout",
     "output_type": "stream",
     "text": [
      "AnnotationImportState.FINISHED\n"
     ]
    }
   ],
   "source": [
    "upload_task.wait_until_done()\n",
    "print(upload_task.state)"
   ]
  },
  {
   "cell_type": "code",
   "execution_count": 20,
   "id": "stupid-edgar",
   "metadata": {},
   "outputs": [
    {
     "data": {
      "text/plain": [
       "[{'uuid': 'ad91e2bc-052e-4469-a4f8-728cf7ae381e',\n",
       "  'dataRow': {'id': 'ckrmmj0mb0nnq0zt7c7150ycn'},\n",
       "  'status': 'SUCCESS'},\n",
       " {'uuid': '63754cd5-b592-4767-8527-2a519efef604',\n",
       "  'dataRow': {'id': 'ckrmmj0mb0nnq0zt7c7150ycn'},\n",
       "  'status': 'SUCCESS'},\n",
       " {'uuid': 'c4ae076e-85de-4339-8e70-1fe7f16d55df',\n",
       "  'dataRow': {'id': 'ckrmmj0mb0nnq0zt7c7150ycn'},\n",
       "  'status': 'SUCCESS'},\n",
       " {'uuid': '9dd46cd7-0a9c-4089-a7b0-e394f505fbbc',\n",
       "  'dataRow': {'id': 'ckrmmj0mb0nnq0zt7c7150ycn'},\n",
       "  'status': 'SUCCESS'},\n",
       " {'uuid': '8baed202-e172-4204-8e84-a26e90154882',\n",
       "  'dataRow': {'id': 'ckrmmj0mb0nnq0zt7c7150ycn'},\n",
       "  'status': 'SUCCESS'},\n",
       " {'uuid': '88a8efe3-6682-4120-8268-700212e7a67a',\n",
       "  'dataRow': {'id': 'ckrmmj0mb0nnq0zt7c7150ycn'},\n",
       "  'status': 'SUCCESS'},\n",
       " {'uuid': 'b43d1284-3927-46ea-9529-ef1ce6ee15aa',\n",
       "  'dataRow': {'id': 'ckrmmj0mb0nnq0zt7c7150ycn'},\n",
       "  'status': 'SUCCESS'},\n",
       " {'uuid': '0b03bcf7-7335-48b5-a6b0-3db9b78c04a0',\n",
       "  'dataRow': {'id': 'ckrmmj0mb0nnq0zt7c7150ycn'},\n",
       "  'status': 'SUCCESS'},\n",
       " {'uuid': '93892462-84f0-4088-b062-68b375965681',\n",
       "  'dataRow': {'id': 'ckrmmj0mb0nnq0zt7c7150ycn'},\n",
       "  'status': 'SUCCESS'},\n",
       " {'uuid': '7d83b0f0-e8cd-4f00-9e02-deb92ccf3c0e',\n",
       "  'dataRow': {'id': 'ckrmmj0mb0nnq0zt7c7150ycn'},\n",
       "  'status': 'SUCCESS'},\n",
       " {'uuid': '8831cb43-ceaa-4ef2-b25a-e68ac1e80d98',\n",
       "  'dataRow': {'id': 'ckrmmj0mb0nnq0zt7c7150ycn'},\n",
       "  'status': 'SUCCESS'},\n",
       " {'uuid': '81889c46-d174-4a39-935c-883a8f0203f8',\n",
       "  'dataRow': {'id': 'ckrmmj0mb0nnq0zt7c7150ycn'},\n",
       "  'status': 'SUCCESS'},\n",
       " {'uuid': 'a8cc73f6-6733-457b-913e-e2c7f9f554b4',\n",
       "  'dataRow': {'id': 'ckrmmj0mb0nnq0zt7c7150ycn'},\n",
       "  'status': 'SUCCESS'},\n",
       " {'uuid': '23f39dd8-54d4-4f35-87bd-2e1fcb87b568',\n",
       "  'dataRow': {'id': 'ckrmmj0mb0nnq0zt7c7150ycn'},\n",
       "  'status': 'SUCCESS'},\n",
       " {'uuid': 'f09ede5b-d1a3-4ef1-8507-0fc92437bd42',\n",
       "  'dataRow': {'id': 'ckrmmj0mb0nnq0zt7c7150ycn'},\n",
       "  'status': 'SUCCESS'},\n",
       " {'uuid': 'da82555c-3ebf-4c88-967f-dde888c4fc16',\n",
       "  'dataRow': {'id': 'ckrmmj0mb0nnq0zt7c7150ycn'},\n",
       "  'status': 'SUCCESS'},\n",
       " {'uuid': '51f4f1bb-3292-4bef-ab4e-2f1e81c3a53a',\n",
       "  'dataRow': {'id': 'ckrmmj0mb0nnq0zt7c7150ycn'},\n",
       "  'status': 'SUCCESS'},\n",
       " {'uuid': '1d88771e-8d8d-4a7a-b6a2-9c5995a0954c',\n",
       "  'dataRow': {'id': 'ckrmmj0mb0nnq0zt7c7150ycn'},\n",
       "  'status': 'SUCCESS'},\n",
       " {'uuid': '89b3db1d-795a-47f5-a611-2b86583979b8',\n",
       "  'dataRow': {'id': 'ckrmmj0mb0nnq0zt7c7150ycn'},\n",
       "  'status': 'SUCCESS'},\n",
       " {'uuid': '2f9c0b29-12a1-4fc7-9ce6-c2f363d3ed32',\n",
       "  'dataRow': {'id': 'ckrmmj0mb0nnq0zt7c7150ycn'},\n",
       "  'status': 'SUCCESS'},\n",
       " {'uuid': 'c168583d-5536-40bc-bf89-2feb81d42e45',\n",
       "  'dataRow': {'id': 'ckrmmj0mb0nnq0zt7c7150ycn'},\n",
       "  'status': 'SUCCESS'},\n",
       " {'uuid': 'c57c4154-4cbc-43fb-a5d6-c923bb00d1d2',\n",
       "  'dataRow': {'id': 'ckrmmj0mb0nnq0zt7c7150ycn'},\n",
       "  'status': 'SUCCESS'},\n",
       " {'uuid': 'ac832c4d-f8aa-4526-b2f2-c44899f69584',\n",
       "  'dataRow': {'id': 'ckrmmj0mb0nnq0zt7c7150ycn'},\n",
       "  'status': 'SUCCESS'},\n",
       " {'uuid': 'd404f53b-a1da-404d-8ae5-8ac92cf69bf8',\n",
       "  'dataRow': {'id': 'ckrmmj0mb0nnq0zt7c7150ycn'},\n",
       "  'status': 'SUCCESS'},\n",
       " {'uuid': 'b52f4921-cc21-4b95-8396-d15ab7b2269d',\n",
       "  'dataRow': {'id': 'ckrmmj0mb0nnq0zt7c7150ycn'},\n",
       "  'status': 'SUCCESS'},\n",
       " {'uuid': 'e15ff10e-c7d8-4afd-aec9-3653a91ed38e',\n",
       "  'dataRow': {'id': 'ckrmmj0mb0nnq0zt7c7150ycn'},\n",
       "  'status': 'SUCCESS'},\n",
       " {'uuid': '298b4bd5-fcae-4ccd-b089-8afbee9a9759',\n",
       "  'dataRow': {'id': 'ckrmmj0mb0nnq0zt7c7150ycn'},\n",
       "  'status': 'SUCCESS'},\n",
       " {'uuid': '4308713e-4cca-460a-b29e-ee906b5f0b8c',\n",
       "  'dataRow': {'id': 'ckrmmj0mb0nnq0zt7c7150ycn'},\n",
       "  'status': 'SUCCESS'},\n",
       " {'uuid': 'c934eab3-442f-4336-bbca-011d495a8552',\n",
       "  'dataRow': {'id': 'ckrmmj0mb0nnq0zt7c7150ycn'},\n",
       "  'status': 'SUCCESS'},\n",
       " {'uuid': '5d1cbd43-72b5-44f0-a855-b1bbb1c5be62',\n",
       "  'dataRow': {'id': 'ckrmmj0mb0nnq0zt7c7150ycn'},\n",
       "  'status': 'SUCCESS'},\n",
       " {'uuid': '70a18184-b323-4df5-b3b1-b92847ca8cc5',\n",
       "  'dataRow': {'id': 'ckrmmj0mb0nnq0zt7c7150ycn'},\n",
       "  'status': 'SUCCESS'},\n",
       " {'uuid': '05f9dcf2-085f-407f-a849-24f659be87d7',\n",
       "  'dataRow': {'id': 'ckrmmj0mb0nnq0zt7c7150ycn'},\n",
       "  'status': 'SUCCESS'},\n",
       " {'uuid': '89dc192e-8a22-43ca-b846-32fbb7426c49',\n",
       "  'dataRow': {'id': 'ckrmmj0mb0nnq0zt7c7150ycn'},\n",
       "  'status': 'SUCCESS'},\n",
       " {'uuid': 'b8f818f5-f709-4eda-a4ca-ff9852a3fcc2',\n",
       "  'dataRow': {'id': 'ckrmmj0mb0nnq0zt7c7150ycn'},\n",
       "  'status': 'SUCCESS'},\n",
       " {'uuid': 'e27d4739-1899-4e58-9709-4ad1b8500931',\n",
       "  'dataRow': {'id': 'ckrmmj0mb0nnq0zt7c7150ycn'},\n",
       "  'status': 'SUCCESS'},\n",
       " {'uuid': '30eda6e7-49f7-407d-ad08-6689e314b8be',\n",
       "  'dataRow': {'id': 'ckrmmj0mb0nnq0zt7c7150ycn'},\n",
       "  'status': 'SUCCESS'},\n",
       " {'uuid': 'cd0b9e61-fc1b-4521-84ee-b051587cb9e2',\n",
       "  'dataRow': {'id': 'ckrmmj0mb0nnq0zt7c7150ycn'},\n",
       "  'status': 'SUCCESS'}]"
      ]
     },
     "execution_count": 20,
     "metadata": {},
     "output_type": "execute_result"
    }
   ],
   "source": [
    "upload_task.statuses"
   ]
  },
  {
   "cell_type": "code",
   "execution_count": 21,
   "id": "velvet-bread",
   "metadata": {},
   "outputs": [
    {
     "name": "stdout",
     "output_type": "stream",
     "text": [
      "https://app.labelbox.com/models/9be7cdc9-3023-066a-1301-7a63c52ff702/9be7cdc9-a7df-012f-ba56-12f894603b29/AllDatarowsSlice/e6e30c8e-1b2c-4478-8304-b9766cec0cb4?view=carousel\n"
     ]
    }
   ],
   "source": [
    "# View the uploaded predictions and labels (annotation group) in the web app\n",
    "annotation_group = next(model_run.annotation_groups())\n",
    "print(annotation_group.url)"
   ]
  },
  {
   "cell_type": "code",
   "execution_count": null,
   "id": "organic-shakespeare",
   "metadata": {},
   "outputs": [],
   "source": []
  }
 ],
 "metadata": {
  "kernelspec": {
   "display_name": "Python 3",
   "language": "python",
   "name": "python3"
  },
  "language_info": {
   "codemirror_mode": {
    "name": "ipython",
    "version": 3
   },
   "file_extension": ".py",
   "mimetype": "text/x-python",
   "name": "python",
   "nbconvert_exporter": "python",
   "pygments_lexer": "ipython3",
   "version": "3.8.2"
  }
 },
 "nbformat": 4,
 "nbformat_minor": 5
}
