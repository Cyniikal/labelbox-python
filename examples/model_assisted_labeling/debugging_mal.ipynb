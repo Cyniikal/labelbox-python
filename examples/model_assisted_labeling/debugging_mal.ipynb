{
 "cells": [
  {
   "cell_type": "markdown",
   "id": "immediate-characteristic",
   "metadata": {},
   "source": [
    "# Debugging MAL\n",
    "* When MAL Uploads aren't working you can follow some of the steps in this guide"
   ]
  },
  {
   "cell_type": "markdown",
   "id": "continental-remedy",
   "metadata": {},
   "source": [
    "#### 1: Make sure that model assisted labeling is turned on for your project.\n",
    "    * You can do that from the web ui or with the following code:\n",
    "``` project.enable_model_assisted_labeling()```"
   ]
  },
  {
   "cell_type": "markdown",
   "id": "formal-weight",
   "metadata": {},
   "source": [
    "#### 2: Make sure your import objects or import file matches the following structure:\n",
    "    * https://docs.labelbox.com/en/model-assisted-labeling/create-import-file"
   ]
  },
  {
   "cell_type": "markdown",
   "id": "secret-sport",
   "metadata": {},
   "source": [
    "#### 3: Make sure your import objects or import file matches the following:\n",
    "    * Make sure validate is set to true (it is by default) on your upload (Make sure you are using sdk version > 2.5.1)\n",
    "\n",
    "    "
   ]
  },
  {
   "cell_type": "markdown",
   "id": "third-catholic",
   "metadata": {},
   "source": [
    "#### Reading validation Errors:\n",
    "* We get an mal validation error:\n",
    "* ```MALValidationError: Invalid NDJson on line 0('Invalid NDJson on line 0', None)```\n",
    "* This means that line 0 (the first example), was invalid.\n",
    "---\n",
    "* We can see why it was invalid up above the MALValidationError. \n",
    "* The origianal error was a ValuError because we are attempting to attach an example to a data row that is not in the project\n",
    "--- \n",
    "* Errors will be thrown for incorrect or missing keys\n",
    "* invalid datarow or schema ids\n",
    "* invalid data types\n"
   ]
  },
  {
   "cell_type": "code",
   "execution_count": null,
   "id": "american-confusion",
   "metadata": {},
   "outputs": [],
   "source": [
    "#Note that the following code is run when you perform backup. \n",
    "#You don't need to use it directly. This section will show you how to read the error\n",
    "from labelbox.schema.bulk_import_request import  _validate_ndjson\n",
    "from labelbox import Client\n",
    "import ndjson\n",
    "import requests\n",
    "import uuid"
   ]
  },
  {
   "cell_type": "code",
   "execution_count": 11,
   "id": "cross-assumption",
   "metadata": {},
   "outputs": [],
   "source": [
    "poly_example = {\n",
    "    \"uuid\": \"1b5762e9-416c-44cf-9a5f-07effb51f863\",\n",
    "    \"schemaId\": \"cklwioouo0on20y7q9gque2ty\", #polygon schema id\n",
    "    \"dataRow\": {\n",
    "         \"id\": \"cjxav4aa07r1g0dsq70t9eveg\"\n",
    "     },\n",
    "     \"polygon\": [{\"x\": 2,\"y\": 99},{\"x\": 93,\"y\": 5},{\"x\": 51,\"y\": 106},{\"x\": 176,\"y\": 142}]\n",
    "}\n",
    "\n",
    "client = Client()\n",
    "project = client.get_project(\"ckk4q1viuc0w20704eh69u28h\")\n"
   ]
  },
  {
   "cell_type": "code",
   "execution_count": 19,
   "id": "monetary-catalyst",
   "metadata": {},
   "outputs": [
    {
     "data": {
      "text/plain": [
       "'cklv1sm2r1neg0y9n314hcr87'"
      ]
     },
     "execution_count": 19,
     "metadata": {},
     "output_type": "execute_result"
    }
   ],
   "source": [
    "list(list(project.datasets())[0].data_rows())[0].uid"
   ]
  },
  {
   "cell_type": "code",
   "execution_count": 14,
   "id": "designing-cricket",
   "metadata": {},
   "outputs": [
    {
     "ename": "MALValidationError",
     "evalue": "Invalid NDJson on line 0('Invalid NDJson on line 0', None)",
     "output_type": "error",
     "traceback": [
      "\u001b[0;31m---------------------------------------------------------------------------\u001b[0m",
      "\u001b[0;31mValueError\u001b[0m                                Traceback (most recent call last)",
      "\u001b[0;32m~/Library/Python/3.8/lib/python/site-packages/labelbox/schema/bulk_import_request.py\u001b[0m in \u001b[0;36m_validate_ndjson\u001b[0;34m(lines, project)\u001b[0m\n\u001b[1;32m    346\u001b[0m             \u001b[0mannotation\u001b[0m \u001b[0;34m=\u001b[0m \u001b[0mNDAnnotation\u001b[0m\u001b[0;34m(\u001b[0m\u001b[0;34m**\u001b[0m\u001b[0mline\u001b[0m\u001b[0;34m)\u001b[0m\u001b[0;34m\u001b[0m\u001b[0;34m\u001b[0m\u001b[0m\n\u001b[0;32m--> 347\u001b[0;31m             \u001b[0mannotation\u001b[0m\u001b[0;34m.\u001b[0m\u001b[0mvalidate_instance\u001b[0m\u001b[0;34m(\u001b[0m\u001b[0mdata_row_ids\u001b[0m\u001b[0;34m,\u001b[0m \u001b[0mfeature_schemas\u001b[0m\u001b[0;34m)\u001b[0m\u001b[0;34m\u001b[0m\u001b[0;34m\u001b[0m\u001b[0m\n\u001b[0m\u001b[1;32m    348\u001b[0m             \u001b[0muuid\u001b[0m \u001b[0;34m=\u001b[0m \u001b[0mstr\u001b[0m\u001b[0;34m(\u001b[0m\u001b[0mannotation\u001b[0m\u001b[0;34m.\u001b[0m\u001b[0muuid\u001b[0m\u001b[0;34m)\u001b[0m\u001b[0;34m\u001b[0m\u001b[0;34m\u001b[0m\u001b[0m\n",
      "\u001b[0;32m~/Library/Python/3.8/lib/python/site-packages/labelbox/schema/bulk_import_request.py\u001b[0m in \u001b[0;36mvalidate_instance\u001b[0;34m(self, valid_datarows, valid_feature_schemas)\u001b[0m\n\u001b[1;32m    545\u001b[0m         \u001b[0mself\u001b[0m\u001b[0;34m.\u001b[0m\u001b[0mvalidate_feature_schemas\u001b[0m\u001b[0;34m(\u001b[0m\u001b[0mvalid_feature_schemas\u001b[0m\u001b[0;34m)\u001b[0m\u001b[0;34m\u001b[0m\u001b[0;34m\u001b[0m\u001b[0m\n\u001b[0;32m--> 546\u001b[0;31m         \u001b[0mself\u001b[0m\u001b[0;34m.\u001b[0m\u001b[0mvalidate_datarow\u001b[0m\u001b[0;34m(\u001b[0m\u001b[0mvalid_datarows\u001b[0m\u001b[0;34m)\u001b[0m\u001b[0;34m\u001b[0m\u001b[0;34m\u001b[0m\u001b[0m\n\u001b[0m\u001b[1;32m    547\u001b[0m \u001b[0;34m\u001b[0m\u001b[0m\n",
      "\u001b[0;32m~/Library/Python/3.8/lib/python/site-packages/labelbox/schema/bulk_import_request.py\u001b[0m in \u001b[0;36mvalidate_datarow\u001b[0;34m(self, valid_datarows)\u001b[0m\n\u001b[1;32m    528\u001b[0m         \u001b[0;32mif\u001b[0m \u001b[0mself\u001b[0m\u001b[0;34m.\u001b[0m\u001b[0mdataRow\u001b[0m\u001b[0;34m.\u001b[0m\u001b[0mid\u001b[0m \u001b[0;32mnot\u001b[0m \u001b[0;32min\u001b[0m \u001b[0mvalid_datarows\u001b[0m\u001b[0;34m:\u001b[0m\u001b[0;34m\u001b[0m\u001b[0;34m\u001b[0m\u001b[0m\n\u001b[0;32m--> 529\u001b[0;31m             raise ValueError(\n\u001b[0m\u001b[1;32m    530\u001b[0m                 \u001b[0;34mf\"datarow {self.dataRow.id} is not attached to the specified project\"\u001b[0m\u001b[0;34m\u001b[0m\u001b[0;34m\u001b[0m\u001b[0m\n",
      "\u001b[0;31mValueError\u001b[0m: datarow cjxav4aa07r1g0dsq70t9eveg is not attached to the specified project",
      "\nThe above exception was the direct cause of the following exception:\n",
      "\u001b[0;31mMALValidationError\u001b[0m                        Traceback (most recent call last)",
      "\u001b[0;32m<ipython-input-14-65d39958fcdc>\u001b[0m in \u001b[0;36m<module>\u001b[0;34m\u001b[0m\n\u001b[0;32m----> 1\u001b[0;31m \u001b[0m_validate_ndjson\u001b[0m\u001b[0;34m(\u001b[0m\u001b[0;34m[\u001b[0m\u001b[0mpoly_example\u001b[0m\u001b[0;34m]\u001b[0m\u001b[0;34m,\u001b[0m \u001b[0mproject\u001b[0m\u001b[0;34m)\u001b[0m\u001b[0;34m\u001b[0m\u001b[0;34m\u001b[0m\u001b[0m\n\u001b[0m\u001b[1;32m      2\u001b[0m \u001b[0;34m\u001b[0m\u001b[0m\n",
      "\u001b[0;32m~/Library/Python/3.8/lib/python/site-packages/labelbox/schema/bulk_import_request.py\u001b[0m in \u001b[0;36m_validate_ndjson\u001b[0;34m(lines, project)\u001b[0m\n\u001b[1;32m    353\u001b[0m             \u001b[0muids\u001b[0m\u001b[0;34m.\u001b[0m\u001b[0madd\u001b[0m\u001b[0;34m(\u001b[0m\u001b[0muuid\u001b[0m\u001b[0;34m)\u001b[0m\u001b[0;34m\u001b[0m\u001b[0;34m\u001b[0m\u001b[0m\n\u001b[1;32m    354\u001b[0m         \u001b[0;32mexcept\u001b[0m \u001b[0;34m(\u001b[0m\u001b[0mpydantic\u001b[0m\u001b[0;34m.\u001b[0m\u001b[0mValidationError\u001b[0m\u001b[0;34m,\u001b[0m \u001b[0mValueError\u001b[0m\u001b[0;34m,\u001b[0m \u001b[0mTypeError\u001b[0m\u001b[0;34m,\u001b[0m \u001b[0mKeyError\u001b[0m\u001b[0;34m)\u001b[0m \u001b[0;32mas\u001b[0m \u001b[0me\u001b[0m\u001b[0;34m:\u001b[0m\u001b[0;34m\u001b[0m\u001b[0;34m\u001b[0m\u001b[0m\n\u001b[0;32m--> 355\u001b[0;31m             raise labelbox.exceptions.MALValidationError(\n\u001b[0m\u001b[1;32m    356\u001b[0m                 f\"Invalid NDJson on line {idx}\") from e\n\u001b[1;32m    357\u001b[0m \u001b[0;34m\u001b[0m\u001b[0m\n",
      "\u001b[0;31mMALValidationError\u001b[0m: Invalid NDJson on line 0('Invalid NDJson on line 0', None)"
     ]
    }
   ],
   "source": [
    "_validate_ndjson([poly_example], project)"
   ]
  },
  {
   "cell_type": "markdown",
   "id": "animated-potter",
   "metadata": {},
   "source": [
    "#### Reading MAL Errors\n",
    "* If your upload passes client side validation checks, there is still a chance of server side failures.\n",
    "* There are two urls for checking the status of your upload\n",
    "    * bulk_import_request.status_file_url\n",
    "    * bulk_import_request.error_file_url"
   ]
  },
  {
   "cell_type": "code",
   "execution_count": 25,
   "id": "thick-juvenile",
   "metadata": {},
   "outputs": [],
   "source": [
    "invalid_example = poly_example.copy()\n",
    "invalid_example['polygon'] = [{\"x\": 2,\"y\": 99}]\n",
    "\n",
    "#Old way:\n",
    "name = str(uuid.uuid4())\n",
    "bulk_import_request = project.upload_annotations(\n",
    "    name=name, \n",
    "    annotations=[poly_example, invalid_example], \n",
    "    validate = False #Turn this off or it will raise the error on the client side\n",
    ")\n",
    "bulk_import_request.wait_until_done()\n"
   ]
  },
  {
   "cell_type": "code",
   "execution_count": 28,
   "id": "stock-correction",
   "metadata": {},
   "outputs": [
    {
     "data": {
      "text/plain": [
       "[{'uuid': '1b5762e9-416c-44cf-9a5f-07effb51f863',\n",
       "  'dataRow': {'id': 'cjxav4aa07r1g0dsq70t9eveg'},\n",
       "  'status': 'FAILURE',\n",
       "  'errors': [{'name': 'DataRowNotFound',\n",
       "    'message': 'dataRow.id cjxav4aa07r1g0dsq70t9eveg invalid',\n",
       "    'additionalInfo': None}]},\n",
       " {'uuid': '1b5762e9-416c-44cf-9a5f-07effb51f863',\n",
       "  'dataRow': {'id': 'cjxav4aa07r1g0dsq70t9eveg'},\n",
       "  'status': 'FAILURE',\n",
       "  'errors': [{'name': 'DataRowNotFound',\n",
       "    'message': 'dataRow.id cjxav4aa07r1g0dsq70t9eveg invalid',\n",
       "    'additionalInfo': None},\n",
       "   {'name': 'GeometryInvalid',\n",
       "    'message': 'Invalid geometry: Each linear ring must contain at least 4 positions',\n",
       "    'additionalInfo': None}]}]"
      ]
     },
     "execution_count": 28,
     "metadata": {},
     "output_type": "execute_result"
    }
   ],
   "source": [
    "#Lets check the status:\n",
    "ndjson.loads(requests.get(bulk_import_request.status_file_url).text)"
   ]
  },
  {
   "cell_type": "code",
   "execution_count": 31,
   "id": "square-david",
   "metadata": {},
   "outputs": [],
   "source": [
    "#We can see that we are using invalid datarows (they don't belong to the project we are uploading to)\n",
    "#and that the geometry is invalid."
   ]
  },
  {
   "cell_type": "code",
   "execution_count": null,
   "id": "clean-grave",
   "metadata": {},
   "outputs": [],
   "source": []
  }
 ],
 "metadata": {
  "kernelspec": {
   "display_name": "Python 3",
   "language": "python",
   "name": "python3"
  },
  "language_info": {
   "codemirror_mode": {
    "name": "ipython",
    "version": 3
   },
   "file_extension": ".py",
   "mimetype": "text/x-python",
   "name": "python",
   "nbconvert_exporter": "python",
   "pygments_lexer": "ipython3",
   "version": "3.8.2"
  }
 },
 "nbformat": 4,
 "nbformat_minor": 5
}
