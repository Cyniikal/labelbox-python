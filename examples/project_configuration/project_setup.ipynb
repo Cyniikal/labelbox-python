{
 "cells": [
  {
   "cell_type": "markdown",
   "id": "boxed-football",
   "metadata": {},
   "source": [
    "# Project Setup\n",
    "* This section describes how to create and configure a project"
   ]
  },
  {
   "cell_type": "code",
   "execution_count": 7,
   "id": "ordered-notice",
   "metadata": {},
   "outputs": [],
   "source": [
    "from labelbox import Client, Project, LabelingFrontend\n",
    "from labelbox.schema.ontology import Tool, OntologyBuilder\n",
    "client = Client()"
   ]
  },
  {
   "cell_type": "markdown",
   "id": "least-stone",
   "metadata": {},
   "source": [
    "### Identify project, dataset, and ontology"
   ]
  },
  {
   "cell_type": "code",
   "execution_count": 5,
   "id": "mobile-south",
   "metadata": {},
   "outputs": [],
   "source": [
    "ontology_builder = OntologyBuilder(tools = [\n",
    "    Tool(name = \"cat\", tool = Tool.Type.BBOX)\n",
    "])\n",
    "project = client.create_project(name = \"my_new_project\")\n",
    "dataset = client.create_dataset(name = \"my_new_dataset\")\n",
    "#Add data_rows (see basics/dataset to do this)"
   ]
  },
  {
   "cell_type": "code",
   "execution_count": 8,
   "id": "neural-scanning",
   "metadata": {},
   "outputs": [],
   "source": [
    "#Unless you are using a custom editor you should always use the following editor:\n",
    "editor = next(client.get_labeling_frontends(where=LabelingFrontend.name == \"Editor\"))"
   ]
  },
  {
   "cell_type": "code",
   "execution_count": 11,
   "id": "attended-twist",
   "metadata": {},
   "outputs": [],
   "source": [
    "#Note that you can use any dataset or ontology even if they already exist.\n",
    "existing_project = client.get_project(\"ckm4xyfncfgja0760vpfdxoro\")\n",
    "ontology = existing_project.ontology()"
   ]
  },
  {
   "cell_type": "markdown",
   "id": "limiting-bleeding",
   "metadata": {},
   "source": [
    "### Setup and attach dataset"
   ]
  },
  {
   "cell_type": "code",
   "execution_count": 9,
   "id": "reserved-vietnam",
   "metadata": {},
   "outputs": [],
   "source": [
    "project.setup(editor, ontology_builder.asdict())\n",
    "# Could also do if ontology is a normalized ontology\n",
    "# project.setup(editor, ontology.normalized)"
   ]
  },
  {
   "cell_type": "code",
   "execution_count": 10,
   "id": "unexpected-vegetarian",
   "metadata": {},
   "outputs": [],
   "source": [
    "project.datasets.connect(dataset)"
   ]
  },
  {
   "cell_type": "markdown",
   "id": "afraid-trademark",
   "metadata": {},
   "source": [
    "### Review"
   ]
  },
  {
   "cell_type": "code",
   "execution_count": 16,
   "id": "vanilla-diamond",
   "metadata": {},
   "outputs": [
    {
     "name": "stdout",
     "output_type": "stream",
     "text": [
      "2021-03-17 12:35:00+00:00\n",
      "<labelbox.orm.db_object.RelationshipManager object at 0x1046030d0>\n",
      "['my_new_dataset']\n"
     ]
    }
   ],
   "source": [
    "#Note setup_complete will be None if it fails.\n",
    "print(project.setup_complete)\n",
    "print(project.ontology)\n",
    "print([ds.name for ds in project.datasets()])"
   ]
  },
  {
   "cell_type": "code",
   "execution_count": null,
   "id": "graphic-minimum",
   "metadata": {},
   "outputs": [],
   "source": []
  }
 ],
 "metadata": {
  "kernelspec": {
   "display_name": "Python 3",
   "language": "python",
   "name": "python3"
  },
  "language_info": {
   "codemirror_mode": {
    "name": "ipython",
    "version": 3
   },
   "file_extension": ".py",
   "mimetype": "text/x-python",
   "name": "python",
   "nbconvert_exporter": "python",
   "pygments_lexer": "ipython3",
   "version": "3.8.2"
  }
 },
 "nbformat": 4,
 "nbformat_minor": 5
}
