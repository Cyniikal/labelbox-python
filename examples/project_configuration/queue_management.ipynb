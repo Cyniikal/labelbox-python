{
 "cells": [
  {
   "cell_type": "markdown",
   "id": "official-miniature",
   "metadata": {},
   "source": [
    "# Queue Management"
   ]
  },
  {
   "cell_type": "markdown",
   "id": "asian-retrieval",
   "metadata": {},
   "source": [
    "* The queue is used to task labelers with specific examples\n",
    "* We can do any of the following:\n",
    "    * Set the number of times we want an image labeled\n",
    "        * Referred to as `Consensus` in the front end\n",
    "    * Set the order of items in the queue\n",
    "    * Set the percent of assets to review"
   ]
  },
  {
   "cell_type": "code",
   "execution_count": 3,
   "id": "twenty-region",
   "metadata": {},
   "outputs": [],
   "source": [
    "from labelbox import Client, Project, Dataset, LabelingFrontend\n",
    "from labelbox.schema.ontology import OntologyBuilder\n",
    "import numpy as np\n",
    "from PIL import Image, ImageDraw,ImageFont\n",
    "from io import BytesIO"
   ]
  },
  {
   "cell_type": "markdown",
   "id": "prerequisite-choir",
   "metadata": {},
   "source": [
    "### Set up demo project"
   ]
  },
  {
   "cell_type": "code",
   "execution_count": 4,
   "id": "loved-reconstruction",
   "metadata": {},
   "outputs": [],
   "source": [
    "#We are going to create a new project for this\n",
    "#Checkout the project_setup notebook for more details on this cell.\n",
    "client = Client()\n",
    "project = client.create_project(name = \"queue_project\")\n",
    "dataset = client.create_dataset(name = \"queue_dataset\")\n",
    "editor = next(client.get_labeling_frontends(where = LabelingFrontend.name == 'editor'))\n",
    "project.setup(editor, OntologyBuilder().asdict()) #empty ontology since we aren't actually labeling..\n",
    "project.datasets.connect(dataset)"
   ]
  },
  {
   "cell_type": "code",
   "execution_count": 5,
   "id": "antique-tonight",
   "metadata": {},
   "outputs": [],
   "source": [
    "def make_digit_image(digit):\n",
    "    font = ImageFont.truetype(\"Verdana.ttf\",128)\n",
    "    img = Image.fromarray(np.zeros((500,500,3), dtype = np.uint8))\n",
    "    draw = ImageDraw.Draw(img)\n",
    "    draw.text((200, 180), str(digit), font = font)\n",
    "    return img"
   ]
  },
  {
   "cell_type": "code",
   "execution_count": 8,
   "id": "operating-browse",
   "metadata": {},
   "outputs": [],
   "source": [
    "#Ok so lets add these to the project\n",
    "for idx in range(15):\n",
    "    img = make_digit_image(idx + 1)\n",
    "    img_bytes = BytesIO()\n",
    "    img.save(img_bytes, format = \"jpeg\")\n",
    "    row_data = client.upload_data(img_bytes.getvalue(), content_type ='image/jpeg')\n",
    "    dataset.create_data_row(row_data=row_data,external_id = f\"queue_{idx + 1}\")"
   ]
  },
  {
   "cell_type": "code",
   "execution_count": 26,
   "id": "subject-manufacturer",
   "metadata": {},
   "outputs": [
    {
     "data": {
      "image/png": "[encoded data removed]",
      "text/plain": [
       "<PIL.Image.Image image mode=RGB size=128x128 at 0x1069A34C0>"
      ]
     },
     "execution_count": 26,
     "metadata": {},
     "output_type": "execute_result"
    }
   ],
   "source": [
    "#Example image\n",
    "img.resize((128,128))"
   ]
  },
  {
   "cell_type": "markdown",
   "id": "revolutionary-guard",
   "metadata": {},
   "source": [
    "# Set Queue Order"
   ]
  },
  {
   "cell_type": "code",
   "execution_count": 10,
   "id": "available-obligation",
   "metadata": {},
   "outputs": [],
   "source": [
    "data_rows = list(dataset.data_rows())\n",
    "#project.set_labeling_parameter_overrides(data)"
   ]
  },
  {
   "cell_type": "code",
   "execution_count": 11,
   "id": "experienced-fairy",
   "metadata": {},
   "outputs": [],
   "source": [
    "priorities = []\n",
    "for data_row in data_rows:\n",
    "    priorities.append(\n",
    "        (data_row, int(data_row.external_id.split('_')[-1]), 1)\n",
    "    )"
   ]
  },
  {
   "cell_type": "code",
   "execution_count": 12,
   "id": "tropical-steal",
   "metadata": {},
   "outputs": [
    {
     "name": "stdout",
     "output_type": "stream",
     "text": [
      "(<DataRow ID: ckmdk068i0a100z8zer957sig>, 1, 1)\n",
      "(<DataRow ID: ckmdk071z098u0y9geqsk00on>, 2, 1)\n",
      "(<DataRow ID: ckmdk07sf084r0yaxczz02glq>, 3, 1)\n",
      "(<DataRow ID: ckmdk08ff0a1e0z8z4sjnfrph>, 4, 1)\n",
      "(<DataRow ID: ckmdk08yy0djc0y829kizfmye>, 5, 1)\n",
      "(<DataRow ID: ckmdk09vk09lx0y7g15ti1qrp>, 6, 1)\n",
      "(<DataRow ID: ckmdk0aj0085f0yaxhx8g6bi3>, 7, 1)\n",
      "(<DataRow ID: ckmdk0b2g099h0y9gezcu9bzx>, 8, 1)\n",
      "(<DataRow ID: ckmdk0bp1099n0y9gbgznhvod>, 9, 1)\n",
      "(<DataRow ID: ckmdk0dgj0a2d0z8z0uu6dr5e>, 10, 1)\n",
      "(<DataRow ID: ckmdk0e2e09mk0y7gdadngi7v>, 11, 1)\n",
      "(<DataRow ID: ckmdk0es60dk60y82d7zg7qpc>, 12, 1)\n",
      "(<DataRow ID: ckmdk0fhq09a90y9gbgfq1zz5>, 13, 1)\n",
      "(<DataRow ID: ckmdk0fzs08620yaxfwd8cd1c>, 14, 1)\n",
      "(<DataRow ID: ckmdk0gq00dkr0y82edsy8o3f>, 15, 1)\n"
     ]
    }
   ],
   "source": [
    "#Ordered by external_id\n",
    "for priority in priorities:\n",
    "    print(priority)"
   ]
  },
  {
   "cell_type": "code",
   "execution_count": 13,
   "id": "awful-valve",
   "metadata": {},
   "outputs": [
    {
     "data": {
      "text/plain": [
       "True"
      ]
     },
     "execution_count": 13,
     "metadata": {},
     "output_type": "execute_result"
    }
   ],
   "source": [
    "project.set_labeling_parameter_overrides(priorities)"
   ]
  },
  {
   "cell_type": "code",
   "execution_count": 19,
   "id": "insured-enterprise",
   "metadata": {},
   "outputs": [
    {
     "data": {
      "text/plain": [
       "True"
      ]
     },
     "execution_count": 19,
     "metadata": {},
     "output_type": "execute_result"
    }
   ],
   "source": [
    "#Go to your project and you should see the numbers appear in order."
   ]
  },
  {
   "cell_type": "markdown",
   "id": "incorporated-serbia",
   "metadata": {},
   "source": [
    "### Set number of duplicates\n",
    "* Here we set a duplicate of 2.\n",
    "* If you have two accounts to log into the project from, both users will get the same 15 images in order.\n",
    "* Even from one account you will see it works by skipping a single image and then go to the project overview\n",
    "    * You will see 29 remaining with 1 skipped (15 images 2 copies of each)."
   ]
  },
  {
   "cell_type": "code",
   "execution_count": 21,
   "id": "cutting-format",
   "metadata": {},
   "outputs": [
    {
     "data": {
      "text/plain": [
       "True"
      ]
     },
     "execution_count": 21,
     "metadata": {},
     "output_type": "execute_result"
    }
   ],
   "source": [
    "#Images will still be labeled in the same order (determined by p[1])\n",
    "#But now each image will be labeled 2 times (never by the same user. \n",
    "#(If you don't have at least 3 users the items will remain in the queue.)\n",
    "duplicate_priorities = [(p[0], p[1], 2) for p in priorities]\n",
    "project.set_labeling_parameter_overrides(duplicate_priorities)"
   ]
  },
  {
   "cell_type": "markdown",
   "id": "charged-classics",
   "metadata": {},
   "source": [
    "### Remove Queue Order\n",
    "* This will delete all of the priorities\n",
    "* Duplicates in the queue will also be cleared"
   ]
  },
  {
   "cell_type": "code",
   "execution_count": 22,
   "id": "selected-expert",
   "metadata": {},
   "outputs": [
    {
     "data": {
      "text/plain": [
       "True"
      ]
     },
     "execution_count": 22,
     "metadata": {},
     "output_type": "execute_result"
    }
   ],
   "source": [
    "project.unset_labeling_parameter_overrides(data_rows)"
   ]
  },
  {
   "cell_type": "markdown",
   "id": "random-lover",
   "metadata": {},
   "source": [
    "* Go to the project and you will see 14 remaining with 1 skipped (was 29.)"
   ]
  },
  {
   "cell_type": "markdown",
   "id": "tribal-bundle",
   "metadata": {},
   "source": [
    "### Review Queue\n",
    "* Set the percent of labels to be reviewed "
   ]
  },
  {
   "cell_type": "code",
   "execution_count": 25,
   "id": "christian-boxing",
   "metadata": {},
   "outputs": [],
   "source": [
    "#You can set the percent of labels to be sent to the review queue by running \n",
    "#Can be 0 to 1 representing 0 to 100%\n",
    "project.upsert_review_queue(0.2)"
   ]
  },
  {
   "cell_type": "markdown",
   "id": "southern-brunswick",
   "metadata": {},
   "source": [
    "* Go to the project at the bottom you will see the `training data quality` section.\n",
    "* Coverage should be 20%"
   ]
  },
  {
   "cell_type": "code",
   "execution_count": null,
   "id": "married-gnome",
   "metadata": {},
   "outputs": [],
   "source": []
  }
 ],
 "metadata": {
  "kernelspec": {
   "display_name": "Python 3",
   "language": "python",
   "name": "python3"
  },
  "language_info": {
   "codemirror_mode": {
    "name": "ipython",
    "version": 3
   },
   "file_extension": ".py",
   "mimetype": "text/x-python",
   "name": "python",
   "nbconvert_exporter": "python",
   "pygments_lexer": "ipython3",
   "version": "3.8.2"
  }
 },
 "nbformat": 4,
 "nbformat_minor": 5
}
